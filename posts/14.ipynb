{
 "cells": [
  {
   "cell_type": "markdown",
   "metadata": {},
   "source": [
    "## 2018/12/21(金)にPyData Osakaの梅キャンPython勉強会コラボ回でpybind11について発表しました ##\n",
    "\n",
    "ブログ記事にするのが遅くなりましたが2018/12/21に[【大阪工業大学】特別回 梅キャンPython勉強会【梅田キャンパス】 ](https://studygroup-umecanoit.connpass.com/event/110422/)でpybind11に関する発表を行いました。\n",
    "下記はその際の資料になります。"
   ]
  },
  {
   "cell_type": "markdown",
   "metadata": {
    "slideshow": {
     "slide_type": "slide"
    }
   },
   "source": [
    "## pybind11の紹介 ##\n",
    "\n",
    "大橋宏正(PyDataオーガナイザー)"
   ]
  },
  {
   "cell_type": "markdown",
   "metadata": {
    "slideshow": {
     "slide_type": "slide"
    }
   },
   "source": [
    "### 自己紹介 ###\n",
    "\n",
    "* 大橋 宏正(@wrist)\n",
    "* PyDataオーガナイザー\n",
    "* 某メーカー勤務\n",
    "    * 音響信号処理屋"
   ]
  },
  {
   "cell_type": "markdown",
   "metadata": {
    "slideshow": {
     "slide_type": "slide"
    }
   },
   "source": [
    "### pybind11とは ###\n",
    "\n",
    "* C拡張モジュールをc++11で作成するためのライブラリ\n",
    "* ヘッダオンリー\n",
    "* numpy, Eigen連携\n",
    "* https://ep2017.europython.eu/media/conference/slides/pybind11-seamless-operability-between-c11-and-python.pdf"
   ]
  },
  {
   "cell_type": "markdown",
   "metadata": {
    "slideshow": {
     "slide_type": "slide"
    }
   },
   "source": [
    "### 他のライブラリとの比較 ###\n",
    "\n",
    "* Python C API\n",
    "    * 自分で参照カウント制御が必要\n",
    "    * 学習障壁が高い\n",
    "* ctypes\n",
    "    * dllがあればビルド不要で使える\n",
    "    * 返り値や引数の型を厳密に設定する必要有"
   ]
  },
  {
   "cell_type": "markdown",
   "metadata": {
    "slideshow": {
     "slide_type": "subslide"
    }
   },
   "source": [
    "* cython\n",
    "    * pyxの独自記法を覚える必要\n",
    "    * 一旦pyxファイルをcにコンパイル\n",
    "        * 更にcファイルをコンパイル\n",
    "* Boost.python\n",
    "    * Boostが必要\n",
    "    * 便利だが巨大でありコンパイルに時間がかかる"
   ]
  },
  {
   "cell_type": "markdown",
   "metadata": {
    "slideshow": {
     "slide_type": "slide"
    }
   },
   "source": [
    "### インストール ###\n",
    "\n",
    "* https://github.com/pybind/pybind11\n",
    "* pipでインストール可能"
   ]
  },
  {
   "cell_type": "code",
   "execution_count": 1,
   "metadata": {
    "slideshow": {
     "slide_type": "subslide"
    }
   },
   "outputs": [
    {
     "name": "stdout",
     "output_type": "stream",
     "text": [
      "Requirement already satisfied: pybind11 in /Users/wrist/.pyenv/versions/miniconda3-4.3.30/envs/py36/lib/python3.6/site-packages (2.2.4)\r\n"
     ]
    }
   ],
   "source": [
    "!pip install pybind11"
   ]
  },
  {
   "cell_type": "markdown",
   "metadata": {
    "slideshow": {
     "slide_type": "slide"
    }
   },
   "source": [
    "### ipybind ###\n",
    "\n",
    "* pybind11のjupyter拡張\n",
    "* jupyter notebookのセルから実行可能\n",
    "* https://github.com/aldanor/ipybind"
   ]
  },
  {
   "cell_type": "markdown",
   "metadata": {
    "slideshow": {
     "slide_type": "subslide"
    }
   },
   "source": [
    "### ipybindのインストール ###\n",
    "\n",
    "* リポジトリをクローン\n",
    "* `python setup.py build`\n",
    "* `python setup.py install`"
   ]
  },
  {
   "cell_type": "markdown",
   "metadata": {
    "slideshow": {
     "slide_type": "slide"
    }
   },
   "source": [
    "### 使ってみる ###\n",
    "\n",
    "* ipybind経由でpybind11を使用\n",
    "* 最初に`load_ext`でipybindを有効化"
   ]
  },
  {
   "cell_type": "code",
   "execution_count": 2,
   "metadata": {
    "slideshow": {
     "slide_type": "subslide"
    }
   },
   "outputs": [
    {
     "data": {
      "application/javascript": [
       "\n",
       "    require(['notebook/js/codecell'], function(cc) {\n",
       "        cc.CodeCell.options_default.highlight_modes['magic_text/x-c++src'] =\n",
       "            {reg: [/^\\s*%%pybind11/]};\n",
       "    });\n",
       "    "
      ]
     },
     "metadata": {},
     "output_type": "display_data"
    },
    {
     "data": {
      "text/html": [
       "\n",
       "    <style>\n",
       "    .cm-s-ipython span.cm-variable-3 {\n",
       "        color: #208ffb;\n",
       "        font-weight: bold;\n",
       "    }\n",
       "    </style>\n",
       "    "
      ]
     },
     "metadata": {},
     "output_type": "display_data"
    }
   ],
   "source": [
    "%load_ext ipybind"
   ]
  },
  {
   "cell_type": "markdown",
   "metadata": {
    "slideshow": {
     "slide_type": "subslide"
    }
   },
   "source": [
    "### pybind11の基本 ###\n",
    "\n",
    "* `PYBIND_MODULE(モジュール名, m)`\n",
    "* `m.def(公開名, 関数へのポインタ, 説明)`"
   ]
  },
  {
   "cell_type": "code",
   "execution_count": 3,
   "metadata": {
    "slideshow": {
     "slide_type": "subslide"
    }
   },
   "outputs": [],
   "source": [
    "%%pybind11\n",
    "\n",
    "int add(int x, int y){\n",
    "    return x + y;\n",
    "}\n",
    "\n",
    "PYBIND11_MODULE(myadd, m){\n",
    "    m.def(\"c_add\", &add, \"Add two integers.\");\n",
    "}"
   ]
  },
  {
   "cell_type": "code",
   "execution_count": 4,
   "metadata": {
    "slideshow": {
     "slide_type": "subslide"
    }
   },
   "outputs": [
    {
     "data": {
      "text/plain": [
       "3"
      ]
     },
     "execution_count": 4,
     "metadata": {},
     "output_type": "execute_result"
    }
   ],
   "source": [
    "c_add(1, 2)"
   ]
  },
  {
   "cell_type": "code",
   "execution_count": 5,
   "metadata": {
    "slideshow": {
     "slide_type": "subslide"
    }
   },
   "outputs": [
    {
     "name": "stdout",
     "output_type": "stream",
     "text": [
      "Help on built-in function c_add in module pybind11_3e2e466:\n",
      "\n",
      "c_add(...) method of builtins.PyCapsule instance\n",
      "    c_add(arg0: int, arg1: int) -> int\n",
      "    \n",
      "    Add two integers.\n",
      "\n"
     ]
    }
   ],
   "source": [
    "help(c_add)"
   ]
  },
  {
   "cell_type": "code",
   "execution_count": 6,
   "metadata": {
    "slideshow": {
     "slide_type": "subslide"
    }
   },
   "outputs": [],
   "source": [
    "# c_add(\"foo\", \"bar\")"
   ]
  },
  {
   "cell_type": "code",
   "execution_count": 7,
   "metadata": {
    "slideshow": {
     "slide_type": "subslide"
    }
   },
   "outputs": [],
   "source": [
    "%%pybind11\n",
    "\n",
    "PYBIND11_MODULE(myadd, m){\n",
    "    m.def(\"lambda_add\", [](int a, int b){ return a + b;},\n",
    "         \"Add two integers.\");\n",
    "}"
   ]
  },
  {
   "cell_type": "code",
   "execution_count": 8,
   "metadata": {
    "slideshow": {
     "slide_type": "subslide"
    }
   },
   "outputs": [
    {
     "data": {
      "text/plain": [
       "3"
      ]
     },
     "execution_count": 8,
     "metadata": {},
     "output_type": "execute_result"
    }
   ],
   "source": [
    "lambda_add(1, 2)"
   ]
  },
  {
   "cell_type": "markdown",
   "metadata": {
    "slideshow": {
     "slide_type": "subslide"
    }
   },
   "source": [
    "### その他のコンパイル方法 ###\n",
    "\n",
    "* 手動ビルド\n",
    "* distutils\n",
    "    * setup.pyを書く\n",
    "* cmake\n",
    "    * `pybind11_add_module(myadd myadd.cpp)`"
   ]
  },
  {
   "cell_type": "markdown",
   "metadata": {
    "slideshow": {
     "slide_type": "slide"
    }
   },
   "source": [
    " ### 単純なクラスをラップ ###\n",
    " \n",
    "* c++のクラスを定義\n",
    "* pybind11でラップ\n",
    "    * `py::classs_<C++クラス名>(m, 公開クラス名)`"
   ]
  },
  {
   "cell_type": "code",
   "execution_count": 9,
   "metadata": {
    "slideshow": {
     "slide_type": "subslide"
    }
   },
   "outputs": [],
   "source": [
    "%%pybind11\n",
    "\n",
    "namespace py = pybind11;\n",
    "\n",
    "class Coordinate {\n",
    "public:\n",
    "    int x_;\n",
    "    int y_;\n",
    "    Coordinate(){ x_ = 0; y_ = 0; }\n",
    "    Coordinate(int x, int y){ x_ = x; y_ = y; }\n",
    "    float Norm(){ return sqrt(x_*x_ + y_*y_); }\n",
    "};\n",
    "\n",
    "PYBIND11_MODULE(coord, m) {\n",
    "    py::class_<Coordinate>(m, \"Coordinate\")\n",
    "        .def(py::init<>())\n",
    "        .def(py::init<int, int>())\n",
    "        .def_readonly(\"x\", &Coordinate::x_)\n",
    "        .def_readonly(\"y\", &Coordinate::y_)\n",
    "        .def_property_readonly(\"norm\", &Coordinate::Norm);\n",
    "}"
   ]
  },
  {
   "cell_type": "markdown",
   "metadata": {
    "slideshow": {
     "slide_type": "subslide"
    }
   },
   "source": [
    "### コンストラクタの定義 ###\n",
    "\n",
    "* `... .def(py::init<オーバーロード引数>())`\n",
    "\n",
    "```cpp\n",
    "    Coordinate(){ x_ = 0; y_ = 0; }\n",
    "    Coordinate(int x, int y){ x_ = x; y_ = y; }\n",
    "```\n",
    "は下記のように記載\n",
    "```cpp\n",
    "    py::class_<Coordinate>(m, \"Coordinate\")\n",
    "        .def(py::init<>())\n",
    "        .def(py::init<int, int>())\n",
    "```"
   ]
  },
  {
   "cell_type": "markdown",
   "metadata": {
    "slideshow": {
     "slide_type": "subslide"
    }
   },
   "source": [
    "### プロパティの定義 ###\n",
    "\n",
    "* `... .def_readonly(公開変数名, メンバへのポインタ)`\n",
    "\n",
    "```cpp\n",
    "    py::class_<Coordinate>(m, \"Coordinate\")\n",
    "        .def_readonly(\"x\", &Coordinate::x_)\n",
    "        .def_readonly(\"y\", &Coordinate::y_)\n",
    "```"
   ]
  },
  {
   "cell_type": "markdown",
   "metadata": {
    "slideshow": {
     "slide_type": "subslide"
    }
   },
   "source": [
    "### computed propetyの定義 ###\n",
    "\n",
    "* `... .def_propety_readonly(公開変数名, 計算関数へのポインタ)`\n",
    "\n",
    "```cpp\n",
    "    float Norm(){ return sqrt(x_*x_ + y_*y_); }\n",
    "```\n",
    "は\n",
    "```cpp\n",
    "    .def_property_readonly(\"norm\", &Coordinate::Norm);\n",
    "```"
   ]
  },
  {
   "cell_type": "code",
   "execution_count": 10,
   "metadata": {
    "slideshow": {
     "slide_type": "subslide"
    }
   },
   "outputs": [
    {
     "data": {
      "text/plain": [
       "<pybind11_c19ca2a.Coordinate at 0x10ba96df8>"
      ]
     },
     "execution_count": 10,
     "metadata": {},
     "output_type": "execute_result"
    }
   ],
   "source": [
    "point = Coordinate(3, 4)\n",
    "point"
   ]
  },
  {
   "cell_type": "code",
   "execution_count": 11,
   "metadata": {
    "slideshow": {
     "slide_type": "subslide"
    }
   },
   "outputs": [
    {
     "name": "stdout",
     "output_type": "stream",
     "text": [
      "3 4\n"
     ]
    }
   ],
   "source": [
    "print(point.x, point.y)"
   ]
  },
  {
   "cell_type": "code",
   "execution_count": 12,
   "metadata": {
    "slideshow": {
     "slide_type": "subslide"
    }
   },
   "outputs": [
    {
     "data": {
      "text/plain": [
       "5.0"
      ]
     },
     "execution_count": 12,
     "metadata": {},
     "output_type": "execute_result"
    }
   ],
   "source": [
    "point.norm"
   ]
  },
  {
   "cell_type": "markdown",
   "metadata": {
    "slideshow": {
     "slide_type": "slide"
    }
   },
   "source": [
    "### さらなる例 ###\n",
    "\n",
    "* 演算子オーバーロード、python特殊メソッド\n",
    "* docstring、引数名、キーワード引数\n",
    "* `*arg, **kwarg`"
   ]
  },
  {
   "cell_type": "markdown",
   "metadata": {
    "slideshow": {
     "slide_type": "slide"
    }
   },
   "source": [
    "### 演算子オーバーロード ###\n",
    "\n",
    "* 等値演算子\n",
    "   * cppだと`bool operator==(const Cls& rhs)`\n",
    "   * pythonだと`Cls.__eq__(self, other)`\n",
    "   * これらを対応付ける"
   ]
  },
  {
   "cell_type": "code",
   "execution_count": 13,
   "metadata": {
    "slideshow": {
     "slide_type": "subslide"
    }
   },
   "outputs": [
    {
     "data": {
      "text/plain": [
       "True"
      ]
     },
     "execution_count": 13,
     "metadata": {},
     "output_type": "execute_result"
    }
   ],
   "source": [
    "int.__eq__(1, 1)"
   ]
  },
  {
   "cell_type": "code",
   "execution_count": 14,
   "metadata": {
    "slideshow": {
     "slide_type": "subslide"
    }
   },
   "outputs": [],
   "source": [
    "%%pybind11\n",
    "\n",
    "namespace py = pybind11;\n",
    "\n",
    "class Coordinate2 {\n",
    "public:\n",
    "    int x_; int y_;\n",
    "    Coordinate2(){ x_ = 0; y_ = 0; }\n",
    "    Coordinate2(int x, int y){ x_ = x; y_ = y; }\n",
    "    bool operator==(const Coordinate2& rhs){\n",
    "        return (x_ == rhs.x_) && (y_ == rhs.y_);\n",
    "    }\n",
    "};\n",
    "\n",
    "PYBIND11_MODULE(coord2, m) {\n",
    "    py::class_<Coordinate2>(m, \"Coordinate2\")\n",
    "        .def(py::init<>())\n",
    "        .def(py::init<int, int>())\n",
    "        .def_readonly(\"x\", &Coordinate2::x_)\n",
    "        .def_readonly(\"y\", &Coordinate2::y_)\n",
    "        .def(\"__eq__\", &Coordinate2::operator==);\n",
    "}"
   ]
  },
  {
   "cell_type": "code",
   "execution_count": 15,
   "metadata": {
    "slideshow": {
     "slide_type": "subslide"
    }
   },
   "outputs": [],
   "source": [
    "point1 = Coordinate2(3, 4)\n",
    "point2 = Coordinate2(3, 4)\n",
    "point3 = Coordinate2(1, 2)"
   ]
  },
  {
   "cell_type": "code",
   "execution_count": 16,
   "metadata": {
    "slideshow": {
     "slide_type": "subslide"
    }
   },
   "outputs": [
    {
     "data": {
      "text/plain": [
       "True"
      ]
     },
     "execution_count": 16,
     "metadata": {},
     "output_type": "execute_result"
    }
   ],
   "source": [
    "point1 == point2"
   ]
  },
  {
   "cell_type": "code",
   "execution_count": 17,
   "metadata": {
    "slideshow": {
     "slide_type": "subslide"
    }
   },
   "outputs": [
    {
     "data": {
      "text/plain": [
       "False"
      ]
     },
     "execution_count": 17,
     "metadata": {},
     "output_type": "execute_result"
    }
   ],
   "source": [
    "point1 == point3"
   ]
  },
  {
   "cell_type": "markdown",
   "metadata": {
    "slideshow": {
     "slide_type": "subslide"
    }
   },
   "source": [
    "### 演算子の代替記法 ###\n",
    "\n",
    "```cpp\n",
    "        .def(\"__eq__\", &Coordinate2::operator==);\n",
    "```\n",
    "\n",
    "はc++のクラスで`operator==`が定義されていれば下記のようにも書ける\n",
    "\n",
    "```cpp\n",
    "        .def(\"__eq__\", \n",
    "             [](const Coordinate2& self,\n",
    "                const Coordinate2& other){\n",
    "                 return self == other; \n",
    "             });\n",
    "```"
   ]
  },
  {
   "cell_type": "markdown",
   "metadata": {
    "slideshow": {
     "slide_type": "slide"
    }
   },
   "source": [
    "### Python特殊メソッド ###\n",
    "\n",
    "* `__repr__`の定義を考える\n",
    "* 先の`__eq__`と同様に第一引数にselfを取るメソッドを定義"
   ]
  },
  {
   "cell_type": "code",
   "execution_count": 18,
   "metadata": {
    "slideshow": {
     "slide_type": "subslide"
    }
   },
   "outputs": [],
   "source": [
    "%%pybind11\n",
    "\n",
    "namespace py = pybind11;\n",
    "\n",
    "class Coordinate3 {\n",
    "public:\n",
    "    int x_; int y_;\n",
    "    Coordinate3(){ x_ = 0; y_ = 0; }\n",
    "    Coordinate3(int x, int y){ x_ = x; y_ = y; }\n",
    "};\n",
    "\n",
    "PYBIND11_MODULE(coord3, m) {\n",
    "    py::class_<Coordinate3>(m, \"Coordinate3\")\n",
    "        .def(py::init<>())\n",
    "        .def(py::init<int, int>())\n",
    "        .def_readonly(\"x\", &Coordinate3::x_)\n",
    "        .def_readonly(\"y\", &Coordinate3::y_)\n",
    "        .def(\"__repr__\" , [](const Coordinate3& self){\n",
    "            return std::string() + \"(x, y) = (\" + std::to_string(self.x_) + \", \" + std::to_string(self.y_) + \")\";\n",
    "        });\n",
    "} "
   ]
  },
  {
   "cell_type": "markdown",
   "metadata": {
    "slideshow": {
     "slide_type": "subslide"
    }
   },
   "source": [
    "```cpp\n",
    ".def(\"__repr__\", [](const Coordinate3& self){\n",
    "    return std::string() + \n",
    "        \"(x, y) = (\" +\n",
    "        std::to_string(self.x_) +\n",
    "        \", \" +\n",
    "        std::to_string(self.y_) + \")\";\n",
    "});\n",
    "```"
   ]
  },
  {
   "cell_type": "code",
   "execution_count": 19,
   "metadata": {
    "slideshow": {
     "slide_type": "subslide"
    }
   },
   "outputs": [
    {
     "data": {
      "text/plain": [
       "(x, y) = (1, 2)"
      ]
     },
     "execution_count": 19,
     "metadata": {},
     "output_type": "execute_result"
    }
   ],
   "source": [
    "point = Coordinate3(1, 2)\n",
    "point"
   ]
  },
  {
   "cell_type": "markdown",
   "metadata": {
    "slideshow": {
     "slide_type": "slide"
    }
   },
   "source": [
    "### docstirng、引数名、キーワード引数 ###\n",
    "\n",
    "* docstring\n",
    "    * `m.def`の第三引数に文字列を渡す\n",
    "* 引数名\n",
    "    * 第四引数以降に`py::arg(\"...\")`を渡す\n",
    "* キーワード引数\n",
    "    * `py::arg(\"...\") = デフォルト値`とすれば良い"
   ]
  },
  {
   "cell_type": "code",
   "execution_count": 20,
   "metadata": {
    "slideshow": {
     "slide_type": "subslide"
    }
   },
   "outputs": [],
   "source": [
    "%%pybind11\n",
    "\n",
    "namespace py = pybind11;\n",
    "\n",
    "class Coordinate4 {\n",
    "public:\n",
    "    int x_; int y_;\n",
    "    Coordinate4(){ x_ = 0; y_ = 0; }\n",
    "    Coordinate4(int x, int y){ x_ = x; y_ = y; }\n",
    "    float DistanceTo(const Coordinate4& target){ \n",
    "        int dx = target.x_ - x_, dy = target.y_ - y_;\n",
    "        return sqrt( dx*dx + dy*dy);\n",
    "    }\n",
    "};\n",
    "\n",
    "PYBIND11_MODULE(coord4, m) {\n",
    "    py::class_<Coordinate4>(m, \"Coordinate4\")\n",
    "        .def(py::init<>())\n",
    "        .def(py::init<int, int>())\n",
    "        .def_readonly(\"x\", &Coordinate4::x_)\n",
    "        .def_readonly(\"y\", &Coordinate4::y_)\n",
    "        .def(\"distance_to\", &Coordinate4::DistanceTo,\n",
    "             \"distance to target\",\n",
    "             py::arg(\"target\"));\n",
    "}"
   ]
  },
  {
   "cell_type": "markdown",
   "metadata": {
    "slideshow": {
     "slide_type": "subslide"
    }
   },
   "source": [
    "```cpp\n",
    "    float DistanceTo(const Coordinate4& target){ \n",
    "        int dx = target.x_ - x_, dy = target.y_ - y_;\n",
    "        return sqrt( dx*dx + dy*dy);\n",
    "    }\n",
    "```\n",
    "を下記のように設定\n",
    "```cpp\n",
    "        .def(\"distance_to\", &Coordinate4::DistanceTo,\n",
    "             \"distance to target\",\n",
    "             py::arg(\"target\"));\n",
    "```"
   ]
  },
  {
   "cell_type": "code",
   "execution_count": 24,
   "metadata": {
    "slideshow": {
     "slide_type": "subslide"
    }
   },
   "outputs": [
    {
     "data": {
      "text/plain": [
       "2.8284270763397217"
      ]
     },
     "execution_count": 24,
     "metadata": {},
     "output_type": "execute_result"
    }
   ],
   "source": [
    "point = Coordinate4(1, 2)\n",
    "target = Coordinate4(3, 4)\n",
    "point.distance_to(target)"
   ]
  },
  {
   "cell_type": "code",
   "execution_count": 40,
   "metadata": {
    "slideshow": {
     "slide_type": "subslide"
    }
   },
   "outputs": [],
   "source": [
    "point.distance_to?"
   ]
  },
  {
   "cell_type": "markdown",
   "metadata": {
    "slideshow": {
     "slide_type": "subslide"
    }
   },
   "source": [
    "### `*args, **kwarg` ###\n",
    "\n",
    "* `py::args` (`py::tuple`のサブクラス)\n",
    "* `py::kwargs` (`py::dict`のサブクラス)\n",
    "\n",
    "```cpp\n",
    "m.def(\"count_args\", [](py::args a, py::kwargs kw) {\n",
    "    py::print(a.size(), \"args,\", kw.size(), \"kwargs\");\n",
    "});\n",
    "```"
   ]
  },
  {
   "cell_type": "markdown",
   "metadata": {
    "slideshow": {
     "slide_type": "slide"
    }
   },
   "source": [
    "### その他の話題 ###\n",
    "\n",
    "* C++とPython間のオブジェクトの取扱\n",
    "* 関数とコールバック\n",
    "* Numpy対応"
   ]
  },
  {
   "cell_type": "markdown",
   "metadata": {
    "slideshow": {
     "slide_type": "slide"
    }
   },
   "source": [
    "### C++とPython間のオブジェクトの取扱 ###\n",
    "\n",
    "* C++とPythonのオブジェクトを混在してラッパーを定義可能\n",
    "* 3種類の方法\n",
    "    * Python側でC++の型のインスタンスを引数に取る\n",
    "    * C++側でPythonの型のインスタンスを引数に取る\n",
    "    * C++の型とPythonの型を型変換する"
   ]
  },
  {
   "cell_type": "markdown",
   "metadata": {
    "slideshow": {
     "slide_type": "subslide"
    }
   },
   "source": [
    "### Python側でC++の型のインスタンスを引数に取る ###\n",
    "\n",
    "```cpp\n",
    "py::class_<Foo>(m, \"Foo\");\n",
    "m.def(\"f1\", [](const Foo& foo){ ...}\n",
    "```"
   ]
  },
  {
   "cell_type": "markdown",
   "metadata": {
    "slideshow": {
     "slide_type": "subslide"
    }
   },
   "source": [
    "### C++側でPythonの型のインスタンスを引数に取る ###\n",
    "\n",
    "```cpp\n",
    "m.def(\"f2\", [](py::list list){ ... }\n",
    "```"
   ]
  },
  {
   "cell_type": "markdown",
   "metadata": {
    "slideshow": {
     "slide_type": "subslide"
    }
   },
   "source": [
    "### C++の型とPythonの型を型変換する ###\n",
    "\n",
    "```cpp\n",
    "m.def(\"f3\", [](int x) { ... });\n",
    "m.def(\"f4\", [](const std::string& s) { ... });\n",
    "m.def(\"f5\", [](const std::vector<int>& v) { ... });\n",
    "```"
   ]
  },
  {
   "cell_type": "markdown",
   "metadata": {
    "slideshow": {
     "slide_type": "subslide"
    }
   },
   "source": [
    "### サポートされている型変換 ###\n",
    "\n",
    "* スカラー値\n",
    "    * integer types, float, double, bool, char\n",
    "* 文字列\n",
    "    * std::string, const char *\n",
    "* タプル\n",
    "    * std::pair<F, S>, std::tuple<...>\n",
    "* シーケンス\n",
    "    * std::vector<T>, std::list<T>, std::array<T, n>"
   ]
  },
  {
   "cell_type": "markdown",
   "metadata": {
    "slideshow": {
     "slide_type": "subslide"
    }
   },
   "source": [
    "* マップ\n",
    "    * std::map<K, V>, std::unordered_map<K, V>\n",
    "* 集合\n",
    "    * std::set<T>, std::unordered_set<T>\n",
    "* 関数\n",
    "    * std::function<...>\n",
    "* Date/time\n",
    "    * std::chrono::duration, std::chrono::time_point\n",
    "* Optional\n",
    "    * std::optional<T>, std::experimental::optional<T>"
   ]
  },
  {
   "cell_type": "markdown",
   "metadata": {
    "slideshow": {
     "slide_type": "slide"
    }
   },
   "source": [
    "### 関数とコールバック ###\n",
    "\n",
    "* `std::function`でpythonの関数を受け取れる"
   ]
  },
  {
   "cell_type": "code",
   "execution_count": 38,
   "metadata": {
    "slideshow": {
     "slide_type": "subslide"
    }
   },
   "outputs": [],
   "source": [
    "%%pybind11\n",
    "\n",
    "#include <pybind11/functional.h>\n",
    "\n",
    "PYBIND11_MODULE(callback_test, m) {\n",
    "    m.def(\"for_even\",\n",
    "          [](int n, std::function<void(int)> f) {\n",
    "              for (int i = 0; i < n; ++i){ if (i % 2 == 0) f(i); }\n",
    "          }\n",
    "         );\n",
    "}"
   ]
  },
  {
   "cell_type": "code",
   "execution_count": 39,
   "metadata": {
    "slideshow": {
     "slide_type": "subslide"
    }
   },
   "outputs": [
    {
     "name": "stdout",
     "output_type": "stream",
     "text": [
      "called 0\n",
      "called 2\n",
      "called 4\n",
      "called 6\n",
      "called 8\n"
     ]
    }
   ],
   "source": [
    "def py_callback_func(x):\n",
    "    print(\"called {0}\".format(x))\n",
    "    \n",
    "for_even(10, py_callback_func)"
   ]
  },
  {
   "cell_type": "markdown",
   "metadata": {
    "slideshow": {
     "slide_type": "slide"
    }
   },
   "source": [
    "### numpy対応 ###\n",
    "\n",
    "* `#include <pybind11/numpy.h>`\n",
    "* `py::array_t<type>`型\n",
    "    * ndarrayを受け取ることが可能"
   ]
  },
  {
   "cell_type": "markdown",
   "metadata": {
    "slideshow": {
     "slide_type": "subslide"
    }
   },
   "source": [
    "* `arr.ndim`, `arr.shape(n)`, `arr.size()`\n",
    "* バッファへのポインタ\n",
    "    * `arr.data()`, `arr.mutable_data()`\n",
    "    * インデックス指定も可能\n",
    "* 要素への直接アクセス\n",
    "    * `arr.unchecked()`, `arr.mutable_unchecked()`\n",
    "    * `ref(i, j, k)`としてアクセス可能"
   ]
  },
  {
   "cell_type": "code",
   "execution_count": 31,
   "metadata": {
    "slideshow": {
     "slide_type": "subslide"
    }
   },
   "outputs": [],
   "source": [
    "%%pybind11\n",
    "\n",
    "#include <pybind11/numpy.h>\n",
    "\n",
    "namespace py = pybind11;\n",
    "\n",
    "PYBIND11_MODULE(numpy_bind, m) {\n",
    "    m.def(\"add_2d\",\n",
    "          [](py::array_t<double> x, py::array_t<double> y){\n",
    "              auto r = x.mutable_unchecked<2>();\n",
    "              auto c = y.unchecked<2>();\n",
    "\n",
    "            for(ssize_t i = 0; i < r.shape(0); i++){\n",
    "                for(ssize_t j = 0; j < r.shape(1); j++){\n",
    "                    r(i, j) += c(i, j);\n",
    "                }\n",
    "            }\n",
    "          },  py::arg().noconvert(), py::arg().noconvert());\n",
    "}"
   ]
  },
  {
   "cell_type": "code",
   "execution_count": 33,
   "metadata": {
    "slideshow": {
     "slide_type": "subslide"
    }
   },
   "outputs": [],
   "source": [
    "import numpy as np"
   ]
  },
  {
   "cell_type": "code",
   "execution_count": 34,
   "metadata": {
    "slideshow": {
     "slide_type": "subslide"
    }
   },
   "outputs": [
    {
     "data": {
      "text/plain": [
       "array([[3., 5.],\n",
       "       [7., 9.]])"
      ]
     },
     "execution_count": 34,
     "metadata": {},
     "output_type": "execute_result"
    }
   ],
   "source": [
    "x = np.array([[1.0, 2.0], [3.0, 4.0]])\n",
    "y = np.array([[2.0, 3.0], [4.0, 5.0]])\n",
    "add_2d(x, y)\n",
    "x"
   ]
  },
  {
   "cell_type": "markdown",
   "metadata": {
    "slideshow": {
     "slide_type": "slide"
    }
   },
   "source": [
    "### まとめ ###\n",
    "\n",
    "* Python向けのC拡張モジュールをC++11で作成するためのライブラリpybind11について紹介\n",
    "* ipybindを用いたJupyter Notebookからの実行方法の紹介\n",
    "* numpy連携を紹介"
   ]
  }
 ],
 "metadata": {
  "celltoolbar": "Slideshow",
  "kernelspec": {
   "display_name": "Python 3",
   "language": "python",
   "name": "python3"
  },
  "language_info": {
   "codemirror_mode": {
    "name": "ipython",
    "version": 3
   },
   "file_extension": ".py",
   "mimetype": "text/x-python",
   "name": "python",
   "nbconvert_exporter": "python",
   "pygments_lexer": "ipython3",
   "version": "3.6.7"
  },
  "nikola": {
   "category": "",
   "date": "2019-2-10 15:30:00 UTC+09:00",
   "description": "",
   "link": "",
   "slug": "14",
   "tags": "python,pydata,numpy,pybind11",
   "title": "2018/12/21にPyData Osakaの梅キャンPython勉強会コラボ回でpybind11について発表しました",
   "type": "text"
  }
 },
 "nbformat": 4,
 "nbformat_minor": 2
}
