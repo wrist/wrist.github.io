{
 "cells": [
  {
   "cell_type": "markdown",
   "metadata": {
    "slideshow": {
     "slide_type": "skip"
    }
   },
   "source": [
    "# 2018/2/28にPydata Osakaで発表しました #\n",
    "\n",
    "非常に今更ですが2018/2/28に\"SciPyの概要と各モジュールの紹介\"というタイトルで発表しました。当日の資料は下記途中のセルにもあるようにAzure Notebooksでも公開していましたが、nikolaではipynbファイルを記事としても公開可能であるため今更にはなりますが公開いたしました。\n",
    "以下当日の資料になります。"
   ]
  },
  {
   "cell_type": "code",
   "execution_count": 1,
   "metadata": {
    "slideshow": {
     "slide_type": "skip"
    }
   },
   "outputs": [
    {
     "data": {
      "text/html": [
       "\n",
       "        <iframe\n",
       "            width=\"100%\"\n",
       "            height=\"450px\"\n",
       "            src=\"https://www.hiromasa.info/slide/4.slides.html\"\n",
       "            frameborder=\"0\"\n",
       "            allowfullscreen\n",
       "        ></iframe>\n",
       "        "
      ],
      "text/plain": [
       "<IPython.lib.display.IFrame at 0x7f81f0391b70>"
      ]
     },
     "execution_count": 1,
     "metadata": {},
     "output_type": "execute_result"
    }
   ],
   "source": [
    "from IPython.display import IFrame\n",
    "IFrame(\"https://www.hiromasa.info/slide/4.slides.html\", \"100%\", \"450px\")"
   ]
  },
  {
   "cell_type": "markdown",
   "metadata": {
    "slideshow": {
     "slide_type": "subslide"
    }
   },
   "source": [
    "# SciPyの概要と各モジュールの紹介 #"
   ]
  },
  {
   "cell_type": "markdown",
   "metadata": {
    "slideshow": {
     "slide_type": "slide"
    }
   },
   "source": [
    "### 自己紹介 ###\n",
    "\n",
    "* 大橋宏正\n",
    "    * 某メーカで音響エンジニア\n",
    "    * scipy.signalとscipy.fftpackを仕事でよく使う\n",
    "* twitter: @wrist"
   ]
  },
  {
   "cell_type": "markdown",
   "metadata": {
    "slideshow": {
     "slide_type": "slide"
    }
   },
   "source": [
    "## 本日の資料 ##\n",
    "\n",
    "https://notebooks.azure.com/wrist/libraries/pydata-osaka-20180228"
   ]
  },
  {
   "cell_type": "markdown",
   "metadata": {
    "slideshow": {
     "slide_type": "slide"
    }
   },
   "source": [
    "## SciPyとは ##\n",
    "\n",
    "* NumPyの上に作られた数学的なアルゴリズムや便利な関数の集合\n",
    "* 機能ごとに分けられたサブモジュール群から成る"
   ]
  },
  {
   "cell_type": "markdown",
   "metadata": {
    "slideshow": {
     "slide_type": "slide"
    }
   },
   "source": [
    "## 本発表で紹介するサブモジュール(1) ##\n",
    "\n",
    "* io\n",
    "    * 様々なファイル入出力\n",
    "* special\n",
    "    * 特殊関数\n",
    "* fftpack\n",
    "    * FFTルーチン\n",
    "* interpolate\n",
    "    * 補間と平滑化\n",
    "* linalg\n",
    "    * 線形代数"
   ]
  },
  {
   "cell_type": "markdown",
   "metadata": {
    "slideshow": {
     "slide_type": "subslide"
    }
   },
   "source": [
    "## サブモジュール一覧(2) ##\n",
    "\n",
    "* optimize\n",
    "    * 最適化および求根ルーチン\n",
    "* signal\n",
    "    * 信号処理\n",
    "* spatial\n",
    "    * 空間データ構造およびアルゴリズム\n",
    "* stats\n",
    "    * 確率分布および密度関数\n",
    "* misc\n",
    "    * 雑多な諸々"
   ]
  },
  {
   "cell_type": "markdown",
   "metadata": {
    "slideshow": {
     "slide_type": "subslide"
    }
   },
   "source": [
    "### 本日説明しないモジュール ###\n",
    "\n",
    "* cluster\n",
    "    * クラスタリングアルゴリズム\n",
    "* constants\n",
    "    * 科学定数、数学定数\n",
    "* odr\n",
    "    * 直交距離回帰を行うためのFortranライブラリODRPACKのラッパー\n",
    "* ndimage\n",
    "    * N次元画像処理\n",
    "* sparse\n",
    "    * 疎行列および関連ルーチン\n",
    "* integrate\n",
    "    * 積分および常微分方程式のソルバ"
   ]
  },
  {
   "cell_type": "markdown",
   "metadata": {
    "slideshow": {
     "slide_type": "subslide"
    }
   },
   "source": [
    "### SciPy 1.0 ###\n",
    "\n",
    "* 2017/10/25にリリース\n",
    "* Release Note\n",
    "    * https://scipy.github.io/devdocs/release.1.0.0.html"
   ]
  },
  {
   "cell_type": "markdown",
   "metadata": {
    "slideshow": {
     "slide_type": "subslide"
    }
   },
   "source": [
    "## History ##\n",
    "\n",
    "* 2001: 最初のリリース\n",
    "* 2005: NumPyへの移行\n",
    "    * https://www.scipy.org/scipylib/faq.html#what-s-the-story-with-numeric-numarray-and-numpy\n",
    "    * http://www.numpy.org/old_array_packages.html\n",
    "* 2007: scikitsの誕生\n",
    "* 2008: scipy.spatialモジュールと最初のCythonコードが追加\n",
    "* 2010: 6ヶ月単位のリリースサイクルを採用"
   ]
  },
  {
   "cell_type": "markdown",
   "metadata": {
    "slideshow": {
     "slide_type": "subslide"
    }
   },
   "source": [
    "* 2011: GitHubに移行\n",
    "* 2011: Python3サポート\n",
    "* 2012: sparse graphモジュールと統合的な最適化インタフェースの追加\n",
    "* 2012: scipy.maxentropyの削除\n",
    "* 2013: TravisCIでの継続的インテグレーションを開始\n",
    "* 2015: BLAS/LAPACKに対するCythonインタフェースとベンチマークスイートの追加"
   ]
  },
  {
   "cell_type": "markdown",
   "metadata": {
    "slideshow": {
     "slide_type": "subslide"
    }
   },
   "source": [
    "* 2017: scipy.LowLevelCallableを用いた統一的なC APIの追加; およびscipy.weaveの削除\n",
    "* 2017: SciPy 1.0のリリース\n",
    "    * version 0.1から実に16年"
   ]
  },
  {
   "cell_type": "markdown",
   "metadata": {
    "slideshow": {
     "slide_type": "subslide"
    }
   },
   "source": [
    "## 何故Version 1.0か？(意訳) ##\n",
    "\n",
    "* 大枠の背景\n",
    "    * Scipyはプロダクション環境で使われるほどに成熟し安定したことを反映\n",
    "    * 技術的な目標(WindowsでのWheel配布、CI)と組織的な目標(組織構造、行動規範、ロードマップ)の両方を近年達成"
   ]
  },
  {
   "cell_type": "markdown",
   "metadata": {
    "slideshow": {
     "slide_type": "skip"
    }
   },
   "source": [
    "* 1.0の意味\n",
    "    * オープンソースプロジェクトにとって\"1.0\"と言うと100%完成したという印象があるが、実際は完璧ではなくいくつもの修正が必要な点があることを自分たちとしても認めている\n",
    "    * そうだとしてもSciPyは究極的にユーザーにとって便利なものであり、平均して高いクオリティのコードとドキュメントがあり、1.0のラベルが示すであろう安定性と後方互換性の保証がある。"
   ]
  },
  {
   "cell_type": "markdown",
   "metadata": {
    "slideshow": {
     "slide_type": "slide"
    }
   },
   "source": [
    "## SciPyを学ぶ際のリソース ##\n",
    "\n",
    "* [tutorial](https://docs.scipy.org/doc/scipy/reference/tutorial/)\n",
    "* [scipy lecture note](http://www.scipy-lectures.org/)"
   ]
  },
  {
   "cell_type": "markdown",
   "metadata": {
    "slideshow": {
     "slide_type": "subslide"
    }
   },
   "source": [
    "## scipy lecture note: 1.5 Scipy: high-level scientific computing ##\n",
    "\n",
    "* http://www.scipy-lectures.org/intro/scipy.html\n",
    "* scipyはさまざまな科学技術計算で共通する問題に対するtoolbox\n",
    "    * 補間、積分、最適化、画像処理、統計、特殊関数、など\n",
    "* GSLやmatlabと比較されうるもの"
   ]
  },
  {
   "cell_type": "markdown",
   "metadata": {
    "slideshow": {
     "slide_type": "slide"
    }
   },
   "source": [
    "## 本発表 ##\n",
    "\n",
    "* tutorialとscipy lecture noteからコード等を抜粋して紹介\n",
    "* scipyを使った計算の簡単なデモ"
   ]
  },
  {
   "cell_type": "code",
   "execution_count": 1,
   "metadata": {
    "slideshow": {
     "slide_type": "slide"
    }
   },
   "outputs": [
    {
     "name": "stdout",
     "output_type": "stream",
     "text": [
      "Requirement already up-to-date: scipy in /Users/wrist/.pyenv/versions/miniconda3-4.3.30/envs/py36/lib/python3.6/site-packages (1.1.0)\n"
     ]
    }
   ],
   "source": [
    "# azure notebooksデフォルトのSciPyをpipで更新\n",
    "!pip install -U scipy"
   ]
  },
  {
   "cell_type": "code",
   "execution_count": 2,
   "metadata": {
    "slideshow": {
     "slide_type": "slide"
    }
   },
   "outputs": [],
   "source": [
    "# 本発表では以下を仮定\n",
    "import numpy as np\n",
    "import scipy as sp\n",
    "import matplotlib as mpl\n",
    "import matplotlib.pyplot as plt"
   ]
  },
  {
   "cell_type": "code",
   "execution_count": 3,
   "metadata": {
    "slideshow": {
     "slide_type": "fragment"
    }
   },
   "outputs": [
    {
     "name": "stdout",
     "output_type": "stream",
     "text": [
      "numpy version 1.14.2\n",
      "scipy version 1.1.0\n",
      "matplotlib version 2.2.2\n"
     ]
    }
   ],
   "source": [
    "# version\n",
    "print(\"numpy version\", np.version.full_version)\n",
    "print(\"scipy version\", sp.version.full_version)\n",
    "print(\"matplotlib version\", mpl.__version__)"
   ]
  },
  {
   "cell_type": "markdown",
   "metadata": {
    "slideshow": {
     "slide_type": "subslide"
    }
   },
   "source": [
    "## 注意 ##\n",
    "\n",
    "本発表では基本的にnp.dotの代わりに@演算子を使用"
   ]
  },
  {
   "cell_type": "code",
   "execution_count": 4,
   "metadata": {
    "slideshow": {
     "slide_type": "subslide"
    }
   },
   "outputs": [],
   "source": [
    "# 本発表では以下を仮定\n",
    "import scipy.io as spio\n",
    "import scipy.special as special\n",
    "import scipy.linalg as la\n",
    "import scipy.fftpack as fft\n",
    "import scipy.optimize as opt\n",
    "import scipy.signal as sg\n",
    "import scipy.interpolate as interp\n",
    "import scipy.stats as stats"
   ]
  },
  {
   "cell_type": "markdown",
   "metadata": {
    "slideshow": {
     "slide_type": "slide"
    }
   },
   "source": [
    "## scipy.io ##\n",
    "\n",
    "* io\n",
    "    * さまざまな形式のファイルIOを提供するモジュール\n",
    "        * matlabやoctaveのmatファイル\n",
    "        * netcdf, fortranのunformatted seaquential file, matrix market, harwell-boeing, IDL, Arff形式\n",
    "    * 何故かwavファイルのIOもできるが24bit音源が読めないのでハイレゾ音源が扱えない"
   ]
  },
  {
   "cell_type": "code",
   "execution_count": 5,
   "metadata": {
    "slideshow": {
     "slide_type": "subslide"
    }
   },
   "outputs": [
    {
     "data": {
      "text/plain": [
       "array([[1., 1., 1.],\n",
       "       [1., 1., 1.],\n",
       "       [1., 1., 1.]])"
      ]
     },
     "execution_count": 5,
     "metadata": {},
     "output_type": "execute_result"
    }
   ],
   "source": [
    "a = np.ones((3, 3))\n",
    "spio.savemat('file.mat', {'a': a}) # savematには辞書を渡す\n",
    "data = spio.loadmat('file.mat')\n",
    "data['a']"
   ]
  },
  {
   "cell_type": "code",
   "execution_count": 6,
   "metadata": {
    "slideshow": {
     "slide_type": "subslide"
    }
   },
   "outputs": [
    {
     "name": "stdout",
     "output_type": "stream",
     "text": [
      "[1. 1. 1.]\n",
      "[[1. 1. 1.]]\n",
      "[1. 1. 1.]\n"
     ]
    }
   ],
   "source": [
    "a = np.ones(3)\n",
    "spio.savemat('file.mat', {'a': a})\n",
    "\n",
    "print(a)\n",
    "print(spio.loadmat('file.mat')['a']) # matlabには1次元配列がない\n",
    "print(spio.loadmat('file.mat', squeeze_me=True)[\"a\"])"
   ]
  },
  {
   "cell_type": "markdown",
   "metadata": {
    "slideshow": {
     "slide_type": "subslide"
    }
   },
   "source": [
    "* matlabに関してはstructやcell配列も読めるが割愛\n",
    "    * 参考: https://docs.scipy.org/doc/scipy/reference/tutorial/io.html"
   ]
  },
  {
   "cell_type": "markdown",
   "metadata": {
    "slideshow": {
     "slide_type": "slide"
    }
   },
   "source": [
    "## scipy.special ##\n",
    "\n",
    "* さまざまな特殊関数が含まれている\n",
    "    * docstringに色々書かれている\n",
    "* よく使われると思われるもの\n",
    "    * ベッセル関数 `scipy.special.jn()`\n",
    "    * 楕円関数 `scipy.special.ellpj()`\n",
    "    * ガンマ関数 `scipy.special.gamma()`、対数ガンマ関数 `scipy.special.gammaln()`\n",
    "    * 誤差関数 `scipy.special.erf()`"
   ]
  },
  {
   "cell_type": "code",
   "execution_count": 7,
   "metadata": {
    "slideshow": {
     "slide_type": "subslide"
    }
   },
   "outputs": [],
   "source": [
    "special?"
   ]
  },
  {
   "cell_type": "markdown",
   "metadata": {
    "slideshow": {
     "slide_type": "subslide"
    }
   },
   "source": [
    "### scipy.special.cython_special ###\n",
    "\n",
    "* cythonバインディングも存在\n",
    "    * `cimport scipy.special.cython_special`でcythonコード上でcimport\n",
    "* 型が付いている"
   ]
  },
  {
   "cell_type": "code",
   "execution_count": 11,
   "metadata": {
    "slideshow": {
     "slide_type": "subslide"
    }
   },
   "outputs": [
    {
     "name": "stdout",
     "output_type": "stream",
     "text": [
      "The cython extension is already loaded. To reload it, use:\n",
      "  %reload_ext cython\n"
     ]
    }
   ],
   "source": [
    "%load_ext cython"
   ]
  },
  {
   "cell_type": "code",
   "execution_count": 12,
   "metadata": {
    "slideshow": {
     "slide_type": "subslide"
    }
   },
   "outputs": [
    {
     "data": {
      "text/html": [
       "<!DOCTYPE html>\n",
       "<!-- Generated by Cython 0.28.3 -->\n",
       "<html>\n",
       "<head>\n",
       "    <meta http-equiv=\"Content-Type\" content=\"text/html; charset=utf-8\" />\n",
       "    <title>Cython: _cython_magic_684790e4af39b5c80e39e5974eacdfbe.pyx</title>\n",
       "    <style type=\"text/css\">\n",
       "    \n",
       "body.cython { font-family: courier; font-size: 12; }\n",
       "\n",
       ".cython.tag  {  }\n",
       ".cython.line { margin: 0em }\n",
       ".cython.code { font-size: 9; color: #444444; display: none; margin: 0px 0px 0px 8px; border-left: 8px none; }\n",
       "\n",
       ".cython.line .run { background-color: #B0FFB0; }\n",
       ".cython.line .mis { background-color: #FFB0B0; }\n",
       ".cython.code.run  { border-left: 8px solid #B0FFB0; }\n",
       ".cython.code.mis  { border-left: 8px solid #FFB0B0; }\n",
       "\n",
       ".cython.code .py_c_api  { color: red; }\n",
       ".cython.code .py_macro_api  { color: #FF7000; }\n",
       ".cython.code .pyx_c_api  { color: #FF3000; }\n",
       ".cython.code .pyx_macro_api  { color: #FF7000; }\n",
       ".cython.code .refnanny  { color: #FFA000; }\n",
       ".cython.code .trace  { color: #FFA000; }\n",
       ".cython.code .error_goto  { color: #FFA000; }\n",
       "\n",
       ".cython.code .coerce  { color: #008000; border: 1px dotted #008000 }\n",
       ".cython.code .py_attr { color: #FF0000; font-weight: bold; }\n",
       ".cython.code .c_attr  { color: #0000FF; }\n",
       ".cython.code .py_call { color: #FF0000; font-weight: bold; }\n",
       ".cython.code .c_call  { color: #0000FF; }\n",
       "\n",
       ".cython.score-0 {background-color: #FFFFff;}\n",
       ".cython.score-1 {background-color: #FFFFe7;}\n",
       ".cython.score-2 {background-color: #FFFFd4;}\n",
       ".cython.score-3 {background-color: #FFFFc4;}\n",
       ".cython.score-4 {background-color: #FFFFb6;}\n",
       ".cython.score-5 {background-color: #FFFFaa;}\n",
       ".cython.score-6 {background-color: #FFFF9f;}\n",
       ".cython.score-7 {background-color: #FFFF96;}\n",
       ".cython.score-8 {background-color: #FFFF8d;}\n",
       ".cython.score-9 {background-color: #FFFF86;}\n",
       ".cython.score-10 {background-color: #FFFF7f;}\n",
       ".cython.score-11 {background-color: #FFFF79;}\n",
       ".cython.score-12 {background-color: #FFFF73;}\n",
       ".cython.score-13 {background-color: #FFFF6e;}\n",
       ".cython.score-14 {background-color: #FFFF6a;}\n",
       ".cython.score-15 {background-color: #FFFF66;}\n",
       ".cython.score-16 {background-color: #FFFF62;}\n",
       ".cython.score-17 {background-color: #FFFF5e;}\n",
       ".cython.score-18 {background-color: #FFFF5b;}\n",
       ".cython.score-19 {background-color: #FFFF57;}\n",
       ".cython.score-20 {background-color: #FFFF55;}\n",
       ".cython.score-21 {background-color: #FFFF52;}\n",
       ".cython.score-22 {background-color: #FFFF4f;}\n",
       ".cython.score-23 {background-color: #FFFF4d;}\n",
       ".cython.score-24 {background-color: #FFFF4b;}\n",
       ".cython.score-25 {background-color: #FFFF48;}\n",
       ".cython.score-26 {background-color: #FFFF46;}\n",
       ".cython.score-27 {background-color: #FFFF44;}\n",
       ".cython.score-28 {background-color: #FFFF43;}\n",
       ".cython.score-29 {background-color: #FFFF41;}\n",
       ".cython.score-30 {background-color: #FFFF3f;}\n",
       ".cython.score-31 {background-color: #FFFF3e;}\n",
       ".cython.score-32 {background-color: #FFFF3c;}\n",
       ".cython.score-33 {background-color: #FFFF3b;}\n",
       ".cython.score-34 {background-color: #FFFF39;}\n",
       ".cython.score-35 {background-color: #FFFF38;}\n",
       ".cython.score-36 {background-color: #FFFF37;}\n",
       ".cython.score-37 {background-color: #FFFF36;}\n",
       ".cython.score-38 {background-color: #FFFF35;}\n",
       ".cython.score-39 {background-color: #FFFF34;}\n",
       ".cython.score-40 {background-color: #FFFF33;}\n",
       ".cython.score-41 {background-color: #FFFF32;}\n",
       ".cython.score-42 {background-color: #FFFF31;}\n",
       ".cython.score-43 {background-color: #FFFF30;}\n",
       ".cython.score-44 {background-color: #FFFF2f;}\n",
       ".cython.score-45 {background-color: #FFFF2e;}\n",
       ".cython.score-46 {background-color: #FFFF2d;}\n",
       ".cython.score-47 {background-color: #FFFF2c;}\n",
       ".cython.score-48 {background-color: #FFFF2b;}\n",
       ".cython.score-49 {background-color: #FFFF2b;}\n",
       ".cython.score-50 {background-color: #FFFF2a;}\n",
       ".cython.score-51 {background-color: #FFFF29;}\n",
       ".cython.score-52 {background-color: #FFFF29;}\n",
       ".cython.score-53 {background-color: #FFFF28;}\n",
       ".cython.score-54 {background-color: #FFFF27;}\n",
       ".cython.score-55 {background-color: #FFFF27;}\n",
       ".cython.score-56 {background-color: #FFFF26;}\n",
       ".cython.score-57 {background-color: #FFFF26;}\n",
       ".cython.score-58 {background-color: #FFFF25;}\n",
       ".cython.score-59 {background-color: #FFFF24;}\n",
       ".cython.score-60 {background-color: #FFFF24;}\n",
       ".cython.score-61 {background-color: #FFFF23;}\n",
       ".cython.score-62 {background-color: #FFFF23;}\n",
       ".cython.score-63 {background-color: #FFFF22;}\n",
       ".cython.score-64 {background-color: #FFFF22;}\n",
       ".cython.score-65 {background-color: #FFFF22;}\n",
       ".cython.score-66 {background-color: #FFFF21;}\n",
       ".cython.score-67 {background-color: #FFFF21;}\n",
       ".cython.score-68 {background-color: #FFFF20;}\n",
       ".cython.score-69 {background-color: #FFFF20;}\n",
       ".cython.score-70 {background-color: #FFFF1f;}\n",
       ".cython.score-71 {background-color: #FFFF1f;}\n",
       ".cython.score-72 {background-color: #FFFF1f;}\n",
       ".cython.score-73 {background-color: #FFFF1e;}\n",
       ".cython.score-74 {background-color: #FFFF1e;}\n",
       ".cython.score-75 {background-color: #FFFF1e;}\n",
       ".cython.score-76 {background-color: #FFFF1d;}\n",
       ".cython.score-77 {background-color: #FFFF1d;}\n",
       ".cython.score-78 {background-color: #FFFF1c;}\n",
       ".cython.score-79 {background-color: #FFFF1c;}\n",
       ".cython.score-80 {background-color: #FFFF1c;}\n",
       ".cython.score-81 {background-color: #FFFF1c;}\n",
       ".cython.score-82 {background-color: #FFFF1b;}\n",
       ".cython.score-83 {background-color: #FFFF1b;}\n",
       ".cython.score-84 {background-color: #FFFF1b;}\n",
       ".cython.score-85 {background-color: #FFFF1a;}\n",
       ".cython.score-86 {background-color: #FFFF1a;}\n",
       ".cython.score-87 {background-color: #FFFF1a;}\n",
       ".cython.score-88 {background-color: #FFFF1a;}\n",
       ".cython.score-89 {background-color: #FFFF19;}\n",
       ".cython.score-90 {background-color: #FFFF19;}\n",
       ".cython.score-91 {background-color: #FFFF19;}\n",
       ".cython.score-92 {background-color: #FFFF19;}\n",
       ".cython.score-93 {background-color: #FFFF18;}\n",
       ".cython.score-94 {background-color: #FFFF18;}\n",
       ".cython.score-95 {background-color: #FFFF18;}\n",
       ".cython.score-96 {background-color: #FFFF18;}\n",
       ".cython.score-97 {background-color: #FFFF17;}\n",
       ".cython.score-98 {background-color: #FFFF17;}\n",
       ".cython.score-99 {background-color: #FFFF17;}\n",
       ".cython.score-100 {background-color: #FFFF17;}\n",
       ".cython.score-101 {background-color: #FFFF16;}\n",
       ".cython.score-102 {background-color: #FFFF16;}\n",
       ".cython.score-103 {background-color: #FFFF16;}\n",
       ".cython.score-104 {background-color: #FFFF16;}\n",
       ".cython.score-105 {background-color: #FFFF16;}\n",
       ".cython.score-106 {background-color: #FFFF15;}\n",
       ".cython.score-107 {background-color: #FFFF15;}\n",
       ".cython.score-108 {background-color: #FFFF15;}\n",
       ".cython.score-109 {background-color: #FFFF15;}\n",
       ".cython.score-110 {background-color: #FFFF15;}\n",
       ".cython.score-111 {background-color: #FFFF15;}\n",
       ".cython.score-112 {background-color: #FFFF14;}\n",
       ".cython.score-113 {background-color: #FFFF14;}\n",
       ".cython.score-114 {background-color: #FFFF14;}\n",
       ".cython.score-115 {background-color: #FFFF14;}\n",
       ".cython.score-116 {background-color: #FFFF14;}\n",
       ".cython.score-117 {background-color: #FFFF14;}\n",
       ".cython.score-118 {background-color: #FFFF13;}\n",
       ".cython.score-119 {background-color: #FFFF13;}\n",
       ".cython.score-120 {background-color: #FFFF13;}\n",
       ".cython.score-121 {background-color: #FFFF13;}\n",
       ".cython.score-122 {background-color: #FFFF13;}\n",
       ".cython.score-123 {background-color: #FFFF13;}\n",
       ".cython.score-124 {background-color: #FFFF13;}\n",
       ".cython.score-125 {background-color: #FFFF12;}\n",
       ".cython.score-126 {background-color: #FFFF12;}\n",
       ".cython.score-127 {background-color: #FFFF12;}\n",
       ".cython.score-128 {background-color: #FFFF12;}\n",
       ".cython.score-129 {background-color: #FFFF12;}\n",
       ".cython.score-130 {background-color: #FFFF12;}\n",
       ".cython.score-131 {background-color: #FFFF12;}\n",
       ".cython.score-132 {background-color: #FFFF11;}\n",
       ".cython.score-133 {background-color: #FFFF11;}\n",
       ".cython.score-134 {background-color: #FFFF11;}\n",
       ".cython.score-135 {background-color: #FFFF11;}\n",
       ".cython.score-136 {background-color: #FFFF11;}\n",
       ".cython.score-137 {background-color: #FFFF11;}\n",
       ".cython.score-138 {background-color: #FFFF11;}\n",
       ".cython.score-139 {background-color: #FFFF11;}\n",
       ".cython.score-140 {background-color: #FFFF11;}\n",
       ".cython.score-141 {background-color: #FFFF10;}\n",
       ".cython.score-142 {background-color: #FFFF10;}\n",
       ".cython.score-143 {background-color: #FFFF10;}\n",
       ".cython.score-144 {background-color: #FFFF10;}\n",
       ".cython.score-145 {background-color: #FFFF10;}\n",
       ".cython.score-146 {background-color: #FFFF10;}\n",
       ".cython.score-147 {background-color: #FFFF10;}\n",
       ".cython.score-148 {background-color: #FFFF10;}\n",
       ".cython.score-149 {background-color: #FFFF10;}\n",
       ".cython.score-150 {background-color: #FFFF0f;}\n",
       ".cython.score-151 {background-color: #FFFF0f;}\n",
       ".cython.score-152 {background-color: #FFFF0f;}\n",
       ".cython.score-153 {background-color: #FFFF0f;}\n",
       ".cython.score-154 {background-color: #FFFF0f;}\n",
       ".cython.score-155 {background-color: #FFFF0f;}\n",
       ".cython.score-156 {background-color: #FFFF0f;}\n",
       ".cython.score-157 {background-color: #FFFF0f;}\n",
       ".cython.score-158 {background-color: #FFFF0f;}\n",
       ".cython.score-159 {background-color: #FFFF0f;}\n",
       ".cython.score-160 {background-color: #FFFF0f;}\n",
       ".cython.score-161 {background-color: #FFFF0e;}\n",
       ".cython.score-162 {background-color: #FFFF0e;}\n",
       ".cython.score-163 {background-color: #FFFF0e;}\n",
       ".cython.score-164 {background-color: #FFFF0e;}\n",
       ".cython.score-165 {background-color: #FFFF0e;}\n",
       ".cython.score-166 {background-color: #FFFF0e;}\n",
       ".cython.score-167 {background-color: #FFFF0e;}\n",
       ".cython.score-168 {background-color: #FFFF0e;}\n",
       ".cython.score-169 {background-color: #FFFF0e;}\n",
       ".cython.score-170 {background-color: #FFFF0e;}\n",
       ".cython.score-171 {background-color: #FFFF0e;}\n",
       ".cython.score-172 {background-color: #FFFF0e;}\n",
       ".cython.score-173 {background-color: #FFFF0d;}\n",
       ".cython.score-174 {background-color: #FFFF0d;}\n",
       ".cython.score-175 {background-color: #FFFF0d;}\n",
       ".cython.score-176 {background-color: #FFFF0d;}\n",
       ".cython.score-177 {background-color: #FFFF0d;}\n",
       ".cython.score-178 {background-color: #FFFF0d;}\n",
       ".cython.score-179 {background-color: #FFFF0d;}\n",
       ".cython.score-180 {background-color: #FFFF0d;}\n",
       ".cython.score-181 {background-color: #FFFF0d;}\n",
       ".cython.score-182 {background-color: #FFFF0d;}\n",
       ".cython.score-183 {background-color: #FFFF0d;}\n",
       ".cython.score-184 {background-color: #FFFF0d;}\n",
       ".cython.score-185 {background-color: #FFFF0d;}\n",
       ".cython.score-186 {background-color: #FFFF0d;}\n",
       ".cython.score-187 {background-color: #FFFF0c;}\n",
       ".cython.score-188 {background-color: #FFFF0c;}\n",
       ".cython.score-189 {background-color: #FFFF0c;}\n",
       ".cython.score-190 {background-color: #FFFF0c;}\n",
       ".cython.score-191 {background-color: #FFFF0c;}\n",
       ".cython.score-192 {background-color: #FFFF0c;}\n",
       ".cython.score-193 {background-color: #FFFF0c;}\n",
       ".cython.score-194 {background-color: #FFFF0c;}\n",
       ".cython.score-195 {background-color: #FFFF0c;}\n",
       ".cython.score-196 {background-color: #FFFF0c;}\n",
       ".cython.score-197 {background-color: #FFFF0c;}\n",
       ".cython.score-198 {background-color: #FFFF0c;}\n",
       ".cython.score-199 {background-color: #FFFF0c;}\n",
       ".cython.score-200 {background-color: #FFFF0c;}\n",
       ".cython.score-201 {background-color: #FFFF0c;}\n",
       ".cython.score-202 {background-color: #FFFF0c;}\n",
       ".cython.score-203 {background-color: #FFFF0b;}\n",
       ".cython.score-204 {background-color: #FFFF0b;}\n",
       ".cython.score-205 {background-color: #FFFF0b;}\n",
       ".cython.score-206 {background-color: #FFFF0b;}\n",
       ".cython.score-207 {background-color: #FFFF0b;}\n",
       ".cython.score-208 {background-color: #FFFF0b;}\n",
       ".cython.score-209 {background-color: #FFFF0b;}\n",
       ".cython.score-210 {background-color: #FFFF0b;}\n",
       ".cython.score-211 {background-color: #FFFF0b;}\n",
       ".cython.score-212 {background-color: #FFFF0b;}\n",
       ".cython.score-213 {background-color: #FFFF0b;}\n",
       ".cython.score-214 {background-color: #FFFF0b;}\n",
       ".cython.score-215 {background-color: #FFFF0b;}\n",
       ".cython.score-216 {background-color: #FFFF0b;}\n",
       ".cython.score-217 {background-color: #FFFF0b;}\n",
       ".cython.score-218 {background-color: #FFFF0b;}\n",
       ".cython.score-219 {background-color: #FFFF0b;}\n",
       ".cython.score-220 {background-color: #FFFF0b;}\n",
       ".cython.score-221 {background-color: #FFFF0b;}\n",
       ".cython.score-222 {background-color: #FFFF0a;}\n",
       ".cython.score-223 {background-color: #FFFF0a;}\n",
       ".cython.score-224 {background-color: #FFFF0a;}\n",
       ".cython.score-225 {background-color: #FFFF0a;}\n",
       ".cython.score-226 {background-color: #FFFF0a;}\n",
       ".cython.score-227 {background-color: #FFFF0a;}\n",
       ".cython.score-228 {background-color: #FFFF0a;}\n",
       ".cython.score-229 {background-color: #FFFF0a;}\n",
       ".cython.score-230 {background-color: #FFFF0a;}\n",
       ".cython.score-231 {background-color: #FFFF0a;}\n",
       ".cython.score-232 {background-color: #FFFF0a;}\n",
       ".cython.score-233 {background-color: #FFFF0a;}\n",
       ".cython.score-234 {background-color: #FFFF0a;}\n",
       ".cython.score-235 {background-color: #FFFF0a;}\n",
       ".cython.score-236 {background-color: #FFFF0a;}\n",
       ".cython.score-237 {background-color: #FFFF0a;}\n",
       ".cython.score-238 {background-color: #FFFF0a;}\n",
       ".cython.score-239 {background-color: #FFFF0a;}\n",
       ".cython.score-240 {background-color: #FFFF0a;}\n",
       ".cython.score-241 {background-color: #FFFF0a;}\n",
       ".cython.score-242 {background-color: #FFFF0a;}\n",
       ".cython.score-243 {background-color: #FFFF0a;}\n",
       ".cython.score-244 {background-color: #FFFF0a;}\n",
       ".cython.score-245 {background-color: #FFFF0a;}\n",
       ".cython.score-246 {background-color: #FFFF09;}\n",
       ".cython.score-247 {background-color: #FFFF09;}\n",
       ".cython.score-248 {background-color: #FFFF09;}\n",
       ".cython.score-249 {background-color: #FFFF09;}\n",
       ".cython.score-250 {background-color: #FFFF09;}\n",
       ".cython.score-251 {background-color: #FFFF09;}\n",
       ".cython.score-252 {background-color: #FFFF09;}\n",
       ".cython.score-253 {background-color: #FFFF09;}\n",
       ".cython.score-254 {background-color: #FFFF09;}\n",
       ".cython .hll { background-color: #ffffcc }\n",
       ".cython  { background: #f8f8f8; }\n",
       ".cython .c { color: #408080; font-style: italic } /* Comment */\n",
       ".cython .err { border: 1px solid #FF0000 } /* Error */\n",
       ".cython .k { color: #008000; font-weight: bold } /* Keyword */\n",
       ".cython .o { color: #666666 } /* Operator */\n",
       ".cython .ch { color: #408080; font-style: italic } /* Comment.Hashbang */\n",
       ".cython .cm { color: #408080; font-style: italic } /* Comment.Multiline */\n",
       ".cython .cp { color: #BC7A00 } /* Comment.Preproc */\n",
       ".cython .cpf { color: #408080; font-style: italic } /* Comment.PreprocFile */\n",
       ".cython .c1 { color: #408080; font-style: italic } /* Comment.Single */\n",
       ".cython .cs { color: #408080; font-style: italic } /* Comment.Special */\n",
       ".cython .gd { color: #A00000 } /* Generic.Deleted */\n",
       ".cython .ge { font-style: italic } /* Generic.Emph */\n",
       ".cython .gr { color: #FF0000 } /* Generic.Error */\n",
       ".cython .gh { color: #000080; font-weight: bold } /* Generic.Heading */\n",
       ".cython .gi { color: #00A000 } /* Generic.Inserted */\n",
       ".cython .go { color: #888888 } /* Generic.Output */\n",
       ".cython .gp { color: #000080; font-weight: bold } /* Generic.Prompt */\n",
       ".cython .gs { font-weight: bold } /* Generic.Strong */\n",
       ".cython .gu { color: #800080; font-weight: bold } /* Generic.Subheading */\n",
       ".cython .gt { color: #0044DD } /* Generic.Traceback */\n",
       ".cython .kc { color: #008000; font-weight: bold } /* Keyword.Constant */\n",
       ".cython .kd { color: #008000; font-weight: bold } /* Keyword.Declaration */\n",
       ".cython .kn { color: #008000; font-weight: bold } /* Keyword.Namespace */\n",
       ".cython .kp { color: #008000 } /* Keyword.Pseudo */\n",
       ".cython .kr { color: #008000; font-weight: bold } /* Keyword.Reserved */\n",
       ".cython .kt { color: #B00040 } /* Keyword.Type */\n",
       ".cython .m { color: #666666 } /* Literal.Number */\n",
       ".cython .s { color: #BA2121 } /* Literal.String */\n",
       ".cython .na { color: #7D9029 } /* Name.Attribute */\n",
       ".cython .nb { color: #008000 } /* Name.Builtin */\n",
       ".cython .nc { color: #0000FF; font-weight: bold } /* Name.Class */\n",
       ".cython .no { color: #880000 } /* Name.Constant */\n",
       ".cython .nd { color: #AA22FF } /* Name.Decorator */\n",
       ".cython .ni { color: #999999; font-weight: bold } /* Name.Entity */\n",
       ".cython .ne { color: #D2413A; font-weight: bold } /* Name.Exception */\n",
       ".cython .nf { color: #0000FF } /* Name.Function */\n",
       ".cython .nl { color: #A0A000 } /* Name.Label */\n",
       ".cython .nn { color: #0000FF; font-weight: bold } /* Name.Namespace */\n",
       ".cython .nt { color: #008000; font-weight: bold } /* Name.Tag */\n",
       ".cython .nv { color: #19177C } /* Name.Variable */\n",
       ".cython .ow { color: #AA22FF; font-weight: bold } /* Operator.Word */\n",
       ".cython .w { color: #bbbbbb } /* Text.Whitespace */\n",
       ".cython .mb { color: #666666 } /* Literal.Number.Bin */\n",
       ".cython .mf { color: #666666 } /* Literal.Number.Float */\n",
       ".cython .mh { color: #666666 } /* Literal.Number.Hex */\n",
       ".cython .mi { color: #666666 } /* Literal.Number.Integer */\n",
       ".cython .mo { color: #666666 } /* Literal.Number.Oct */\n",
       ".cython .sa { color: #BA2121 } /* Literal.String.Affix */\n",
       ".cython .sb { color: #BA2121 } /* Literal.String.Backtick */\n",
       ".cython .sc { color: #BA2121 } /* Literal.String.Char */\n",
       ".cython .dl { color: #BA2121 } /* Literal.String.Delimiter */\n",
       ".cython .sd { color: #BA2121; font-style: italic } /* Literal.String.Doc */\n",
       ".cython .s2 { color: #BA2121 } /* Literal.String.Double */\n",
       ".cython .se { color: #BB6622; font-weight: bold } /* Literal.String.Escape */\n",
       ".cython .sh { color: #BA2121 } /* Literal.String.Heredoc */\n",
       ".cython .si { color: #BB6688; font-weight: bold } /* Literal.String.Interpol */\n",
       ".cython .sx { color: #008000 } /* Literal.String.Other */\n",
       ".cython .sr { color: #BB6688 } /* Literal.String.Regex */\n",
       ".cython .s1 { color: #BA2121 } /* Literal.String.Single */\n",
       ".cython .ss { color: #19177C } /* Literal.String.Symbol */\n",
       ".cython .bp { color: #008000 } /* Name.Builtin.Pseudo */\n",
       ".cython .fm { color: #0000FF } /* Name.Function.Magic */\n",
       ".cython .vc { color: #19177C } /* Name.Variable.Class */\n",
       ".cython .vg { color: #19177C } /* Name.Variable.Global */\n",
       ".cython .vi { color: #19177C } /* Name.Variable.Instance */\n",
       ".cython .vm { color: #19177C } /* Name.Variable.Magic */\n",
       ".cython .il { color: #666666 } /* Literal.Number.Integer.Long */\n",
       "    </style>\n",
       "</head>\n",
       "<body class=\"cython\">\n",
       "<p><span style=\"border-bottom: solid 1px grey;\">Generated by Cython 0.28.3</span></p>\n",
       "<p>\n",
       "    <span style=\"background-color: #FFFF00\">Yellow lines</span> hint at Python interaction.<br />\n",
       "    Click on a line that starts with a \"<code>+</code>\" to see the C code that Cython generated for it.\n",
       "</p>\n",
       "<div class=\"cython\"><pre class=\"cython line score-0\">&#xA0;<span class=\"\">01</span>: </pre>\n",
       "<pre class=\"cython line score-0\">&#xA0;<span class=\"\">02</span>: <span class=\"k\">cimport</span> <span class=\"nn\">scipy.special.cython_special</span> <span class=\"k\">as</span> <span class=\"nn\">csc</span></pre>\n",
       "<pre class=\"cython line score-0\">&#xA0;<span class=\"\">03</span>: </pre>\n",
       "<pre class=\"cython line score-0\">&#xA0;<span class=\"\">04</span>: <span class=\"k\">cdef</span><span class=\"p\">:</span></pre>\n",
       "<pre class=\"cython line score-0\" onclick=\"(function(s){s.display=s.display==='block'?'none':'block'})(this.nextElementSibling.style)\">+<span class=\"\">05</span>:     <span class=\"n\">double</span> <span class=\"n\">x</span> <span class=\"o\">=</span> <span class=\"mf\">1</span></pre>\n",
       "<pre class='cython code score-0 '>  __pyx_v_46_cython_magic_684790e4af39b5c80e39e5974eacdfbe_x = 1.0;\n",
       "</pre><pre class=\"cython line score-0\" onclick=\"(function(s){s.display=s.display==='block'?'none':'block'})(this.nextElementSibling.style)\">+<span class=\"\">06</span>:     <span class=\"n\">double</span> <span class=\"nb\">complex</span> <span class=\"n\">z</span> <span class=\"o\">=</span> <span class=\"mf\">1</span> <span class=\"o\">+</span> <span class=\"mf\">1</span><span class=\"n\">j</span></pre>\n",
       "<pre class='cython code score-0 '>  __pyx_v_46_cython_magic_684790e4af39b5c80e39e5974eacdfbe_z = __Pyx_c_sum_double(__pyx_t_double_complex_from_parts(1, 0), __pyx_t_double_complex_from_parts(0, 1.0));\n",
       "</pre><pre class=\"cython line score-0\">&#xA0;<span class=\"\">07</span>:     <span class=\"n\">double</span> <span class=\"n\">si</span><span class=\"p\">,</span> <span class=\"n\">ci</span><span class=\"p\">,</span> <span class=\"n\">rgam</span></pre>\n",
       "<pre class=\"cython line score-0\">&#xA0;<span class=\"\">08</span>:     <span class=\"n\">double</span> <span class=\"nb\">complex</span> <span class=\"n\">cgam</span></pre>\n",
       "<pre class=\"cython line score-0\">&#xA0;<span class=\"\">09</span>: </pre>\n",
       "<pre class=\"cython line score-0\" onclick=\"(function(s){s.display=s.display==='block'?'none':'block'})(this.nextElementSibling.style)\">+<span class=\"\">10</span>: <span class=\"n\">rgam</span> <span class=\"o\">=</span> <span class=\"n\">csc</span><span class=\"o\">.</span><span class=\"n\">gamma</span><span class=\"p\">(</span><span class=\"n\">x</span><span class=\"p\">)</span></pre>\n",
       "<pre class='cython code score-0 '>  __pyx_v_46_cython_magic_684790e4af39b5c80e39e5974eacdfbe_rgam = __pyx_fuse_1__pyx_f_5scipy_7special_14cython_special_gamma(__pyx_v_46_cython_magic_684790e4af39b5c80e39e5974eacdfbe_x, 0);\n",
       "</pre><pre class=\"cython line score-9\" onclick=\"(function(s){s.display=s.display==='block'?'none':'block'})(this.nextElementSibling.style)\">+<span class=\"\">11</span>: <span class=\"k\">print</span><span class=\"p\">(</span><span class=\"n\">rgam</span><span class=\"p\">)</span></pre>\n",
       "<pre class='cython code score-9 '>  __pyx_t_1 = <span class='py_c_api'>PyFloat_FromDouble</span>(__pyx_v_46_cython_magic_684790e4af39b5c80e39e5974eacdfbe_rgam);<span class='error_goto'> if (unlikely(!__pyx_t_1)) __PYX_ERR(0, 11, __pyx_L1_error)</span>\n",
       "  <span class='refnanny'>__Pyx_GOTREF</span>(__pyx_t_1);\n",
       "  __pyx_t_2 = <span class='pyx_c_api'>__Pyx_PyObject_CallOneArg</span>(__pyx_builtin_print, __pyx_t_1);<span class='error_goto'> if (unlikely(!__pyx_t_2)) __PYX_ERR(0, 11, __pyx_L1_error)</span>\n",
       "  <span class='refnanny'>__Pyx_GOTREF</span>(__pyx_t_2);\n",
       "  <span class='pyx_macro_api'>__Pyx_DECREF</span>(__pyx_t_1); __pyx_t_1 = 0;\n",
       "  <span class='pyx_macro_api'>__Pyx_DECREF</span>(__pyx_t_2); __pyx_t_2 = 0;\n",
       "</pre><pre class=\"cython line score-0\" onclick=\"(function(s){s.display=s.display==='block'?'none':'block'})(this.nextElementSibling.style)\">+<span class=\"\">12</span>: <span class=\"n\">cgam</span> <span class=\"o\">=</span> <span class=\"n\">csc</span><span class=\"o\">.</span><span class=\"n\">gamma</span><span class=\"p\">(</span><span class=\"n\">z</span><span class=\"p\">)</span></pre>\n",
       "<pre class='cython code score-0 '>  __pyx_v_46_cython_magic_684790e4af39b5c80e39e5974eacdfbe_cgam = __pyx_fuse_0__pyx_f_5scipy_7special_14cython_special_gamma(__pyx_v_46_cython_magic_684790e4af39b5c80e39e5974eacdfbe_z, 0);\n",
       "</pre><pre class=\"cython line score-9\" onclick=\"(function(s){s.display=s.display==='block'?'none':'block'})(this.nextElementSibling.style)\">+<span class=\"\">13</span>: <span class=\"k\">print</span><span class=\"p\">(</span><span class=\"n\">cgam</span><span class=\"p\">)</span></pre>\n",
       "<pre class='cython code score-9 '>  __pyx_t_2 = __pyx_<span class='py_c_api'>PyComplex_FromComplex</span>(__pyx_v_46_cython_magic_684790e4af39b5c80e39e5974eacdfbe_cgam);<span class='error_goto'> if (unlikely(!__pyx_t_2)) __PYX_ERR(0, 13, __pyx_L1_error)</span>\n",
       "  <span class='refnanny'>__Pyx_GOTREF</span>(__pyx_t_2);\n",
       "  __pyx_t_1 = <span class='pyx_c_api'>__Pyx_PyObject_CallOneArg</span>(__pyx_builtin_print, __pyx_t_2);<span class='error_goto'> if (unlikely(!__pyx_t_1)) __PYX_ERR(0, 13, __pyx_L1_error)</span>\n",
       "  <span class='refnanny'>__Pyx_GOTREF</span>(__pyx_t_1);\n",
       "  <span class='pyx_macro_api'>__Pyx_DECREF</span>(__pyx_t_2); __pyx_t_2 = 0;\n",
       "  <span class='pyx_macro_api'>__Pyx_DECREF</span>(__pyx_t_1); __pyx_t_1 = 0;\n",
       "</pre><pre class=\"cython line score-0\" onclick=\"(function(s){s.display=s.display==='block'?'none':'block'})(this.nextElementSibling.style)\">+<span class=\"\">14</span>: <span class=\"n\">csc</span><span class=\"o\">.</span><span class=\"n\">sici</span><span class=\"p\">(</span><span class=\"n\">x</span><span class=\"p\">,</span> <span class=\"o\">&amp;</span><span class=\"n\">si</span><span class=\"p\">,</span> <span class=\"o\">&amp;</span><span class=\"n\">ci</span><span class=\"p\">)</span></pre>\n",
       "<pre class='cython code score-0 '>  __pyx_fuse_1__pyx_f_5scipy_7special_14cython_special_sici(__pyx_v_46_cython_magic_684790e4af39b5c80e39e5974eacdfbe_x, (&amp;__pyx_v_46_cython_magic_684790e4af39b5c80e39e5974eacdfbe_si), (&amp;__pyx_v_46_cython_magic_684790e4af39b5c80e39e5974eacdfbe_ci));\n",
       "</pre><pre class=\"cython line score-21\" onclick=\"(function(s){s.display=s.display==='block'?'none':'block'})(this.nextElementSibling.style)\">+<span class=\"\">15</span>: <span class=\"k\">print</span><span class=\"p\">(</span><span class=\"n\">si</span><span class=\"p\">,</span> <span class=\"n\">ci</span><span class=\"p\">)</span></pre>\n",
       "<pre class='cython code score-21 '>  __pyx_t_1 = <span class='py_c_api'>PyFloat_FromDouble</span>(__pyx_v_46_cython_magic_684790e4af39b5c80e39e5974eacdfbe_si);<span class='error_goto'> if (unlikely(!__pyx_t_1)) __PYX_ERR(0, 15, __pyx_L1_error)</span>\n",
       "  <span class='refnanny'>__Pyx_GOTREF</span>(__pyx_t_1);\n",
       "  __pyx_t_2 = <span class='py_c_api'>PyFloat_FromDouble</span>(__pyx_v_46_cython_magic_684790e4af39b5c80e39e5974eacdfbe_ci);<span class='error_goto'> if (unlikely(!__pyx_t_2)) __PYX_ERR(0, 15, __pyx_L1_error)</span>\n",
       "  <span class='refnanny'>__Pyx_GOTREF</span>(__pyx_t_2);\n",
       "  __pyx_t_3 = <span class='py_c_api'>PyTuple_New</span>(2);<span class='error_goto'> if (unlikely(!__pyx_t_3)) __PYX_ERR(0, 15, __pyx_L1_error)</span>\n",
       "  <span class='refnanny'>__Pyx_GOTREF</span>(__pyx_t_3);\n",
       "  <span class='refnanny'>__Pyx_GIVEREF</span>(__pyx_t_1);\n",
       "  <span class='py_macro_api'>PyTuple_SET_ITEM</span>(__pyx_t_3, 0, __pyx_t_1);\n",
       "  <span class='refnanny'>__Pyx_GIVEREF</span>(__pyx_t_2);\n",
       "  <span class='py_macro_api'>PyTuple_SET_ITEM</span>(__pyx_t_3, 1, __pyx_t_2);\n",
       "  __pyx_t_1 = 0;\n",
       "  __pyx_t_2 = 0;\n",
       "  __pyx_t_2 = <span class='pyx_c_api'>__Pyx_PyObject_Call</span>(__pyx_builtin_print, __pyx_t_3, NULL);<span class='error_goto'> if (unlikely(!__pyx_t_2)) __PYX_ERR(0, 15, __pyx_L1_error)</span>\n",
       "  <span class='refnanny'>__Pyx_GOTREF</span>(__pyx_t_2);\n",
       "  <span class='pyx_macro_api'>__Pyx_DECREF</span>(__pyx_t_3); __pyx_t_3 = 0;\n",
       "  <span class='pyx_macro_api'>__Pyx_DECREF</span>(__pyx_t_2); __pyx_t_2 = 0;\n",
       "</pre></div></body></html>"
      ],
      "text/plain": [
       "<IPython.core.display.HTML object>"
      ]
     },
     "execution_count": 12,
     "metadata": {},
     "output_type": "execute_result"
    }
   ],
   "source": [
    "%%cython -a\n",
    "\n",
    "cimport scipy.special.cython_special as csc\n",
    "\n",
    "cdef:\n",
    "    double x = 1\n",
    "    double complex z = 1 + 1j\n",
    "    double si, ci, rgam\n",
    "    double complex cgam\n",
    "\n",
    "rgam = csc.gamma(x)\n",
    "print(rgam)\n",
    "cgam = csc.gamma(z)\n",
    "print(cgam)\n",
    "csc.sici(x, &si, &ci)\n",
    "print(si, ci)"
   ]
  },
  {
   "cell_type": "markdown",
   "metadata": {
    "slideshow": {
     "slide_type": "subslide"
    }
   },
   "source": [
    "* scipy.special.sici\n",
    "    * $\\int_0^x \\frac{\\sin t}{t} dt$と$\\gamma + \\log (x) + \\int_0^x \\frac{\\cos t - 1}{t} dt$を計算"
   ]
  },
  {
   "cell_type": "markdown",
   "metadata": {
    "slideshow": {
     "slide_type": "subslide"
    }
   },
   "source": [
    "### Tutorial記載の他の内容\n",
    "\n",
    "* cythonのprangeを使うことでGILを外して並列に回す例\n",
    "* specialに含まれないがnumpy, scipyで容易に実装可能な関数の紹介\n",
    "    * 2値エントロピー関数、ヘビサイド関数、ステップ関数、ランプ関数"
   ]
  },
  {
   "cell_type": "markdown",
   "metadata": {
    "slideshow": {
     "slide_type": "slide"
    }
   },
   "source": [
    "## scipy.linalg ##\n",
    "\n",
    "* 線形代数関連の操作を扱うモジュール"
   ]
  },
  {
   "cell_type": "markdown",
   "metadata": {
    "slideshow": {
     "slide_type": "subslide"
    }
   },
   "source": [
    "### numpy.linalgとの違い ###\n",
    "\n",
    "* https://www.scipy.org/scipylib/faq.html#why-both-numpy-linalg-and-scipy-linalg-what-s-the-difference\n",
    "    * `scipy.linalg`はLAPACKを用いたより完璧なラッパー\n",
    "    * numpy.linalgはFortranコンパイラなしでもビルドでき、LAPACKが無い場合は自前の実装を用いる\n",
    "    * 両者は共通の関数を持つが異なるdocstringを持つ"
   ]
  },
  {
   "cell_type": "markdown",
   "metadata": {
    "slideshow": {
     "slide_type": "subslide"
    }
   },
   "source": [
    "* `scipy.linalg`は`numpy.linalg`に存在しない機能を持つ\n",
    "    * LU分解、シュール分解\n",
    "    * 様々な方法による擬似逆行列の計算\n",
    "    * 行列の対数のような行列操作\n",
    "    * 追加の引数を持つもの(`scipy.linalg.eig()`は一般化固有値問題を解くために第二の行列を引数に取ることが可能)"
   ]
  },
  {
   "cell_type": "markdown",
   "metadata": {
    "slideshow": {
     "slide_type": "skip"
    }
   },
   "source": [
    "### numpy.matrixと2次元numpy.ndarray ###\n",
    "\n",
    "* numpy.matrix\n",
    "    * ndarrayよりも行列操作に便利なインタフェースを持ったクラス\n",
    "    * 1次元matrixの転置は転置となり、matrixオブジェクト同士の`*`による乗算は行列の乗算となる\n",
    "* numpy.ndarray\n",
    "    * 1次元ndarrayは`.T`による転置操作は転置にならず、`*`による乗算は要素同士の乗算となる\n",
    "* `scipy.linalg`の操作はどちらのオブジェクトに対しても同一の操作を実現"
   ]
  },
  {
   "cell_type": "markdown",
   "metadata": {
    "slideshow": {
     "slide_type": "slide"
    }
   },
   "source": [
    "### 行列式の計算 ###\n",
    "\n",
    "* `linalg.det`で計算可能\n",
    "* 行列式は余因子展開によって再帰的に求めることが可能\n",
    "\n",
    "$$ |\\textbf{A}|=\\sum_j (-1)^{i+j} a_{i,j} M_{i,j} $$\n",
    "\n",
    "* $ M_{i,j} = | \\textbf{A}_{ij}| $はAの(i,j)小行列式(第i行と第j列を取り除いて得られる行列)$\\textbf{A}_{ij}$の行列式"
   ]
  },
  {
   "cell_type": "code",
   "execution_count": 13,
   "metadata": {
    "slideshow": {
     "slide_type": "subslide"
    }
   },
   "outputs": [
    {
     "name": "stdout",
     "output_type": "stream",
     "text": [
      "-2.0\n",
      "6.661338147750939e-16\n"
     ]
    },
    {
     "ename": "ValueError",
     "evalue": "expected square matrix",
     "output_type": "error",
     "traceback": [
      "\u001b[0;31m---------------------------------------------------------------------------\u001b[0m",
      "\u001b[0;31mValueError\u001b[0m                                Traceback (most recent call last)",
      "\u001b[0;32m<ipython-input-13-c0c6957027f4>\u001b[0m in \u001b[0;36m<module>\u001b[0;34m()\u001b[0m\n\u001b[1;32m      8\u001b[0m \u001b[0mprint\u001b[0m\u001b[0;34m(\u001b[0m\u001b[0mla\u001b[0m\u001b[0;34m.\u001b[0m\u001b[0mdet\u001b[0m\u001b[0;34m(\u001b[0m\u001b[0mA\u001b[0m\u001b[0;34m)\u001b[0m \u001b[0;34m)\u001b[0m  \u001b[0;31m# 3*4-2*6=0\u001b[0m\u001b[0;34m\u001b[0m\u001b[0m\n\u001b[1;32m      9\u001b[0m \u001b[0;34m\u001b[0m\u001b[0m\n\u001b[0;32m---> 10\u001b[0;31m \u001b[0mprint\u001b[0m\u001b[0;34m(\u001b[0m\u001b[0mla\u001b[0m\u001b[0;34m.\u001b[0m\u001b[0mdet\u001b[0m\u001b[0;34m(\u001b[0m\u001b[0mnp\u001b[0m\u001b[0;34m.\u001b[0m\u001b[0mones\u001b[0m\u001b[0;34m(\u001b[0m\u001b[0;34m(\u001b[0m\u001b[0;36m3\u001b[0m\u001b[0;34m,\u001b[0m \u001b[0;36m4\u001b[0m\u001b[0;34m)\u001b[0m\u001b[0;34m)\u001b[0m\u001b[0;34m)\u001b[0m\u001b[0;34m)\u001b[0m  \u001b[0;31m# 正方行列ではない\u001b[0m\u001b[0;34m\u001b[0m\u001b[0m\n\u001b[0m",
      "\u001b[0;32m~/.pyenv/versions/miniconda3-4.3.30/envs/py36/lib/python3.6/site-packages/scipy/linalg/basic.py\u001b[0m in \u001b[0;36mdet\u001b[0;34m(a, overwrite_a, check_finite)\u001b[0m\n\u001b[1;32m   1030\u001b[0m     \u001b[0ma1\u001b[0m \u001b[0;34m=\u001b[0m \u001b[0m_asarray_validated\u001b[0m\u001b[0;34m(\u001b[0m\u001b[0ma\u001b[0m\u001b[0;34m,\u001b[0m \u001b[0mcheck_finite\u001b[0m\u001b[0;34m=\u001b[0m\u001b[0mcheck_finite\u001b[0m\u001b[0;34m)\u001b[0m\u001b[0;34m\u001b[0m\u001b[0m\n\u001b[1;32m   1031\u001b[0m     \u001b[0;32mif\u001b[0m \u001b[0mlen\u001b[0m\u001b[0;34m(\u001b[0m\u001b[0ma1\u001b[0m\u001b[0;34m.\u001b[0m\u001b[0mshape\u001b[0m\u001b[0;34m)\u001b[0m \u001b[0;34m!=\u001b[0m \u001b[0;36m2\u001b[0m \u001b[0;32mor\u001b[0m \u001b[0ma1\u001b[0m\u001b[0;34m.\u001b[0m\u001b[0mshape\u001b[0m\u001b[0;34m[\u001b[0m\u001b[0;36m0\u001b[0m\u001b[0;34m]\u001b[0m \u001b[0;34m!=\u001b[0m \u001b[0ma1\u001b[0m\u001b[0;34m.\u001b[0m\u001b[0mshape\u001b[0m\u001b[0;34m[\u001b[0m\u001b[0;36m1\u001b[0m\u001b[0;34m]\u001b[0m\u001b[0;34m:\u001b[0m\u001b[0;34m\u001b[0m\u001b[0m\n\u001b[0;32m-> 1032\u001b[0;31m         \u001b[0;32mraise\u001b[0m \u001b[0mValueError\u001b[0m\u001b[0;34m(\u001b[0m\u001b[0;34m'expected square matrix'\u001b[0m\u001b[0;34m)\u001b[0m\u001b[0;34m\u001b[0m\u001b[0m\n\u001b[0m\u001b[1;32m   1033\u001b[0m     \u001b[0moverwrite_a\u001b[0m \u001b[0;34m=\u001b[0m \u001b[0moverwrite_a\u001b[0m \u001b[0;32mor\u001b[0m \u001b[0m_datacopied\u001b[0m\u001b[0;34m(\u001b[0m\u001b[0ma1\u001b[0m\u001b[0;34m,\u001b[0m \u001b[0ma\u001b[0m\u001b[0;34m)\u001b[0m\u001b[0;34m\u001b[0m\u001b[0m\n\u001b[1;32m   1034\u001b[0m     \u001b[0mfdet\u001b[0m\u001b[0;34m,\u001b[0m \u001b[0;34m=\u001b[0m \u001b[0mget_flinalg_funcs\u001b[0m\u001b[0;34m(\u001b[0m\u001b[0;34m(\u001b[0m\u001b[0;34m'det'\u001b[0m\u001b[0;34m,\u001b[0m\u001b[0;34m)\u001b[0m\u001b[0;34m,\u001b[0m \u001b[0;34m(\u001b[0m\u001b[0ma1\u001b[0m\u001b[0;34m,\u001b[0m\u001b[0;34m)\u001b[0m\u001b[0;34m)\u001b[0m\u001b[0;34m\u001b[0m\u001b[0m\n",
      "\u001b[0;31mValueError\u001b[0m: expected square matrix"
     ]
    }
   ],
   "source": [
    "# 行列式の計算\n",
    "A = np.array([[1, 2],\n",
    "              [3, 4]])\n",
    "print(la.det(A))  # 1*4-2*3=-2\n",
    "\n",
    "A = np.array([[3, 2],\n",
    "              [6, 4]])\n",
    "print(la.det(A) )  # 3*4-2*6=0\n",
    "\n",
    "print(la.det(np.ones((3, 4))))  # 正方行列ではない"
   ]
  },
  {
   "cell_type": "markdown",
   "metadata": {
    "slideshow": {
     "slide_type": "slide"
    }
   },
   "source": [
    "### 逆行列の計算 ###\n",
    "\n",
    "* `linalg.inv`を用いる"
   ]
  },
  {
   "cell_type": "code",
   "execution_count": 14,
   "metadata": {
    "slideshow": {
     "slide_type": "fragment"
    }
   },
   "outputs": [
    {
     "name": "stdout",
     "output_type": "stream",
     "text": [
      "[[-2.   1. ]\n",
      " [ 1.5 -0.5]]\n",
      "[[1.0000000e+00 0.0000000e+00]\n",
      " [8.8817842e-16 1.0000000e+00]]\n",
      "True\n"
     ]
    }
   ],
   "source": [
    "# 逆行列の計算\n",
    "A = np.array([[1, 2],\n",
    "              [3, 4]])\n",
    "A_inv = la.inv(A)\n",
    "print(A_inv)\n",
    "print(A @ A_inv)  # AA^-1 ~= I\n",
    "print(np.allclose(A @ A_inv, np.eye(2)))"
   ]
  },
  {
   "cell_type": "code",
   "execution_count": 15,
   "metadata": {
    "scrolled": true,
    "slideshow": {
     "slide_type": "subslide"
    }
   },
   "outputs": [
    {
     "ename": "LinAlgError",
     "evalue": "singular matrix",
     "output_type": "error",
     "traceback": [
      "\u001b[0;31m---------------------------------------------------------------------------\u001b[0m",
      "\u001b[0;31mLinAlgError\u001b[0m                               Traceback (most recent call last)",
      "\u001b[0;32m<ipython-input-15-6b5557458fe3>\u001b[0m in \u001b[0;36m<module>\u001b[0;34m()\u001b[0m\n\u001b[1;32m      2\u001b[0m A = np.array([[3, 2],\n\u001b[1;32m      3\u001b[0m               [6, 4]])\n\u001b[0;32m----> 4\u001b[0;31m \u001b[0mla\u001b[0m\u001b[0;34m.\u001b[0m\u001b[0minv\u001b[0m\u001b[0;34m(\u001b[0m\u001b[0mA\u001b[0m\u001b[0;34m)\u001b[0m\u001b[0;34m\u001b[0m\u001b[0m\n\u001b[0m",
      "\u001b[0;32m~/.pyenv/versions/miniconda3-4.3.30/envs/py36/lib/python3.6/site-packages/scipy/linalg/basic.py\u001b[0m in \u001b[0;36minv\u001b[0;34m(a, overwrite_a, check_finite)\u001b[0m\n\u001b[1;32m    973\u001b[0m         \u001b[0minv_a\u001b[0m\u001b[0;34m,\u001b[0m \u001b[0minfo\u001b[0m \u001b[0;34m=\u001b[0m \u001b[0mgetri\u001b[0m\u001b[0;34m(\u001b[0m\u001b[0mlu\u001b[0m\u001b[0;34m,\u001b[0m \u001b[0mpiv\u001b[0m\u001b[0;34m,\u001b[0m \u001b[0mlwork\u001b[0m\u001b[0;34m=\u001b[0m\u001b[0mlwork\u001b[0m\u001b[0;34m,\u001b[0m \u001b[0moverwrite_lu\u001b[0m\u001b[0;34m=\u001b[0m\u001b[0;36m1\u001b[0m\u001b[0;34m)\u001b[0m\u001b[0;34m\u001b[0m\u001b[0m\n\u001b[1;32m    974\u001b[0m     \u001b[0;32mif\u001b[0m \u001b[0minfo\u001b[0m \u001b[0;34m>\u001b[0m \u001b[0;36m0\u001b[0m\u001b[0;34m:\u001b[0m\u001b[0;34m\u001b[0m\u001b[0m\n\u001b[0;32m--> 975\u001b[0;31m         \u001b[0;32mraise\u001b[0m \u001b[0mLinAlgError\u001b[0m\u001b[0;34m(\u001b[0m\u001b[0;34m\"singular matrix\"\u001b[0m\u001b[0;34m)\u001b[0m\u001b[0;34m\u001b[0m\u001b[0m\n\u001b[0m\u001b[1;32m    976\u001b[0m     \u001b[0;32mif\u001b[0m \u001b[0minfo\u001b[0m \u001b[0;34m<\u001b[0m \u001b[0;36m0\u001b[0m\u001b[0;34m:\u001b[0m\u001b[0;34m\u001b[0m\u001b[0m\n\u001b[1;32m    977\u001b[0m         raise ValueError('illegal value in %d-th argument of internal '\n",
      "\u001b[0;31mLinAlgError\u001b[0m: singular matrix"
     ]
    }
   ],
   "source": [
    "# 特異行列(行列式が0)の場合は逆行列が求められないのでLinAlgError例外を投げる\n",
    "A = np.array([[3, 2],\n",
    "              [6, 4]])\n",
    "la.inv(A)  "
   ]
  },
  {
   "cell_type": "markdown",
   "metadata": {
    "slideshow": {
     "slide_type": "slide"
    }
   },
   "source": [
    "### 線形方程式を解く ###\n",
    "\n",
    "* `linalg.solve`を用いる\n",
    "* 下記線形方程式を解くことを考える\n",
    "\n",
    "$$\n",
    "\\begin{aligned}\n",
    "x + 2y &=&  5 \\\\\n",
    "3x + 4y &=& 6 \\\\\n",
    "\\end{aligned}\n",
    "$$\n",
    "\n",
    "* $\\textbf{A}\\textbf{x}=\\textbf{b}$とみなすと$\\textbf{x}=\\textbf{A}^{-1}\\textbf{b}$と計算しても解けるが、速度の観点と数値的な安定性から`linalg.solve`を用いた方が良い"
   ]
  },
  {
   "cell_type": "code",
   "execution_count": 16,
   "metadata": {
    "slideshow": {
     "slide_type": "subslide"
    }
   },
   "outputs": [
    {
     "name": "stdout",
     "output_type": "stream",
     "text": [
      "逆行列による解法\n",
      "[[-4. ]\n",
      " [ 4.5]]\n",
      "[[0.00000000e+00]\n",
      " [1.77635684e-15]]\n",
      "solveによる解法\n",
      "[[-4. ]\n",
      " [ 4.5]]\n",
      "[[0.]\n",
      " [0.]]\n"
     ]
    }
   ],
   "source": [
    "import numpy as np\n",
    "from scipy import linalg\n",
    "A = np.array([[1, 2], [3, 4]])\n",
    "b = np.array([[5], [6]])\n",
    "\n",
    "print(\"逆行列による解法\")\n",
    "print(linalg.inv(A) @ b)  # 遅い\n",
    "print((A @ linalg.inv(A) @ b) - b)  # 確認\n",
    "\n",
    "print(\"solveによる解法\")\n",
    "print(np.linalg.solve(A, b))  # 高速\n",
    "print((A @ np.linalg.solve(A, b)) - b)  # 確認"
   ]
  },
  {
   "cell_type": "markdown",
   "metadata": {
    "slideshow": {
     "slide_type": "slide"
    }
   },
   "source": [
    "### ノルムの計算 ###\n",
    "\n",
    "* `linalg.norm(a, ord)`で行列やベクトルの様々なノルムを計算可能\n",
    "* ベクトルに対してはordパラメータで制御\n",
    "\n",
    "$$\\begin{aligned} || \\textbf{x} || = \\begin{cases} \\max |x_i| & \\textrm{ord} = \\inf \\\\ \\min |x_i| & \\textrm{ord} = -\\inf \\\\ \\left( \\sum_i |x_i|^{\\textrm{ord}} \\right)^{1/\\textrm{ord}} & |\\textrm{ord}| < \\infty. \\end{cases} \\end{aligned} $$\n"
   ]
  },
  {
   "cell_type": "markdown",
   "metadata": {
    "slideshow": {
     "slide_type": "subslide"
    }
   },
   "source": [
    "* 行列に対しては$\\pm2, \\pm1, \\pm\\inf$, 'fro'(または'f')が指定可能\n",
    "\n",
    "$$\\begin{aligned}|| \\textbf{A} || = \\begin{cases} \\max_i \\sum_j |a_{ij}| & \\textrm{ord} = \\inf \\\\ \\min_i \\sum_j |a_{ij}| & \\textrm{ord} = -\\inf \\\\ \\max_j \\sum_i |a_{ij}| & \\textrm{ord} = 1 \\\\ \\min_j \\sum_i |a_{ij}| & \\textrm{ord} = -1 \\\\ \\max \\sigma_i          & \\textrm{ord} = 2 \\\\ \\min \\sigma_i          & \\textrm{ord} = -2 \\\\ \\sqrt{\\textrm{trace} \\left(\\textbf{A}^H\\textbf{A}\\right)} = \\sqrt{\\sum_{i,j} |a_{ij}|^2} & \\textrm{ord} = \\textrm{'fro'} \\end{cases}\\end{aligned} $$\n"
   ]
  },
  {
   "cell_type": "code",
   "execution_count": 17,
   "metadata": {
    "slideshow": {
     "slide_type": "subslide"
    }
   },
   "outputs": [
    {
     "name": "stdout",
     "output_type": "stream",
     "text": [
      "[[1 2]\n",
      " [3 4]]\n",
      "5.477225575051661\n",
      "5.477225575051661\n",
      "5.477225575051661\n",
      "6.0\n",
      "4.0\n",
      "7.0\n"
     ]
    }
   ],
   "source": [
    "A = np.array([[1,2],[3,4]])\n",
    "print(A)\n",
    "print(la.norm(A))\n",
    "print(la.norm(A, 'fro'))  # デフォルト\n",
    "print(np.sqrt(np.trace(A.T @ A)))\n",
    "print(la.norm(A,1))       # L1ノルム(各列の絶対値和のうち最大のもの)\n",
    "print(la.norm(A,-1))      # L1ノルム(各列の絶対値和のうち最小のもの)\n",
    "print(la.norm(A,np.inf))  # L∞ノルム(各行の絶対値和のうち最大のもの)"
   ]
  },
  {
   "cell_type": "markdown",
   "metadata": {
    "slideshow": {
     "slide_type": "slide"
    }
   },
   "source": [
    "### 線形最小二乗問題の解法と擬似逆行列 ###\n",
    "\n",
    "* `linalg.lstsq`\n",
    "    * 最小二乗問題のソルバー\n",
    "* `linalg.pinv`\n",
    "    * 二乗誤差最小化に基づく擬似逆行列\n",
    "* `linalg.pinv2`\n",
    "    * 特異値分解に基づく擬似逆行列"
   ]
  },
  {
   "cell_type": "markdown",
   "metadata": {
    "slideshow": {
     "slide_type": "skip"
    }
   },
   "source": [
    "目標変数$y_i$は説明変数$\\textbf{x}_i$, パラメータ$c_j$, モデル関数$f_j (\\textbf{x}_i )$を用いて下記のように書けるとする\n",
    "\n",
    "$$ y_i = \\sum_j {c_j f_j (\\textbf{x}_i)} + \\epsilon_i $$\n",
    "\n",
    "ここで$\\epsilon$はデータにおける不確かさを表す。\n",
    "パラメータ$c_j$を得るために、以下の式で表される二乗誤差をJパラメータ$c_n$で微分して0とおくことで最小化する。\n",
    "\n",
    "$$ J(\\textbf{c}) = \\sum_i \\left| y_i - \\sum_j { c_j f_j (\\textbf{x}_i) }\\right|^2 $$\n",
    "$$ \\frac{\\partial J}{\\partial c_n^*} = 0 = \\sum_i \\left( y_i - \\sum_j c_j f_j (x_i)\\right)(-f_n^*(x_i)) $$\n",
    "即ち\n",
    "$$ \\sum_j c_j \\sum_i f_j(x_i)f_n^*(x_i) = \\sum_i y_i f_n^* (x_i) $$\n",
    "$$ \\textbf{A}^H\\textbf{A}\\textbf{c}=\\textbf{A}^H\\textbf{y}$$\n",
    "ここで\n",
    "$$\\left\\{ \\textbf{A} \\right\\}_{ij} = f_j (x_i). $$\n",
    "$\\textbf{A}^H\\textbf{A}$に逆行列が存在する場合、\n",
    "$$ \\textbf{c} = \\left(\\textbf{A}^H\\textbf{A}\\right)^{-1} \\textbf{A}^H\\textbf{y} = \\textbf{A}^\\dagger \\textbf{y}$$\n",
    "$\\textbf{A}^\\dagger$は擬似逆行列と呼ばれる"
   ]
  },
  {
   "cell_type": "markdown",
   "metadata": {
    "slideshow": {
     "slide_type": "subslide"
    }
   },
   "source": [
    "### 疑似逆行列 ###\n",
    "\n",
    "* $\\textbf{A}$をM行N列の行列とする\n",
    "* M > Nのとき\n",
    "\n",
    "$$ \\textbf{A}^\\dagger = \\left(\\textbf{A}^H\\textbf{A}\\right)^{-1} \\textbf{A}^H $$\n",
    "\n",
    "* M < Nのとき\n",
    "\n",
    "$$ \\textbf{A}^\\# = \\textbf{A}^H \\left( \\textbf{A}\\textbf{A}^H\\right)^{-1}$$\n",
    "\n",
    "* M = Nのとき\n",
    "\n",
    "$$ \\textbf{A}^\\dagger = \\textbf{A}^\\# = \\textbf{A}^{-1} $$\n"
   ]
  },
  {
   "cell_type": "markdown",
   "metadata": {
    "slideshow": {
     "slide_type": "subslide"
    }
   },
   "source": [
    "* $x_i$=0.1i for i = 1...10に対し、下記のモデルによって生成される$y_i$を考える。\n",
    "$$ y_i = 5e^{-x_i} + 4x_i $$\n",
    "観測値として下記が得られるとき、\n",
    "$$ z_i = y_i + \\epsilon = c_1 e^{-x_i} + c_2 x_i + \\epsilon$$\n",
    "$z_i$と$[e^{-x_i}, x_i]$を用いてモデルパラメータc1とc2を最小二乗法で推定したい"
   ]
  },
  {
   "cell_type": "code",
   "execution_count": 18,
   "metadata": {
    "slideshow": {
     "slide_type": "subslide"
    }
   },
   "outputs": [
    {
     "name": "stdout",
     "output_type": "stream",
     "text": [
      "[[0.90483742 0.1       ]\n",
      " [0.81873075 0.2       ]\n",
      " [0.74081822 0.3       ]\n",
      " [0.67032005 0.4       ]\n",
      " [0.60653066 0.5       ]\n",
      " [0.54881164 0.6       ]\n",
      " [0.4965853  0.7       ]\n",
      " [0.44932896 0.8       ]\n",
      " [0.40656966 0.9       ]\n",
      " [0.36787944 1.        ]]\n"
     ]
    }
   ],
   "source": [
    "c1, c2 = 5.0, 2.0\n",
    "i = np.r_[1:11]\n",
    "xi = 0.1*i  # 説明変数\n",
    "yi = c1*np.exp(-xi) + c2*xi\n",
    "zi = yi + 0.05 * np.max(yi) * np.random.randn(len(yi))  # 観測値\n",
    "\n",
    "A = np.c_[np.exp(-xi)[:, np.newaxis],\n",
    "          xi[:, np.newaxis]]  # 計画行列\n",
    "print(A)"
   ]
  },
  {
   "cell_type": "code",
   "execution_count": 19,
   "metadata": {
    "slideshow": {
     "slide_type": "subslide"
    }
   },
   "outputs": [
    {
     "name": "stdout",
     "output_type": "stream",
     "text": [
      "[5.22765058 1.77693552] 0.17102621042273095 2 [2.58763467 1.02933937]\n"
     ]
    },
    {
     "data": {
      "text/html": [
       "<img src=\"/images/4/0.png\" />"
      ],
      "text/plain": [
       "<Figure size 432x288 with 1 Axes>"
      ]
     },
     "metadata": {},
     "output_type": "display_data"
    }
   ],
   "source": [
    "# 計画行列と観測値を与えてモデルパラメータを推定\n",
    "c, resid, rank, sigma = linalg.lstsq(A, zi)\n",
    "\n",
    "# パラメータ、残差の総和、Aのrank, Aの特異値\n",
    "print(c, resid, rank, sigma)\n",
    "\n",
    "xi2 = np.r_[0.1:1.0:100j]\n",
    "yi2 = c[0]*np.exp(-xi2) + c[1]*xi2\n",
    "yi_true = c1*np.exp(-xi2) + c2*xi2\n",
    "\n",
    "plt.plot(xi,zi,'x',xi2,yi2, xi2, yi_true)\n",
    "plt.axis([0,1.1,3.0,5.5])\n",
    "plt.xlabel('$x_i$')\n",
    "plt.title('Data fitting with linalg.lstsq')\n",
    "plt.show()"
   ]
  },
  {
   "cell_type": "markdown",
   "metadata": {
    "slideshow": {
     "slide_type": "slide"
    }
   },
   "source": [
    "### 固有値分解 ###\n",
    "\n",
    "* `linalg.eig`\n",
    "    * 固有値と固有ベクトルを求める\n",
    "* `linalg.eigvals`\n",
    "    * 固有値のみを求める\n",
    "* エルミート行列または実対象行列の場合は`eigh`, `eigvalsh`が存在\n",
    "* 疎行列の場合は`scipy.sparse.linalg`の`eigs`, `eighs`"
   ]
  },
  {
   "cell_type": "code",
   "execution_count": 20,
   "metadata": {
    "slideshow": {
     "slide_type": "subslide"
    }
   },
   "outputs": [
    {
     "name": "stdout",
     "output_type": "stream",
     "text": [
      "(-0.3722813232690143+0j) (5.372281323269014+0j)\n",
      "[[-0.82456484 -0.41597356]\n",
      " [ 0.56576746 -0.90937671]]\n",
      "[1. 1.]\n",
      "[[ 0.00000000e+00+0.j -4.44089210e-16+0.j]\n",
      " [ 5.55111512e-17+0.j  0.00000000e+00+0.j]]\n"
     ]
    }
   ],
   "source": [
    "A = np.array([[1, 2], [3, 4]])\n",
    "(l1, l2), v = la.eig(A)\n",
    "\n",
    "print(l1, l2)   # 固有値\n",
    "print(v)        # 各列ベクトルが固有ベクトル\n",
    "print(la.norm(v, axis=0))  # 固有ベクトルは正規化されている\n",
    "\n",
    "# Ax = λxとなることを確認\n",
    "# |1 2|  =  |v1 v2 ||l1  0| = |l1*v1 l2*v2|\n",
    "# |3 4|            | 0 l2| \n",
    "print(A@v - v@np.diag((l1,l2)))"
   ]
  },
  {
   "cell_type": "markdown",
   "metadata": {
    "slideshow": {
     "slide_type": "slide"
    }
   },
   "source": [
    "### 特異値分解 ###\n",
    "\n",
    "* 擬似逆行列を求めるときや次元削減に使われる\n",
    "\n",
    "$$ M = U\\Sigma V^* $$\n",
    "\n",
    "* Mはrank rのm行n列\n",
    "    * Uはm行m列のユニタリ行列\n",
    "    * $\\Sigma$は対角方向に特異値が並んだm行n列行列\n",
    "    * $V^*$はn行n列ユニタリ行列Vの随伴行列\n",
    "* (m, n) = (m, m) @ (m, n) @ (n, n)"
   ]
  },
  {
   "cell_type": "code",
   "execution_count": 21,
   "metadata": {
    "scrolled": true,
    "slideshow": {
     "slide_type": "slide"
    }
   },
   "outputs": [
    {
     "name": "stdout",
     "output_type": "stream",
     "text": [
      "[[1 1 2]\n",
      " [3 4 5]\n",
      " [6 7 9]]\n",
      "(3, 3) (3,) (3, 3) (3, 3)\n",
      "[[1. 1. 2.]\n",
      " [3. 4. 5.]\n",
      " [6. 7. 9.]]\n",
      "\n",
      "[[1 2 3]\n",
      " [4 5 6]]\n",
      "(2, 2) (2,) (2, 3) (3, 3)\n",
      "[[1. 2. 3.]\n",
      " [4. 5. 6.]]\n"
     ]
    }
   ],
   "source": [
    "# 正方行列に対する特異値分解\n",
    "A = np.arange(9).reshape((3, 3)) + np.diag([1, 0, 1])\n",
    "U, s, Vh = la.svd(A)\n",
    "Sig = np.diag(s)\n",
    "print(A)\n",
    "print(U.shape, s.shape, Sig.shape, Vh.shape)\n",
    "print(U @ Sig @ Vh)\n",
    "\n",
    "# 非正方行列に対する特異値分解\n",
    "A = np.array([[1,2,3],[4,5,6]])\n",
    "M,N = A.shape\n",
    "\n",
    "U,s,Vh = linalg.svd(A)\n",
    "Sig = la.diagsvd(s, M, N)\n",
    "print(\"\")\n",
    "print(A)\n",
    "print(U.shape, s.shape, Sig.shape, Vh.shape)\n",
    "print(U@Sig@Vh)"
   ]
  },
  {
   "cell_type": "markdown",
   "metadata": {
    "slideshow": {
     "slide_type": "slide"
    }
   },
   "source": [
    "## scipy.fftpack ##\n",
    "\n",
    "* 高速フーリエ変換、離散コサイン変換などができる\n",
    "* `scipy.fftpack.fft`でFFTを実行\n",
    "* `scipy.fftpack.fftfreq`で周波数軸の値を取得"
   ]
  },
  {
   "cell_type": "code",
   "execution_count": 22,
   "metadata": {
    "slideshow": {
     "slide_type": "subslide"
    }
   },
   "outputs": [],
   "source": [
    "import IPython.display"
   ]
  },
  {
   "cell_type": "code",
   "execution_count": 23,
   "metadata": {
    "slideshow": {
     "slide_type": "subslide"
    }
   },
   "outputs": [
    {
     "data": {
      "text/html": [
       "<audio controls preload=\"none\"><source src=\"/wav/4/0.wav\" type=\"audio/wav\" /></audio>"
      ],
      "text/plain": [
       "<IPython.lib.display.Audio object>"
      ]
     },
     "execution_count": 23,
     "metadata": {},
     "output_type": "execute_result"
    },
    {
     "data": {
      "text/html": [
       "<img src=\"/images/4/1.png\" />"
      ],
      "text/plain": [
       "<Figure size 864x288 with 1 Axes>"
      ]
     },
     "metadata": {},
     "output_type": "display_data"
    }
   ],
   "source": [
    "fs = 48000.0; nfft = 2048\n",
    "xs = np.arange(1.0 * fs)  # 1[s]\n",
    "ts = xs / fs\n",
    "hz = 2000.0\n",
    "ys = np.sin(2.0 * np.pi * hz * ts) + 0.1 * np.random.randn(int(fs))\n",
    "\n",
    "fig = plt.figure(1, figsize=(12,4))\n",
    "ax = fig.add_subplot(1, 1, 1)\n",
    "ax.plot(ts[:nfft], ys[:nfft])\n",
    "ax.set_xlabel(\"time [s]\"); ax.set_ylabel(\"amplitude\")\n",
    "\n",
    "IPython.display.Audio(data=ys, rate=fs)"
   ]
  },
  {
   "cell_type": "code",
   "execution_count": 24,
   "metadata": {
    "slideshow": {
     "slide_type": "subslide"
    }
   },
   "outputs": [],
   "source": [
    "# 窓関数を取得\n",
    "win = sg.get_window(\"hanning\", nfft)\n",
    "\n",
    "# FFTを実行\n",
    "Ys = fft.fft(win * ys[:nfft], nfft)[:nfft//2+1]\n",
    "\n",
    "# 周波数軸を取得\n",
    "f = fft.fftfreq(nfft, d=1.0/fs)[:nfft//2+1]\n",
    "f[-1] = fs//2  # デフォルトだと-24kHz"
   ]
  },
  {
   "cell_type": "code",
   "execution_count": 25,
   "metadata": {
    "slideshow": {
     "slide_type": "subslide"
    }
   },
   "outputs": [
    {
     "data": {
      "text/html": [
       "<img src=\"/images/4/2.png\" />"
      ],
      "text/plain": [
       "<Figure size 864x288 with 2 Axes>"
      ]
     },
     "metadata": {},
     "output_type": "display_data"
    }
   ],
   "source": [
    "fig = plt.figure(1, figsize=(12,4));\n",
    "ax = fig.add_subplot(1, 2, 1)\n",
    "ax.plot(ts[:nfft], win * ys[:nfft])\n",
    "ax.set_xlabel(\"time [s]\"); ax.set_ylabel(\"amplitude\")\n",
    "ax = fig.add_subplot(1, 2, 2)\n",
    "ax.semilogx(f, np.abs(Ys))\n",
    "ax.set_xlabel(\"frequency [Hz]\"); ax.set_ylabel(\"amplitude\");"
   ]
  },
  {
   "cell_type": "markdown",
   "metadata": {
    "slideshow": {
     "slide_type": "slide"
    }
   },
   "source": [
    "## scipy.interpolate ##\n",
    "\n",
    "* 曲線の補間が可能\n",
    "* `scipy.interpolate.interp1d`で補間関数を生成\n",
    "* 生成した補間関数に補間点を与えると補間値を算出"
   ]
  },
  {
   "cell_type": "code",
   "execution_count": 26,
   "metadata": {
    "slideshow": {
     "slide_type": "subslide"
    }
   },
   "outputs": [],
   "source": [
    "# 観測値\n",
    "xs = np.linspace(0, 1, 10)\n",
    "ys = np.sin(2.0 * np.pi * xs) + 0.01 * np.random.randn(len(xs))\n",
    "\n",
    "# 異なる2種類の補間関数の生成\n",
    "linear_interp = interp.interp1d(xs, ys)\n",
    "cubic_interp = interp.interp1d(xs, ys, kind='cubic')\n",
    "\n",
    "# 補間値を算出\n",
    "xs_new = np.linspace(0, 1, 50)\n",
    "ys_lin = linear_interp(xs_new)\n",
    "ys_cubic = cubic_interp(xs_new)"
   ]
  },
  {
   "cell_type": "code",
   "execution_count": 27,
   "metadata": {
    "slideshow": {
     "slide_type": "subslide"
    }
   },
   "outputs": [
    {
     "data": {
      "text/plain": [
       "<matplotlib.legend.Legend at 0x1d1fb80080>"
      ]
     },
     "execution_count": 27,
     "metadata": {},
     "output_type": "execute_result"
    },
    {
     "data": {
      "text/html": [
       "<img src=\"/images/4/3.png\" />"
      ],
      "text/plain": [
       "<Figure size 864x432 with 1 Axes>"
      ]
     },
     "metadata": {},
     "output_type": "display_data"
    }
   ],
   "source": [
    "fig = plt.figure(figsize=(12,6)); ax = fig.add_subplot(111)\n",
    "ax.plot(xs, ys, \"x-\", label=\"obserbed\")\n",
    "ax.plot(xs_new, ys_lin, label=\"linear\")\n",
    "ax.plot(xs_new, ys_cubic, label=\"cubic\")\n",
    "ax.grid(); ax.legend()"
   ]
  },
  {
   "cell_type": "markdown",
   "metadata": {
    "slideshow": {
     "slide_type": "slide"
    }
   },
   "source": [
    "## scipy.signal ##\n",
    "\n",
    "* 信号処理のためのライブラリ\n",
    "    * フィルタ設計・フィルタリング\n",
    "    * 畳み込み・時間相関計算\n",
    "    * 窓関数"
   ]
  },
  {
   "cell_type": "markdown",
   "metadata": {
    "slideshow": {
     "slide_type": "subslide"
    }
   },
   "source": [
    "### ホワイトノイズに対するローパスフィルタの適用 ###\n",
    "\n",
    "* `numpy.random.randn`でホワイトノイズを生成\n",
    "* `scipy.signal.firwin`でローパスフィルタを設計\n",
    "* `scipy.signal.lfilter`でローパスフィルタをホワイトノイズに対して適用"
   ]
  },
  {
   "cell_type": "code",
   "execution_count": 28,
   "metadata": {
    "slideshow": {
     "slide_type": "subslide"
    }
   },
   "outputs": [
    {
     "data": {
      "text/html": [
       "<audio controls preload=\"none\"><source src=\"/wav/4/1.wav\" type=\"audio/wav\" /></audio>"
      ],
      "text/plain": [
       "<IPython.lib.display.Audio object>"
      ]
     },
     "execution_count": 28,
     "metadata": {},
     "output_type": "execute_result"
    }
   ],
   "source": [
    "# ホワイトノイズの生成\n",
    "time_s = 5.0\n",
    "ys = 0.1 * np.random.randn(int(time_s * fs))\n",
    "IPython.display.Audio(ys, rate=fs)"
   ]
  },
  {
   "cell_type": "code",
   "execution_count": 29,
   "metadata": {
    "slideshow": {
     "slide_type": "subslide"
    }
   },
   "outputs": [
    {
     "data": {
      "text/html": [
       "<audio controls preload=\"none\"><source src=\"/wav/4/2.wav\" type=\"audio/wav\" /></audio>"
      ],
      "text/plain": [
       "<IPython.lib.display.Audio object>"
      ]
     },
     "execution_count": 29,
     "metadata": {},
     "output_type": "execute_result"
    }
   ],
   "source": [
    "nlpf = 96\n",
    "cutoff_hz = 4000.0\n",
    "lpf = sg.firwin(nlpf, cutoff=cutoff_hz, fs=fs)\n",
    "ys_lpf = sg.lfilter(lpf, [1.0], ys)\n",
    "IPython.display.Audio(ys_lpf, rate=fs)"
   ]
  },
  {
   "cell_type": "code",
   "execution_count": 30,
   "metadata": {},
   "outputs": [
    {
     "data": {
      "text/plain": [
       "Text(0,0.5,'power [dB]')"
      ]
     },
     "execution_count": 30,
     "metadata": {},
     "output_type": "execute_result"
    },
    {
     "data": {
      "text/html": [
       "<img src=\"/images/4/4.png\" />"
      ],
      "text/plain": [
       "<Figure size 864x288 with 2 Axes>"
      ]
     },
     "metadata": {},
     "output_type": "display_data"
    }
   ],
   "source": [
    "fig = plt.figure(1, figsize=(12,4));\n",
    "ax = fig.add_subplot(1, 2, 1)\n",
    "ax.plot(f, 20.0*np.log10(np.abs(fft.fft(ys, nfft)[:nfft//2+1])))\n",
    "ax.set_xlabel(\"time [s]\"); ax.set_ylabel(\"power [dB]\")\n",
    "\n",
    "ax = fig.add_subplot(1, 2, 2)\n",
    "ax.plot(f, 20.0*np.log10(np.abs(fft.fft(ys_lpf, nfft))[:nfft//2+1]))\n",
    "ax.set_xlabel(\"frequency [Hz]\"); ax.set_ylabel(\"power [dB]\")"
   ]
  },
  {
   "cell_type": "markdown",
   "metadata": {
    "slideshow": {
     "slide_type": "subslide"
    }
   },
   "source": [
    "### 参考 ###\n",
    "\n",
    "音響信号処理についてはQiitaに過去に諸々記事を書いてます\n",
    "\n",
    "* [Pythonで音響信号処理](https://qiita.com/wrist/items/5759f894303e4364ebfd)\n",
    "* [Pythonで音響信号処理(2)](https://qiita.com/wrist/items/4b404230e264c5cb571c) "
   ]
  },
  {
   "cell_type": "markdown",
   "metadata": {
    "slideshow": {
     "slide_type": "slide"
    }
   },
   "source": [
    "## scipy.optimize ##\n",
    "\n",
    "* 各種最適化アルゴリズムが実装\n",
    "* `scipy.optimize.curve_fit`で曲線フィッティング\n",
    "* `scipy.optimize.minimize`で最小値を見つける\n",
    "* `scipy.optimize.root`で方程式の根を見つける"
   ]
  },
  {
   "cell_type": "code",
   "execution_count": 31,
   "metadata": {
    "slideshow": {
     "slide_type": "subslide"
    }
   },
   "outputs": [
    {
     "name": "stdout",
     "output_type": "stream",
     "text": [
      "[3.05684189 1.48600684] [[ 0.055698   -0.0005898 ]\n",
      " [-0.0005898   0.00061353]]\n"
     ]
    }
   ],
   "source": [
    "# ノイズの乗った正弦波を観測値とする\n",
    "x_data = np.linspace(-5, 5, num=50)\n",
    "y_data = 2.9 * np.sin(1.5 * x_data) + np.random.normal(size=50)\n",
    "\n",
    "def test_func(x, a, b):\n",
    "    return a * np.sin(b * x)\n",
    "\n",
    "# curve_fitを用いてa, bを推定\n",
    "params, params_covariance = opt.curve_fit(test_func, x_data, y_data, p0=[2, 2])\n",
    "print(params, params_covariance)"
   ]
  },
  {
   "cell_type": "code",
   "execution_count": 32,
   "metadata": {
    "slideshow": {
     "slide_type": "subslide"
    }
   },
   "outputs": [
    {
     "data": {
      "text/plain": [
       "[<matplotlib.lines.Line2D at 0x1d1fced470>]"
      ]
     },
     "execution_count": 32,
     "metadata": {},
     "output_type": "execute_result"
    },
    {
     "data": {
      "text/html": [
       "<img src=\"/images/4/5.png\" />"
      ],
      "text/plain": [
       "<Figure size 864x288 with 1 Axes>"
      ]
     },
     "metadata": {},
     "output_type": "display_data"
    }
   ],
   "source": [
    "fig = plt.figure(figsize=(12,4))\n",
    "ax = fig.add_subplot(111)\n",
    "ax.plot(x_data, y_data, \"x\")\n",
    "ax.plot(x_data, test_func(x_data, params[0], params[1]))"
   ]
  },
  {
   "cell_type": "code",
   "execution_count": 33,
   "metadata": {
    "slideshow": {
     "slide_type": "subslide"
    }
   },
   "outputs": [
    {
     "data": {
      "text/plain": [
       "[<matplotlib.lines.Line2D at 0x1d1fd7af60>]"
      ]
     },
     "execution_count": 33,
     "metadata": {},
     "output_type": "execute_result"
    },
    {
     "data": {
      "text/html": [
       "<img src=\"/images/4/6.png\" />"
      ],
      "text/plain": [
       "<Figure size 432x288 with 1 Axes>"
      ]
     },
     "metadata": {},
     "output_type": "display_data"
    }
   ],
   "source": [
    "# 最小値を見つけたい対象\n",
    "def f(x):\n",
    "    return x**2 + 10*np.sin(x)\n",
    "\n",
    "# 大域解が-1.3, 局所解が3.8\n",
    "x = np.arange(-10.0, 10.0, 0.1)\n",
    "fig = plt.figure(); ax = fig.add_subplot(111)\n",
    "ax.plot(x, f(x))"
   ]
  },
  {
   "cell_type": "code",
   "execution_count": 34,
   "metadata": {
    "slideshow": {
     "slide_type": "subslide"
    }
   },
   "outputs": [
    {
     "name": "stdout",
     "output_type": "stream",
     "text": [
      "      fun: -7.945823375615215\n",
      " hess_inv: array([[0.08589237]])\n",
      "      jac: array([-1.1920929e-06])\n",
      "  message: 'Optimization terminated successfully.'\n",
      "     nfev: 18\n",
      "      nit: 5\n",
      "     njev: 6\n",
      "   status: 0\n",
      "  success: True\n",
      "        x: array([-1.30644012])\n",
      "[-1.30644012]\n"
     ]
    }
   ],
   "source": [
    "result = opt.minimize(f, x0=0.0)  # x0で探索開始点を与える\n",
    "print(result)\n",
    "print(result.x)"
   ]
  },
  {
   "cell_type": "code",
   "execution_count": 35,
   "metadata": {
    "slideshow": {
     "slide_type": "subslide"
    }
   },
   "outputs": [
    {
     "data": {
      "text/plain": [
       "      fun: array([-7.94582338])\n",
       " hess_inv: <1x1 LbfgsInvHessProduct with dtype=float64>\n",
       "      jac: array([-1.50990331e-06])\n",
       "  message: b'CONVERGENCE: NORM_OF_PROJECTED_GRADIENT_<=_PGTOL'\n",
       "     nfev: 12\n",
       "      nit: 5\n",
       "   status: 0\n",
       "  success: True\n",
       "        x: array([-1.30644014])"
      ]
     },
     "execution_count": 35,
     "metadata": {},
     "output_type": "execute_result"
    }
   ],
   "source": [
    "# nfev(評価回数)が12に減る\n",
    "opt.minimize(f, x0=0, method=\"L-BFGS-B\")"
   ]
  },
  {
   "cell_type": "code",
   "execution_count": 36,
   "metadata": {
    "slideshow": {
     "slide_type": "subslide"
    }
   },
   "outputs": [
    {
     "name": "stdout",
     "output_type": "stream",
     "text": [
      "      fun: array([8.31558558])\n",
      " hess_inv: <1x1 LbfgsInvHessProduct with dtype=float64>\n",
      "      jac: array([-1.77635684e-07])\n",
      "  message: b'CONVERGENCE: NORM_OF_PROJECTED_GRADIENT_<=_PGTOL'\n",
      "     nfev: 14\n",
      "      nit: 6\n",
      "   status: 0\n",
      "  success: True\n",
      "        x: array([3.83746709])\n",
      "[3.83746709]\n"
     ]
    }
   ],
   "source": [
    "# 3.0から始めると局所解に陥る\n",
    "result = opt.minimize(f, x0=3.0, method=\"L-BFGS-B\")\n",
    "print(result)\n",
    "print(result.x)"
   ]
  },
  {
   "cell_type": "code",
   "execution_count": 37,
   "metadata": {
    "slideshow": {
     "slide_type": "subslide"
    }
   },
   "outputs": [
    {
     "data": {
      "text/plain": [
       "                        fun: -7.945823375615284\n",
       " lowest_optimization_result:       fun: -7.945823375615284\n",
       " hess_inv: array([[0.08581295]])\n",
       "      jac: array([1.1920929e-07])\n",
       "  message: 'Optimization terminated successfully.'\n",
       "     nfev: 15\n",
       "      nit: 3\n",
       "     njev: 5\n",
       "   status: 0\n",
       "  success: True\n",
       "        x: array([-1.30644001])\n",
       "                    message: ['requested number of basinhopping iterations completed successfully']\n",
       "      minimization_failures: 0\n",
       "                       nfev: 1515\n",
       "                        nit: 100\n",
       "                       njev: 505\n",
       "                          x: array([-1.30644001])"
      ]
     },
     "execution_count": 37,
     "metadata": {},
     "output_type": "execute_result"
    }
   ],
   "source": [
    "# `scipy.optimize.basinhopping`を用いて大域解を探す\n",
    "opt.basinhopping(f, 1.0)"
   ]
  },
  {
   "cell_type": "code",
   "execution_count": 38,
   "metadata": {
    "slideshow": {
     "slide_type": "subslide"
    }
   },
   "outputs": [
    {
     "data": {
      "text/plain": [
       "array([0.])"
      ]
     },
     "execution_count": 38,
     "metadata": {},
     "output_type": "execute_result"
    }
   ],
   "source": [
    "# 探索範囲に制約を与えることも可能\n",
    "res = opt.minimize(f, x0=1,\n",
    "                   bounds=((0, 10), ))\n",
    "res.x    "
   ]
  },
  {
   "cell_type": "code",
   "execution_count": 39,
   "metadata": {
    "slideshow": {
     "slide_type": "subslide"
    }
   },
   "outputs": [
    {
     "name": "stdout",
     "output_type": "stream",
     "text": [
      "    fjac: array([[-1.]])\n",
      "     fun: array([0.])\n",
      " message: 'The solution converged.'\n",
      "    nfev: 10\n",
      "     qtf: array([1.33310463e-32])\n",
      "       r: array([-10.])\n",
      "  status: 1\n",
      " success: True\n",
      "       x: array([0.])\n",
      "[0.]\n"
     ]
    }
   ],
   "source": [
    "# f=0となる点をoptimize.rootで探す\n",
    "root = opt.root(f, x0=1)\n",
    "print(root)\n",
    "print(root.x)"
   ]
  },
  {
   "cell_type": "code",
   "execution_count": 40,
   "metadata": {
    "slideshow": {
     "slide_type": "subslide"
    }
   },
   "outputs": [
    {
     "name": "stdout",
     "output_type": "stream",
     "text": [
      "    fjac: array([[-1.]])\n",
      "     fun: array([-1.77635684e-15])\n",
      " message: 'The solution converged.'\n",
      "    nfev: 8\n",
      "     qtf: array([-2.83790769e-11])\n",
      "       r: array([12.84592704])\n",
      "  status: 1\n",
      " success: True\n",
      "       x: array([-2.47948183])\n",
      "[-2.47948183]\n"
     ]
    }
   ],
   "source": [
    "# もうひとつの根を探す\n",
    "root = opt.root(f, x0=-3.0)\n",
    "print(root)\n",
    "print(root.x)"
   ]
  },
  {
   "cell_type": "markdown",
   "metadata": {
    "slideshow": {
     "slide_type": "slide"
    }
   },
   "source": [
    "## scipy.stat ##\n",
    "\n",
    "* 統計や確率分布、統計的検定のためのモジュール\n",
    "* サンプル点の正規分布へのフィッティング等を紹介"
   ]
  },
  {
   "cell_type": "code",
   "execution_count": 41,
   "metadata": {
    "slideshow": {
     "slide_type": "subslide"
    }
   },
   "outputs": [
    {
     "data": {
      "text/plain": [
       "<matplotlib.legend.Legend at 0x1d1fc61048>"
      ]
     },
     "execution_count": 41,
     "metadata": {},
     "output_type": "execute_result"
    },
    {
     "data": {
      "text/html": [
       "<img src=\"/images/4/7.png\" />"
      ],
      "text/plain": [
       "<Figure size 432x288 with 1 Axes>"
      ]
     },
     "metadata": {},
     "output_type": "display_data"
    }
   ],
   "source": [
    "# サンプリングした点のヒストグラム(頻度分布)と確率分布を同時に描画\n",
    "samples = np.random.normal(size=1000) # sampling\n",
    "\n",
    "bins = np.arange(-4, 5)\n",
    "histogram = np.histogram(samples, bins=bins, normed=True)[0] # plot histogram\n",
    "\n",
    "bins = 0.5*(bins[1:] + bins[:-1])\n",
    "pdf = stats.norm.pdf(bins)  # normは正規分布の意味\n",
    "\n",
    "fig = plt.figure(); ax = fig.add_subplot(111)\n",
    "ax.plot(bins, histogram, label=\"histgram\")\n",
    "ax.plot(bins, pdf, label=\"probability density\")\n",
    "ax.grid(); ax.legend()"
   ]
  },
  {
   "cell_type": "code",
   "execution_count": 42,
   "metadata": {
    "slideshow": {
     "slide_type": "subslide"
    }
   },
   "outputs": [
    {
     "name": "stdout",
     "output_type": "stream",
     "text": [
      "0.014729738495055104 0.9911940562256367\n"
     ]
    },
    {
     "data": {
      "text/plain": [
       "[<matplotlib.lines.Line2D at 0x1d1fad3048>]"
      ]
     },
     "execution_count": 42,
     "metadata": {},
     "output_type": "execute_result"
    },
    {
     "data": {
      "text/html": [
       "<img src=\"/images/4/8.png\" />"
      ],
      "text/plain": [
       "<Figure size 432x288 with 1 Axes>"
      ]
     },
     "metadata": {},
     "output_type": "display_data"
    }
   ],
   "source": [
    "# 観測値を確率分布にフィッティング\n",
    "loc, std = stats.norm.fit(samples)\n",
    "print(loc, std)\n",
    "xs = np.linspace(-3.0, 3.0, 1000)\n",
    "f = lambda x: (1.0/np.sqrt(2.0*np.pi*std))*np.exp(-(x - loc)**2/ (2.0 * std**2))\n",
    "plt.plot(xs, f(xs))"
   ]
  },
  {
   "cell_type": "code",
   "execution_count": 43,
   "metadata": {
    "slideshow": {
     "slide_type": "subslide"
    }
   },
   "outputs": [
    {
     "name": "stdout",
     "output_type": "stream",
     "text": [
      "0.014729738495055104\n",
      "0.03258817640410924\n",
      "0.03258817640410924\n",
      "1.300282756931229\n"
     ]
    }
   ],
   "source": [
    "# 平均、中央値、四分位数\n",
    "print(np.mean(samples))\n",
    "print(np.median(samples))\n",
    "print(stats.scoreatpercentile(samples, 50))\n",
    "print(stats.scoreatpercentile(samples, 90))"
   ]
  },
  {
   "cell_type": "markdown",
   "metadata": {
    "slideshow": {
     "slide_type": "slide"
    }
   },
   "source": [
    "## scipy.spatial ##\n",
    "\n",
    "* 空間データや距離を扱うためのモジュール\n",
    "* 距離行列を計算する`scipy.spatial.distance`の`cdist`, `pdist`のみ紹介"
   ]
  },
  {
   "cell_type": "code",
   "execution_count": 44,
   "metadata": {
    "slideshow": {
     "slide_type": "subslide"
    }
   },
   "outputs": [
    {
     "name": "stdout",
     "output_type": "stream",
     "text": [
      "4.704447943170383\n"
     ]
    },
    {
     "data": {
      "text/plain": [
       "array([[0.        , 4.70444794, 1.6171966 , 1.88558331],\n",
       "       [4.70444794, 0.        , 6.0892811 , 3.35605413],\n",
       "       [1.6171966 , 6.0892811 , 0.        , 2.84770898],\n",
       "       [1.88558331, 3.35605413, 2.84770898, 0.        ]])"
      ]
     },
     "execution_count": 44,
     "metadata": {},
     "output_type": "execute_result"
    }
   ],
   "source": [
    "from scipy.spatial import distance\n",
    "coords = [(35.0456, -85.2672),\n",
    "          (35.1174, -89.9711),\n",
    "          (35.9728, -83.9422),\n",
    "          (36.1667, -86.7833)]\n",
    "\n",
    "print(np.sqrt((coords[0][0] - coords[1][0])**2\n",
    "             +(coords[0][1] - coords[1][1])**2))\n",
    "distance.cdist(coords, coords, 'euclidean')"
   ]
  },
  {
   "cell_type": "code",
   "execution_count": 45,
   "metadata": {
    "slideshow": {
     "slide_type": "subslide"
    }
   },
   "outputs": [
    {
     "name": "stdout",
     "output_type": "stream",
     "text": [
      "[4.70444794 1.6171966  1.88558331 6.0892811  3.35605413 2.84770898]\n",
      "[[0.         4.70444794 1.6171966  1.88558331]\n",
      " [4.70444794 0.         6.0892811  3.35605413]\n",
      " [1.6171966  6.0892811  0.         2.84770898]\n",
      " [1.88558331 3.35605413 2.84770898 0.        ]]\n"
     ]
    }
   ],
   "source": [
    "# pdistは対角を除いた上三角成分のみ返す\n",
    "presult = distance.pdist(coords)\n",
    "print(presult)\n",
    "\n",
    "# squareformで距離行列に変換\n",
    "print(distance.squareform(presult))"
   ]
  },
  {
   "cell_type": "markdown",
   "metadata": {
    "slideshow": {
     "slide_type": "slide"
    }
   },
   "source": [
    "## scipy.misc ##\n",
    "\n",
    "* deprecatedな関数を除くと4つのみ\n",
    "    * face\n",
    "    * central_diff_weight\n",
    "    * derivative\n",
    "    * ascent"
   ]
  },
  {
   "cell_type": "code",
   "execution_count": 46,
   "metadata": {
    "scrolled": true,
    "slideshow": {
     "slide_type": "subslide"
    }
   },
   "outputs": [
    {
     "name": "stdout",
     "output_type": "stream",
     "text": [
      "(768, 1024, 3)\n",
      "255\n",
      "uint8\n"
     ]
    },
    {
     "data": {
      "text/html": [
       "<img src=\"/images/4/9.png\" />"
      ],
      "text/plain": [
       "<Figure size 432x288 with 1 Axes>"
      ]
     },
     "metadata": {},
     "output_type": "display_data"
    }
   ],
   "source": [
    "import scipy.misc\n",
    "import matplotlib.cm as cm\n",
    "face = scipy.misc.face()\n",
    "\n",
    "print(face.shape)\n",
    "print(face.max())\n",
    "print(face.dtype)\n",
    "\n",
    "fig = plt.figure(1)\n",
    "ax = fig.add_subplot(1, 1, 1)\n",
    "ax.imshow(face)\n",
    "\n",
    "plt.show()"
   ]
  },
  {
   "cell_type": "code",
   "execution_count": 47,
   "metadata": {
    "scrolled": true,
    "slideshow": {
     "slide_type": "subslide"
    }
   },
   "outputs": [
    {
     "data": {
      "text/html": [
       "<img src=\"/images/4/10.png\" />"
      ],
      "text/plain": [
       "<Figure size 432x288 with 1 Axes>"
      ]
     },
     "metadata": {},
     "output_type": "display_data"
    }
   ],
   "source": [
    "face = scipy.misc.face(gray=True)\n",
    "\n",
    "fig = plt.figure(1)\n",
    "ax = fig.add_subplot(1, 1, 1)\n",
    "ax.imshow(face, cmap=cm.gray)\n",
    "\n",
    "plt.show()"
   ]
  },
  {
   "cell_type": "code",
   "execution_count": 48,
   "metadata": {
    "slideshow": {
     "slide_type": "subslide"
    }
   },
   "outputs": [
    {
     "data": {
      "text/html": [
       "<img src=\"/images/4/11.png\" />"
      ],
      "text/plain": [
       "<Figure size 432x288 with 1 Axes>"
      ]
     },
     "metadata": {},
     "output_type": "display_data"
    }
   ],
   "source": [
    "# グレースケールのデモ用画像\n",
    "ascent = scipy.misc.ascent()\n",
    "fig = plt.figure(1)\n",
    "ax = fig.add_subplot(111)\n",
    "ax.imshow(ascent, cmap=cm.gray)\n",
    "plt.show()"
   ]
  },
  {
   "cell_type": "code",
   "execution_count": 49,
   "metadata": {
    "slideshow": {
     "slide_type": "subslide"
    }
   },
   "outputs": [
    {
     "data": {
      "text/plain": [
       "4.999999999921734"
      ]
     },
     "execution_count": 49,
     "metadata": {},
     "output_type": "execute_result"
    }
   ],
   "source": [
    "from scipy.misc import derivative\n",
    "\n",
    "# x0の点におけるn次の中心差分を返す\n",
    "# n==1の場合はf(x+h)-f(x-h)/2h\n",
    "# 内部的にcentral_diff_weightを使う\n",
    "\n",
    "# derivative(func, x0, dx=1.0, n=1, args=(), order=3)\n",
    "f = lambda x: x**3 + x**2\n",
    "derivative(f, 1.0, dx=1e-6)"
   ]
  },
  {
   "cell_type": "code",
   "execution_count": 50,
   "metadata": {
    "slideshow": {
     "slide_type": "subslide"
    }
   },
   "outputs": [
    {
     "name": "stdout",
     "output_type": "stream",
     "text": [
      "4.999999999921734\n"
     ]
    }
   ],
   "source": [
    "print((f(1.0 + 1e-6) - f(1.0 - 1e-6)) / (2.0 * 1.e-6))"
   ]
  },
  {
   "cell_type": "markdown",
   "metadata": {
    "slideshow": {
     "slide_type": "slide"
    }
   },
   "source": [
    "## デモ ##\n",
    "\n",
    "* scipy.fftpackとscipy.signalを使ったNMFによるモノラル音源分離のデモ\n",
    "    * NMFはscikit-learnの実装を使用\n",
    "* 音楽情報処理ライブラリlibrosaのデモ音源を使用\n",
    "* `librosa.decompose.decompose`と同等の処理"
   ]
  },
  {
   "cell_type": "markdown",
   "metadata": {
    "slideshow": {
     "slide_type": "subslide"
    }
   },
   "source": [
    "### NMF ###\n",
    "\n",
    "* 非負値行列$\\textbf{X}$を$\\textbf{X} \\simeq \\textbf{WH} $と分解する手法\n",
    "    * Hを基底行列、Wをアクティベーションと呼ぶ\n",
    "* scikit-learnのNMFでは下記目的関数を最小化\n",
    "\n",
    "$$0.5 * ||\\textbf{X} - \\textbf{WH}||_{Fro}^2\n",
    "+ \\alpha l1_{ratio} ||vec(W)||_1\n",
    "+ \\alpha l1_{ratio} ||vec(H)||_1\n",
    "+ 0.5 \\alpha (1 - l1_{ratio}) ||W||_{Fro}^2\n",
    "+ 0.5 \\alpha (1 - l1_{ratio}) ||H||_{Fro}^2\n",
    "$$\n",
    "\n",
    "* 通常最適化には補助関数法が使われる"
   ]
  },
  {
   "cell_type": "markdown",
   "metadata": {
    "slideshow": {
     "slide_type": "subslide"
    }
   },
   "source": [
    "### 音響信号における非負行列 ###\n",
    "\n",
    "* 音を短時間波形に切り出した各断片をFFT\n",
    "* 断片から求めた振幅スペクトルを時間方向に並べたスペクトログラムを行列とみなす"
   ]
  },
  {
   "cell_type": "code",
   "execution_count": 51,
   "metadata": {
    "slideshow": {
     "slide_type": "subslide"
    }
   },
   "outputs": [
    {
     "name": "stdout",
     "output_type": "stream",
     "text": [
      "Requirement already satisfied: librosa in /Users/wrist/.pyenv/versions/miniconda3-4.3.30/envs/py36/lib/python3.6/site-packages (0.6.0)\n",
      "Requirement already satisfied: numpy>=1.8.0 in /Users/wrist/.pyenv/versions/miniconda3-4.3.30/envs/py36/lib/python3.6/site-packages (from librosa) (1.14.2)\n",
      "Requirement already satisfied: resampy>=0.2.0 in /Users/wrist/.pyenv/versions/miniconda3-4.3.30/envs/py36/lib/python3.6/site-packages (from librosa) (0.2.0)\n",
      "Requirement already satisfied: scikit-learn!=0.19.0,>=0.14.0 in /Users/wrist/.pyenv/versions/miniconda3-4.3.30/envs/py36/lib/python3.6/site-packages (from librosa) (0.19.1)\n",
      "Requirement already satisfied: audioread>=2.0.0 in /Users/wrist/.pyenv/versions/miniconda3-4.3.30/envs/py36/lib/python3.6/site-packages (from librosa) (2.1.5)\n",
      "Requirement already satisfied: six>=1.3 in /Users/wrist/.pyenv/versions/miniconda3-4.3.30/envs/py36/lib/python3.6/site-packages (from librosa) (1.11.0)\n",
      "Requirement already satisfied: scipy>=0.14.0 in /Users/wrist/.pyenv/versions/miniconda3-4.3.30/envs/py36/lib/python3.6/site-packages (from librosa) (1.1.0)\n",
      "Requirement already satisfied: joblib>=0.7.0 in /Users/wrist/.pyenv/versions/miniconda3-4.3.30/envs/py36/lib/python3.6/site-packages (from librosa) (0.11)\n",
      "Requirement already satisfied: decorator>=3.0.0 in /Users/wrist/.pyenv/versions/miniconda3-4.3.30/envs/py36/lib/python3.6/site-packages (from librosa) (4.3.0)\n",
      "Requirement already satisfied: numba>=0.32 in /Users/wrist/.pyenv/versions/miniconda3-4.3.30/envs/py36/lib/python3.6/site-packages (from resampy>=0.2.0->librosa) (0.38.0)\n",
      "Requirement already satisfied: llvmlite>=0.23.0dev0 in /Users/wrist/.pyenv/versions/miniconda3-4.3.30/envs/py36/lib/python3.6/site-packages (from numba>=0.32->resampy>=0.2.0->librosa) (0.23.0)\n"
     ]
    }
   ],
   "source": [
    "!pip install librosa"
   ]
  },
  {
   "cell_type": "code",
   "execution_count": 52,
   "metadata": {
    "slideshow": {
     "slide_type": "slide"
    }
   },
   "outputs": [],
   "source": [
    "import librosa\n",
    "import librosa.display"
   ]
  },
  {
   "cell_type": "code",
   "execution_count": 53,
   "metadata": {
    "slideshow": {
     "slide_type": "subslide"
    }
   },
   "outputs": [
    {
     "data": {
      "text/html": [
       "<audio controls preload=\"none\"><source src=\"/wav/4/3.wav\" type=\"audio/wav\" /></audio>"
      ],
      "text/plain": [
       "<IPython.lib.display.Audio object>"
      ]
     },
     "execution_count": 53,
     "metadata": {},
     "output_type": "execute_result"
    }
   ],
   "source": [
    "y, sr = librosa.load(librosa.util.example_audio_file())\n",
    "IPython.display.Audio(data=y, rate=sr)"
   ]
  },
  {
   "cell_type": "code",
   "execution_count": 54,
   "metadata": {
    "slideshow": {
     "slide_type": "subslide"
    }
   },
   "outputs": [
    {
     "data": {
      "text/plain": [
       "array([2, 1, 0, 1, 2, 3, 4, 3, 2])"
      ]
     },
     "execution_count": 54,
     "metadata": {},
     "output_type": "execute_result"
    }
   ],
   "source": [
    "np.pad(np.arange(5), 2, \"reflect\")"
   ]
  },
  {
   "cell_type": "code",
   "execution_count": 55,
   "metadata": {
    "slideshow": {
     "slide_type": "subslide"
    }
   },
   "outputs": [],
   "source": [
    "# strideトリックを使った信号を短時間波形フレームの配列に変換する関数\n",
    "from numpy.lib.stride_tricks import as_strided\n",
    "\n",
    "def split_frames(xs, frame_width=1024, noverlap=2):\n",
    "\n",
    "    nsample = np.alen(xs)\n",
    "    nshift = (frame_width // noverlap)\n",
    "    nframe = int(nsample / nshift) - noverlap + 1\n",
    "    \n",
    "    nbyte = xs.dtype.itemsize\n",
    "\n",
    "    # as_strided(xs, ys_shape, new_stride)\n",
    "    xs_split = as_strided(xs, (nframe, frame_width), (nbyte * nshift, nbyte))\n",
    "    \n",
    "    return xs_split"
   ]
  },
  {
   "cell_type": "code",
   "execution_count": 56,
   "metadata": {
    "slideshow": {
     "slide_type": "subslide"
    }
   },
   "outputs": [
    {
     "data": {
      "text/html": [
       "<img src=\"/images/4/12.png\" />"
      ],
      "text/plain": [
       "<Figure size 864x576 with 11 Axes>"
      ]
     },
     "metadata": {},
     "output_type": "display_data"
    }
   ],
   "source": [
    "# 信号の短時間波形への切り出し\n",
    "import matplotlib.gridspec as gridspec\n",
    "\n",
    "fig = plt.figure(1, figsize=(12,8))\n",
    "gs = gridspec.GridSpec(2, 21)\n",
    "\n",
    "ax = fig.add_subplot(gs[0, :-1])\n",
    "xs = np.arange(len(y)) / sr\n",
    "ax.plot(xs[:sr], y[:sr])\n",
    "ymax = np.max(y[:sr])\n",
    "ax.set_xlim([0.0, 1.0]); ax.set_ylim([-ymax, ymax]);\n",
    "ax.set_xlabel(\"time [s]\"); ax.set_ylabel(\"amplitude\"); ax.grid()\n",
    "\n",
    "frame_width = sr * 0.1\n",
    "xs = np.arange(frame_width) / sr\n",
    "for i, y_cut in enumerate(split_frames(y, int(frame_width), 1)[:10]):\n",
    "    ax = fig.add_subplot(gs[1, 2*i:2*(i+1)])\n",
    "    ax.plot(xs, y_cut)\n",
    "    ax.set_ylim([-ymax, ymax]); ax.grid()"
   ]
  },
  {
   "cell_type": "code",
   "execution_count": 57,
   "metadata": {
    "slideshow": {
     "slide_type": "subslide"
    }
   },
   "outputs": [
    {
     "data": {
      "text/html": [
       "<img src=\"/images/4/13.png\" />"
      ],
      "text/plain": [
       "<Figure size 864x576 with 21 Axes>"
      ]
     },
     "metadata": {},
     "output_type": "display_data"
    }
   ],
   "source": [
    "# 切り出し間隔を1/2オーバーラップした場合\n",
    "import matplotlib.gridspec as gridspec\n",
    "\n",
    "fig = plt.figure(1, figsize=(12,8))\n",
    "gs = gridspec.GridSpec(3, 21)\n",
    "\n",
    "ax = fig.add_subplot(gs[0, :-1])\n",
    "ax.plot(y[:sr])\n",
    "ymax = np.max(y[:sr])\n",
    "ax.set_ylim([-ymax, ymax]); ax.grid()\n",
    "\n",
    "frame_width = sr * 0.1\n",
    "half_width = int(frame_width // 2)\n",
    "xs = np.arange(frame_width)\n",
    "for i, y_cut in enumerate(split_frames(y, int(frame_width), 2)[:20]):\n",
    "    if i % 2 == 0:\n",
    "        ax = fig.add_subplot(gs[1, i:i+2])\n",
    "        ax.plot(xs[:half_width], y_cut[:half_width])\n",
    "        ax.plot(xs[half_width:], y_cut[half_width:])\n",
    "    else:\n",
    "        ax = fig.add_subplot(gs[2, i:i+2])\n",
    "        ax.plot(xs[half_width:], y_cut[half_width:])\n",
    "        ax.plot(xs[:half_width], y_cut[:half_width])\n",
    "\n",
    "    ax.set_ylim([-ymax, ymax]); ax.grid()"
   ]
  },
  {
   "cell_type": "code",
   "execution_count": 58,
   "metadata": {
    "slideshow": {
     "slide_type": "subslide"
    }
   },
   "outputs": [
    {
     "data": {
      "text/html": [
       "<img src=\"/images/4/14.png\" />"
      ],
      "text/plain": [
       "<Figure size 432x288 with 1 Axes>"
      ]
     },
     "metadata": {},
     "output_type": "display_data"
    }
   ],
   "source": [
    "frame_width = int(sr * 0.1)\n",
    "win = sg.get_window(\"hanning\", frame_width)\n",
    "fig = plt.figure(1)\n",
    "ax = fig.add_subplot(111)\n",
    "ax.plot(win)\n",
    "ax.grid()"
   ]
  },
  {
   "cell_type": "code",
   "execution_count": 59,
   "metadata": {
    "slideshow": {
     "slide_type": "subslide"
    }
   },
   "outputs": [
    {
     "data": {
      "text/html": [
       "<img src=\"/images/4/15.png\" />"
      ],
      "text/plain": [
       "<Figure size 864x576 with 21 Axes>"
      ]
     },
     "metadata": {},
     "output_type": "display_data"
    }
   ],
   "source": [
    "# 更に各短時間波形に窓掛けを行った場合\n",
    "import matplotlib.gridspec as gridspec\n",
    "\n",
    "fig = plt.figure(1, figsize=(12,8))\n",
    "gs = gridspec.GridSpec(3, 21)\n",
    "\n",
    "ax = fig.add_subplot(gs[0, :-1])\n",
    "ax.plot(y[:sr])\n",
    "ymax = np.max(y[:sr])\n",
    "ax.set_ylim([-ymax, ymax]); ax.grid()\n",
    "\n",
    "frame_width = sr * 0.1\n",
    "half_width = int(frame_width // 2)\n",
    "win = sg.get_window(\"hanning\", int(frame_width))\n",
    "xs = np.arange(frame_width)\n",
    "for i, y_cut in enumerate(split_frames(y, int(frame_width), 2)[:20]):\n",
    "    y_win = win * y_cut\n",
    "    if i % 2 == 0:\n",
    "        ax = fig.add_subplot(gs[1, i:i+2])\n",
    "        ax.plot(xs[:half_width], y_win[:half_width])\n",
    "        ax.plot(xs[half_width:], y_win[half_width:])\n",
    "    else:\n",
    "        ax = fig.add_subplot(gs[2, i:i+2])\n",
    "        ax.plot(xs[half_width:], y_win[half_width:])\n",
    "        ax.plot(xs[:half_width], y_win[:half_width])\n",
    "\n",
    "    ax.set_ylim([-ymax, ymax]); ax.grid()"
   ]
  },
  {
   "cell_type": "code",
   "execution_count": 60,
   "metadata": {
    "slideshow": {
     "slide_type": "subslide"
    }
   },
   "outputs": [],
   "source": [
    "# 1/4オーバーラップして窓掛けした各波形をそれぞれFFT\n",
    "nfft = 2048\n",
    "win = sg.get_window(\"hanning\", nfft)\n",
    "y_center = np.pad(y, int(nfft//2), \"reflect\")\n",
    "fft_list = []\n",
    "phase_list = []\n",
    "for y_cut in split_frames(y_center, nfft, 4):\n",
    "    y_end = min(len(y_cut), nfft)\n",
    "    y_win = np.zeros(nfft)\n",
    "    y_win[:y_end] = win[:y_end] * y_cut[:y_end]\n",
    "    Y = fft.fft(y_win, nfft)\n",
    "    fft_list.append(Y[:nfft//2+1])\n",
    "    phase_list.append(np.exp(1.j * np.angle(Y[:nfft//2+1])))\n",
    "\n",
    "my_D = np.array(fft_list, dtype=np.complex64).T\n",
    "my_phase = np.array(phase_list, dtype=np.complex64).T"
   ]
  },
  {
   "cell_type": "code",
   "execution_count": 61,
   "metadata": {
    "scrolled": true,
    "slideshow": {
     "slide_type": "slide"
    }
   },
   "outputs": [
    {
     "data": {
      "text/plain": [
       "<matplotlib.axes._subplots.AxesSubplot at 0x1d216b7320>"
      ]
     },
     "execution_count": 61,
     "metadata": {},
     "output_type": "execute_result"
    },
    {
     "data": {
      "text/html": [
       "<img src=\"/images/4/16.png\" />"
      ],
      "text/plain": [
       "<Figure size 864x288 with 1 Axes>"
      ]
     },
     "metadata": {},
     "output_type": "display_data"
    }
   ],
   "source": [
    "fig = plt.figure(1, figsize=(12,4))\n",
    "ax = fig.add_subplot(2,1,1)\n",
    "librosa.display.specshow(librosa.amplitude_to_db(np.abs(my_D), ref=np.max), y_axis=\"log\")"
   ]
  },
  {
   "cell_type": "code",
   "execution_count": 62,
   "metadata": {},
   "outputs": [],
   "source": [
    "# 得られたスペクトログラムnp.abs(my_D.T)に対してNMFを実行\n",
    "from sklearn.decomposition import NMF\n",
    "model = NMF(n_components=8)\n",
    "W = model.fit_transform(np.abs(my_D.T))\n",
    "H = model.components_\n",
    "\n",
    "components = H.T\n",
    "activations = W.T"
   ]
  },
  {
   "cell_type": "code",
   "execution_count": 63,
   "metadata": {
    "slideshow": {
     "slide_type": "subslide"
    }
   },
   "outputs": [
    {
     "data": {
      "text/plain": [
       "Text(0.5,1,'Components')"
      ]
     },
     "execution_count": 63,
     "metadata": {},
     "output_type": "execute_result"
    },
    {
     "data": {
      "text/html": [
       "<img src=\"/images/4/17.png\" />"
      ],
      "text/plain": [
       "<Figure size 864x288 with 2 Axes>"
      ]
     },
     "metadata": {},
     "output_type": "display_data"
    }
   ],
   "source": [
    "fig = plt.figure(2, figsize=(12,4))\n",
    "\n",
    "ax = fig.add_subplot(1,2,1)\n",
    "librosa.display.specshow(activations, x_axis='time')\n",
    "ax.set_xlabel('Time'); ax.set_ylabel('Component'); ax.set_title('Activations')\n",
    "\n",
    "ax = fig.add_subplot(1,2,2)\n",
    "librosa.display.specshow(librosa.amplitude_to_db(components, ref=np.max), y_axis='log')\n",
    "ax.set_xlabel('Component'); ax.set_ylabel('Frequency'); ax.set_title('Components')"
   ]
  },
  {
   "cell_type": "code",
   "execution_count": 64,
   "metadata": {
    "slideshow": {
     "slide_type": "subslide"
    }
   },
   "outputs": [
    {
     "name": "stdout",
     "output_type": "stream",
     "text": [
      "479\n",
      "24\n",
      "30\n",
      "918\n",
      "8\n",
      "28\n",
      "266\n",
      "217\n"
     ]
    }
   ],
   "source": [
    "# 1.e-12以下となっている要素の数をコンポーネントごとに算出\n",
    "for i in range(8):\n",
    "    print(sum(np.where(components[:, i] < 1.e-12, 1, 0)))"
   ]
  },
  {
   "cell_type": "code",
   "execution_count": 65,
   "metadata": {
    "slideshow": {
     "slide_type": "slide"
    }
   },
   "outputs": [
    {
     "name": "stdout",
     "output_type": "stream",
     "text": [
      "Full reconstruction\n"
     ]
    },
    {
     "data": {
      "text/html": [
       "<audio controls preload=\"none\"><source src=\"/wav/4/4.wav\" type=\"audio/wav\" /></audio>"
      ],
      "text/plain": [
       "<IPython.lib.display.Audio object>"
      ]
     },
     "execution_count": 65,
     "metadata": {},
     "output_type": "execute_result"
    }
   ],
   "source": [
    "# Play back the reconstruction\n",
    "# Reconstruct a spectrogram by the outer product of component k and its activation\n",
    "D_k = components @ activations\n",
    "\n",
    "# invert the stft after putting the phase back in\n",
    "#y_k = librosa.istft(D_k * phase)\n",
    "y_k = librosa.istft(D_k * my_phase)\n",
    "\n",
    "# And playback\n",
    "print('Full reconstruction')\n",
    "\n",
    "IPython.display.Audio(data=y_k, rate=sr)"
   ]
  },
  {
   "cell_type": "code",
   "execution_count": 66,
   "metadata": {
    "slideshow": {
     "slide_type": "subslide"
    }
   },
   "outputs": [
    {
     "name": "stdout",
     "output_type": "stream",
     "text": [
      "Partly reconstruction\n"
     ]
    },
    {
     "data": {
      "text/html": [
       "<audio controls preload=\"none\"><source src=\"/wav/4/5.wav\" type=\"audio/wav\" /></audio>"
      ],
      "text/plain": [
       "<IPython.lib.display.Audio object>"
      ]
     },
     "execution_count": 66,
     "metadata": {},
     "output_type": "execute_result"
    }
   ],
   "source": [
    "components_ = np.zeros(components.shape)\n",
    "components_[:, 0] = components[:, 0]\n",
    "components_[:, 2] = components[:, 2]\n",
    "components_[:, 6] = components[:, 6]\n",
    "\n",
    "D_k = components_ @ activations\n",
    "\n",
    "# invert the stft after putting the phase back in\n",
    "y_k = librosa.istft(D_k * my_phase)\n",
    "\n",
    "# And playback\n",
    "print('Partly reconstruction')\n",
    "\n",
    "IPython.display.Audio(data=y_k, rate=sr)"
   ]
  },
  {
   "cell_type": "markdown",
   "metadata": {
    "slideshow": {
     "slide_type": "slide"
    }
   },
   "source": [
    "## まとめ ##\n",
    "\n",
    "* SciPyの各モジュールとコード片を紹介\n",
    "* fftpackとsignalで音の信号処理ができる"
   ]
  },
  {
   "cell_type": "markdown",
   "metadata": {
    "slideshow": {
     "slide_type": "skip"
    }
   },
   "source": [
    "### 個人的によく使う関数 ###\n",
    "\n",
    "* scipy.ndimage.interpolation.shift\n",
    "    * 配列を単純にシフトし、要素が無くなったところに指定した値を埋める\n",
    "    * numpyのrollだと要素が回転しまう"
   ]
  },
  {
   "cell_type": "code",
   "execution_count": 67,
   "metadata": {
    "slideshow": {
     "slide_type": "skip"
    }
   },
   "outputs": [
    {
     "name": "stdout",
     "output_type": "stream",
     "text": [
      "[3. 4. 5. 6. 7. 8. 9. 0. 0. 0.]\n",
      "[3. 4. 5. 6. 7. 8. 9. 0. 1. 2.]\n"
     ]
    }
   ],
   "source": [
    "from scipy.ndimage.interpolation import shift\n",
    "xs = np.array([ 0., 1., 2., 3., 4., 5., 6., 7., 8., 9.]) \n",
    "print(shift(xs, -3, cval=0.0))\n",
    "print(np.roll(xs, -3))"
   ]
  }
 ],
 "metadata": {
  "celltoolbar": "Slideshow",
  "kernelspec": {
   "display_name": "Python 3",
   "language": "python",
   "name": "python3"
  },
  "language_info": {
   "codemirror_mode": {
    "name": "ipython",
    "version": 3
   },
   "file_extension": ".py",
   "mimetype": "text/x-python",
   "name": "python",
   "nbconvert_exporter": "python",
   "pygments_lexer": "ipython3",
   "version": "3.7.3"
  },
  "nikola": {
   "category": "",
   "date": "2018-06-16 14:3:00 UTC+09:00",
   "description": "",
   "link": "",
   "slug": "4",
   "tags": "python,pydata,numpy,scipy,librosa,scikit-learn",
   "title": "2018/2/28にPydata Osakaで'SciPyの概要と各モジュールの紹介'というタイトルで発表しました",
   "type": "text"
  }
 },
 "nbformat": 4,
 "nbformat_minor": 4
}
