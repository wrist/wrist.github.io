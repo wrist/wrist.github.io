{
 "cells": [
  {
   "cell_type": "markdown",
   "metadata": {
    "slideshow": {
     "slide_type": "skip"
    }
   },
   "source": [
    "## 2018/5/19にPyCon mini Osakaで「librosaで始める音楽情報検索」というタイトルで発表しました ##\n",
    "\n",
    "公開が遅くなりましたが先月開催されたPyCon mini Osakaで発表した内容を公開します。この記事もAzure Notebooksで既に公開済ではありましたが、nikolaのipynb公開機能を使ってブログポストとして投稿しておきたいと思います。"
   ]
  },
  {
   "cell_type": "code",
   "execution_count": 1,
   "metadata": {
    "slideshow": {
     "slide_type": "skip"
    }
   },
   "outputs": [
    {
     "data": {
      "text/html": [
       "\n",
       "        <iframe\n",
       "            width=\"100%\"\n",
       "            height=\"450px\"\n",
       "            src=\"https://www.hiromasa.info/slide/5.slides.html\"\n",
       "            frameborder=\"0\"\n",
       "            allowfullscreen\n",
       "        ></iframe>\n",
       "        "
      ],
      "text/plain": [
       "<IPython.lib.display.IFrame at 0x7f1271f06128>"
      ]
     },
     "execution_count": 1,
     "metadata": {},
     "output_type": "execute_result"
    }
   ],
   "source": [
    "from IPython.display import IFrame\n",
    "IFrame(\"https://www.hiromasa.info/slide/5.slides.html\", \"100%\", \"450px\")"
   ]
  },
  {
   "cell_type": "markdown",
   "metadata": {
    "slideshow": {
     "slide_type": "slide"
    }
   },
   "source": [
    "# librosaで始める音楽情報検索 #\n",
    "\n",
    "* 大橋 宏正(twitter: @wrist)"
   ]
  },
  {
   "cell_type": "markdown",
   "metadata": {
    "slideshow": {
     "slide_type": "slide"
    }
   },
   "source": [
    "## この資料 ##\n",
    "\n",
    "* Azure Notebooksで作成\n",
    "    * https://bit.ly/2rRjYSj"
   ]
  },
  {
   "cell_type": "markdown",
   "metadata": {
    "slideshow": {
     "slide_type": "slide"
    }
   },
   "source": [
    "### 自己紹介 ###\n",
    "\n",
    "* 大橋宏正(@wrist)\n",
    "    * 某メーカで音響信号処理の業務に従事\n",
    "    * 2013年ごろから大阪PRML読書会を主催(現在休止中)\n",
    "    * PyData Osakaオーガナイザ"
   ]
  },
  {
   "cell_type": "markdown",
   "metadata": {
    "slideshow": {
     "slide_type": "slide"
    }
   },
   "source": [
    "## PyCon mini Osakaのテーマ ##\n",
    "\n",
    "* 「Pythonでなにしよう？」\n",
    "    * Webアプリ\n",
    "    * 科学技術計算\n",
    "* Pythonで音楽の分析を行いたい！"
   ]
  },
  {
   "cell_type": "markdown",
   "metadata": {
    "slideshow": {
     "slide_type": "slide"
    }
   },
   "source": [
    "## この発表 ##\n",
    "\n",
    "* Pythonで音楽情報検索(MIR)を行うためのライブラリlibrosaの紹介"
   ]
  },
  {
   "cell_type": "markdown",
   "metadata": {
    "slideshow": {
     "slide_type": "slide"
    }
   },
   "source": [
    "## 音楽情報検索(MIR)とは？ ##\n",
    "\n",
    "* Music Information Retrievalの略\n",
    "* 音楽情報に関する処理全般\n",
    "    * ビートトラッキング、楽器音分離、音楽推薦など\n",
    "* コミュニティ\n",
    "    * ismir.net\n",
    "    * 音楽情報科学研究会(www.sigmus.jp)"
   ]
  },
  {
   "cell_type": "markdown",
   "metadata": {
    "slideshow": {
     "slide_type": "slide"
    }
   },
   "source": [
    "## MIRをPythonで行う ##\n",
    "\n",
    "* Pythonで音楽データの処理が必要\n",
    "* 読み書き\n",
    "    * wave, audioread, pysoundfile, scipy.io, ...\n",
    "* 線形代数、信号処理、フーリエ変換\n",
    "    * numpy, scipy(signal, fftpack, ...)\n",
    "* 可視化\n",
    "    * matplotlib, seaborn\n",
    "* これらを組み合わせることでさまざまな処理を実現"
   ]
  },
  {
   "cell_type": "markdown",
   "metadata": {
    "slideshow": {
     "slide_type": "slide"
    }
   },
   "source": [
    "### 参考 ###\n",
    "\n",
    "音響信号処理についてはQiitaに過去に諸々記事を書いてます\n",
    "\n",
    "* [Pythonで音響信号処理](https://qiita.com/wrist/items/5759f894303e4364ebfd)\n",
    "* [Pythonで音響信号処理(2)](https://qiita.com/wrist/items/4b404230e264c5cb571c) "
   ]
  },
  {
   "cell_type": "markdown",
   "metadata": {
    "slideshow": {
     "slide_type": "slide"
    }
   },
   "source": [
    "## librosa ##\n",
    "\n",
    "* 音楽情報処理を行うためのPythonライブラリ\n",
    "    * コロンビア大学にかつて存在したLabROSAで開発\n",
    "    * 2/17に0.6.0がリリース\n",
    "* github\n",
    "    * https://github.com/librosa/librosa\n",
    "* ドキュメント\n",
    "    * https://librosa.github.io/librosa/"
   ]
  },
  {
   "cell_type": "markdown",
   "metadata": {
    "slideshow": {
     "slide_type": "subslide"
    }
   },
   "source": [
    "## librosaを学ぶための資料 ##\n",
    "\n",
    "* Scipy 2015 conf.の資料、動画\n",
    "    * http://conference.scipy.org/proceedings/scipy2015/brian_mcfee.html\n",
    "* ギャラリー\n",
    "    * https://github.com/librosa/librosa_gallery\n",
    "    * https://librosa.github.io/librosa_gallery/\n",
    "* チュートリアル\n",
    "    * https://github.com/librosa/tutorial\n",
    "    * https://librosa.github.io/librosa/tutorial.html"
   ]
  },
  {
   "cell_type": "markdown",
   "metadata": {
    "slideshow": {
     "slide_type": "slide"
    }
   },
   "source": [
    "## librosaの特徴 ##\n",
    "\n",
    "* MIRに必要となる典型的な処理が多く実装\n",
    "* 低い学習障壁\n",
    "* 一貫性、後方互換性、モジュール性"
   ]
  },
  {
   "cell_type": "code",
   "execution_count": 1,
   "metadata": {
    "slideshow": {
     "slide_type": "subslide"
    }
   },
   "outputs": [
    {
     "name": "stdout",
     "output_type": "stream",
     "text": [
      "Requirement already satisfied: librosa in /Users/wrist/.pyenv/versions/miniconda3-4.3.30/envs/py36/lib/python3.6/site-packages (0.6.0)\n",
      "Requirement already satisfied: scipy>=0.14.0 in /Users/wrist/.pyenv/versions/miniconda3-4.3.30/envs/py36/lib/python3.6/site-packages (from librosa) (1.1.0)\n",
      "Requirement already satisfied: resampy>=0.2.0 in /Users/wrist/.pyenv/versions/miniconda3-4.3.30/envs/py36/lib/python3.6/site-packages (from librosa) (0.2.0)\n",
      "Requirement already satisfied: numpy>=1.8.0 in /Users/wrist/.pyenv/versions/miniconda3-4.3.30/envs/py36/lib/python3.6/site-packages (from librosa) (1.14.2)\n",
      "Requirement already satisfied: decorator>=3.0.0 in /Users/wrist/.pyenv/versions/miniconda3-4.3.30/envs/py36/lib/python3.6/site-packages (from librosa) (4.3.0)\n",
      "Requirement already satisfied: audioread>=2.0.0 in /Users/wrist/.pyenv/versions/miniconda3-4.3.30/envs/py36/lib/python3.6/site-packages (from librosa) (2.1.5)\n",
      "Requirement already satisfied: six>=1.3 in /Users/wrist/.pyenv/versions/miniconda3-4.3.30/envs/py36/lib/python3.6/site-packages (from librosa) (1.11.0)\n",
      "Requirement already satisfied: scikit-learn!=0.19.0,>=0.14.0 in /Users/wrist/.pyenv/versions/miniconda3-4.3.30/envs/py36/lib/python3.6/site-packages (from librosa) (0.19.1)\n",
      "Requirement already satisfied: joblib>=0.7.0 in /Users/wrist/.pyenv/versions/miniconda3-4.3.30/envs/py36/lib/python3.6/site-packages (from librosa) (0.11)\n",
      "Requirement already satisfied: numba>=0.32 in /Users/wrist/.pyenv/versions/miniconda3-4.3.30/envs/py36/lib/python3.6/site-packages (from resampy>=0.2.0->librosa) (0.38.0)\n",
      "Requirement already satisfied: llvmlite>=0.23.0dev0 in /Users/wrist/.pyenv/versions/miniconda3-4.3.30/envs/py36/lib/python3.6/site-packages (from numba>=0.32->resampy>=0.2.0->librosa) (0.23.0)\n"
     ]
    }
   ],
   "source": [
    "# pipでインストール\n",
    "!pip install librosa"
   ]
  },
  {
   "cell_type": "markdown",
   "metadata": {
    "slideshow": {
     "slide_type": "slide"
    }
   },
   "source": [
    "## librosaの具体的な紹介 ##\n",
    "\n",
    "* 適宜デモを交えながらlibrosaを紹介\n",
    "* 発表の流れ\n",
    "    * 音データの短時間周波数分析\n",
    "    * 特徴量抽出\n",
    "    * オンセット検出、ビートトラッキング"
   ]
  },
  {
   "cell_type": "code",
   "execution_count": 2,
   "metadata": {
    "slideshow": {
     "slide_type": "slide"
    }
   },
   "outputs": [],
   "source": [
    "# 本発表では以下を仮定\n",
    "import numpy as np\n",
    "import scipy as sp\n",
    "import scipy.signal as sg\n",
    "import scipy.fftpack as fft\n",
    "import matplotlib as mpl\n",
    "import matplotlib.pyplot as plt\n",
    "import IPython.display"
   ]
  },
  {
   "cell_type": "code",
   "execution_count": 3,
   "metadata": {
    "slideshow": {
     "slide_type": "subslide"
    }
   },
   "outputs": [
    {
     "name": "stdout",
     "output_type": "stream",
     "text": [
      "numpy version 1.14.2\n",
      "scipy version 1.1.0\n",
      "matplotlib version 2.2.2\n"
     ]
    }
   ],
   "source": [
    "# version\n",
    "print(\"numpy version\", np.version.full_version)\n",
    "print(\"scipy version\", sp.version.full_version)\n",
    "print(\"matplotlib version\", mpl.__version__)"
   ]
  },
  {
   "cell_type": "code",
   "execution_count": 4,
   "metadata": {
    "slideshow": {
     "slide_type": "slide"
    }
   },
   "outputs": [],
   "source": [
    "# librosa以下の各モジュールをimport\n",
    "import librosa\n",
    "import librosa.display\n",
    "import librosa.feature\n",
    "import librosa.effects\n",
    "import librosa.onset\n",
    "import librosa.beat"
   ]
  },
  {
   "cell_type": "markdown",
   "metadata": {
    "slideshow": {
     "slide_type": "slide"
    }
   },
   "source": [
    "## サウンドデータの読み込み ##\n",
    "\n",
    "* `librosa.load`\n",
    "    * ファイルパスを与えることでデータを読み込み\n",
    "    * デフォルトでモノラル化、サンプリングレート22050Hzとなる\n",
    "    * バックエンドに`audioread`ライブラリを使用\n",
    "* `librosa.display.waveplot`で波形データの可視化"
   ]
  },
  {
   "cell_type": "code",
   "execution_count": 5,
   "metadata": {
    "scrolled": true,
    "slideshow": {
     "slide_type": "slide"
    }
   },
   "outputs": [
    {
     "data": {
      "text/html": [
       "<audio controls preload=\"none\"><source src=\"/wav/5/0.wav\" type=\"audio/wav\" /></audio>"
      ],
      "text/plain": [
       "<IPython.lib.display.Audio object>"
      ]
     },
     "execution_count": 5,
     "metadata": {},
     "output_type": "execute_result"
    }
   ],
   "source": [
    "# デモ音源のロード＆再生\n",
    "# y: モノラル音声データ, sr: サンプリングレート\n",
    "y, sr = librosa.load(librosa.util.example_audio_file())\n",
    "IPython.display.Audio(data=y, rate=sr)"
   ]
  },
  {
   "cell_type": "code",
   "execution_count": 6,
   "metadata": {
    "slideshow": {
     "slide_type": "slide"
    }
   },
   "outputs": [
    {
     "data": {
      "text/plain": [
       "<matplotlib.collections.PolyCollection at 0x115239668>"
      ]
     },
     "execution_count": 6,
     "metadata": {},
     "output_type": "execute_result"
    },
    {
     "data": {
      "text/html": [
       "<img src=\"/images/5/0.png\" />"
      ],
      "text/plain": [
       "<Figure size 432x288 with 1 Axes>"
      ]
     },
     "metadata": {},
     "output_type": "display_data"
    }
   ],
   "source": [
    "# 波形の描画\n",
    "# 縦軸レンジを自動的に指定し、横軸を秒数表示にしてくれる\n",
    "librosa.display.waveplot(y, sr)"
   ]
  },
  {
   "cell_type": "markdown",
   "metadata": {
    "slideshow": {
     "slide_type": "slide"
    }
   },
   "source": [
    "## サウンドデータのデジタル表現 ##\n",
    "\n",
    "* 現実の音はアナログデータ\n",
    "    * 時間方向にも振幅方向にも連続\n",
    "* コンピュータで音を取り扱うためには離散化が必要\n",
    "    * 時間方向: サンプリング\n",
    "    * 振幅方向: 量子化"
   ]
  },
  {
   "cell_type": "code",
   "execution_count": 7,
   "metadata": {
    "slideshow": {
     "slide_type": "subslide"
    }
   },
   "outputs": [
    {
     "data": {
      "text/plain": [
       "Text(0,0.5,'amplitude')"
      ]
     },
     "execution_count": 7,
     "metadata": {},
     "output_type": "execute_result"
    },
    {
     "data": {
      "text/html": [
       "<img src=\"/images/5/1.png\" />"
      ],
      "text/plain": [
       "<Figure size 1008x432 with 1 Axes>"
      ]
     },
     "metadata": {},
     "output_type": "display_data"
    }
   ],
   "source": [
    "b_pt = int(10.0*sr); e_pt = int((10.0+0.002)*sr)\n",
    "fig = plt.figure(1, figsize=(14,6)); ax = fig.add_subplot(111)\n",
    "ax.plot(y[b_pt:e_pt]); ax.plot(y[b_pt:e_pt], \"o\"); ax.grid();\n",
    "ax.set_xlabel(\"time [pt]\"); ax.set_ylabel(\"amplitude\")"
   ]
  },
  {
   "cell_type": "code",
   "execution_count": 8,
   "metadata": {
    "slideshow": {
     "slide_type": "subslide"
    }
   },
   "outputs": [
    {
     "name": "stdout",
     "output_type": "stream",
     "text": [
      "sampling rate: 22050\n",
      "length: 1355168[pt]=61.45886621315193[s]\n"
     ]
    }
   ],
   "source": [
    "# サンプリングレート: 1秒辺りのサンプル数\n",
    "print(\"sampling rate: {0}\".format(sr))\n",
    "print(\"length: {0}[pt]={1}[s]\".format(y.shape[0], y.shape[0]/sr))"
   ]
  },
  {
   "cell_type": "markdown",
   "metadata": {
    "slideshow": {
     "slide_type": "slide"
    }
   },
   "source": [
    "## 音声データの周波数分析 ##\n",
    "\n",
    "* 音声データの長さはデータにより異なる\n",
    "* 固定長の短時間波形に切り出した上で処理を行う\n",
    "* 短時間波形に対し離散フーリエ変換を適用することで周波数分析を行う"
   ]
  },
  {
   "cell_type": "code",
   "execution_count": 9,
   "metadata": {
    "slideshow": {
     "slide_type": "skip"
    }
   },
   "outputs": [],
   "source": [
    "# strideトリックを使った信号を短時間波形フレームの配列に変換する関数\n",
    "from numpy.lib.stride_tricks import as_strided\n",
    "\n",
    "def split_frames(xs, frame_width=1024, noverlap=2):\n",
    "\n",
    "    nsample = np.alen(xs)\n",
    "    nshift = (frame_width // noverlap)\n",
    "    nframe = int(nsample / nshift) - noverlap + 1\n",
    "    \n",
    "    nbyte = xs.dtype.itemsize\n",
    "\n",
    "    # as_strided(xs, ys_shape, new_stride)\n",
    "    xs_split = as_strided(xs, (nframe, frame_width), (nbyte * nshift, nbyte))\n",
    "    \n",
    "    return xs_split"
   ]
  },
  {
   "cell_type": "code",
   "execution_count": 10,
   "metadata": {
    "slideshow": {
     "slide_type": "skip"
    }
   },
   "outputs": [],
   "source": [
    "def plot_overlap_waves():\n",
    "    import matplotlib.gridspec as gridspec\n",
    "\n",
    "    frame_width = 2048\n",
    "    half_width = int(frame_width // 2)\n",
    "    nframes = 20\n",
    "\n",
    "    fig = plt.figure(1, figsize=(12,8))\n",
    "    gs = gridspec.GridSpec(3, nframes + 1)\n",
    "    \n",
    "    ax_wav = fig.add_subplot(gs[0, :])\n",
    "    ax_wav.plot(np.arange(half_width*(nframes+1))/sr, \n",
    "                y[:half_width*(nframes+1)])\n",
    "    ymax = np.max(y[:half_width*(nframes+1)])\n",
    "    ax_wav.set_xlim([0, half_width*(nframes+1)/sr])\n",
    "    ax_wav.set_ylim([-ymax, ymax]); ax_wav.grid()\n",
    "\n",
    "    win = sg.get_window(\"hanning\", int(frame_width))\n",
    "    xs = np.arange(frame_width)\n",
    "\n",
    "    for i, y_cut in enumerate(split_frames(y, int(frame_width), 2)[:nframes]):\n",
    "        y_win = win * y_cut\n",
    "        ax_wav.plot(np.arange(half_width*i, half_width*i + frame_width)/sr, 0.2 * win)\n",
    "        ax = None\n",
    "        if i % 2 == 0:\n",
    "            ax = fig.add_subplot(gs[1, i:i+2])\n",
    "            ax.plot(xs[:half_width], y_win[:half_width])\n",
    "            ax.plot(xs[half_width:], y_win[half_width:])\n",
    "            ax.set_xlim([0, frame_width])\n",
    "        else:\n",
    "            ax = fig.add_subplot(gs[2, i:i+2])\n",
    "            ax.plot(xs[half_width:], y_win[half_width:])\n",
    "            ax.plot(xs[:half_width], y_win[:half_width])\n",
    "            ax.set_xlim([0, frame_width])\n",
    "\n",
    "        ax.tick_params(labelleft=\"off\",left=\"off\") # y軸の削除\n",
    "        ax.set_ylim([-ymax, ymax]); ax.grid()\n",
    "\n",
    "    fig.subplots_adjust(wspace=0.0)"
   ]
  },
  {
   "cell_type": "code",
   "execution_count": 11,
   "metadata": {
    "slideshow": {
     "slide_type": "slide"
    }
   },
   "outputs": [
    {
     "name": "stderr",
     "output_type": "stream",
     "text": [
      "/Users/wrist/.pyenv/versions/miniconda3-4.3.30/envs/py36/lib/python3.6/site-packages/matplotlib/cbook/deprecation.py:107: MatplotlibDeprecationWarning: Passing one of 'on', 'true', 'off', 'false' as a boolean is deprecated; use an actual boolean (True/False) instead.\n",
      "  warnings.warn(message, mplDeprecation, stacklevel=1)\n"
     ]
    },
    {
     "data": {
      "text/html": [
       "<img src=\"/images/5/2.png\" />"
      ],
      "text/plain": [
       "<Figure size 864x576 with 21 Axes>"
      ]
     },
     "metadata": {},
     "output_type": "display_data"
    }
   ],
   "source": [
    "# 周波数分析時には通常窓関数を乗算した短時間波形を使用\n",
    "# 切り出しはここでは1/2区間をオーバーラップさせている\n",
    "plot_overlap_waves()"
   ]
  },
  {
   "cell_type": "markdown",
   "metadata": {
    "slideshow": {
     "slide_type": "slide"
    }
   },
   "source": [
    "## 用語の整理 ##\n",
    "\n",
    "* `sr` = sampling rate \\[Hz = pt/s\\]\n",
    "    * 22050 \\[Hz\\]\n",
    "* `frame` = 各短時間波形\n",
    "* `n_fft` = 各フレームに含まれるサンプル数\n",
    "    * 2048 \\[pt\\]\n",
    "* `hop_length` = フレーム間のサンプル数\n",
    "    * 512 \\[pt\\]"
   ]
  },
  {
   "cell_type": "code",
   "execution_count": 12,
   "metadata": {
    "slideshow": {
     "slide_type": "skip"
    }
   },
   "outputs": [],
   "source": [
    "def plot_overlap_freqs():\n",
    "    import matplotlib.gridspec as gridspec\n",
    "\n",
    "    frame_width = 2048\n",
    "    half_width = int(frame_width // 2)\n",
    "    nframes = 20\n",
    "\n",
    "    fig = plt.figure(1, figsize=(12,8))\n",
    "    gs = gridspec.GridSpec(3, nframes + 1)\n",
    "    \n",
    "    ax_wav = fig.add_subplot(gs[0, :])\n",
    "    ax_wav.plot(y[:half_width*(nframes+1)])\n",
    "    ymax = np.max(y[:half_width*(nframes+1)])\n",
    "    ax_wav.set_xlim([0, half_width*(nframes+1)])\n",
    "    ax_wav.set_ylim([-ymax, ymax]); ax_wav.grid()\n",
    "\n",
    "    win = sg.get_window(\"hanning\", int(frame_width))\n",
    "    xs = np.arange(frame_width)\n",
    "    w = np.linspace(0.0, 2.0 * np.pi, frame_width, endpoint=False)\n",
    "    freqs = w[:frame_width//2+1] * (sr / 2) / np.pi\n",
    "    for i, y_cut in enumerate(split_frames(y, int(frame_width), 2)[:20]):\n",
    "        y_win = win * y_cut\n",
    "        Y_abs = np.abs(fft.fft(y_win, frame_width)[:frame_width//2+1])\n",
    "        ax_wav.plot(np.arange(half_width*i, half_width*i + frame_width), 0.2 * win)\n",
    "        ax = None\n",
    "        if i % 2 == 0:\n",
    "            ax = fig.add_subplot(gs[1, i:i+2])\n",
    "            ax.semilogy(Y_abs, freqs)\n",
    "        else:\n",
    "            ax = fig.add_subplot(gs[2, i:i+2])\n",
    "            ax.semilogy(Y_abs, freqs)\n",
    "\n",
    "        if i > 1:\n",
    "            ax.tick_params(labelleft=\"off\",left=\"off\") # y軸の削除\n",
    "        else:\n",
    "            ax.tick_params(labelbottom=\"off\",bottom=\"off\") # x軸の削除\n",
    "            ax.set_ylabel(\"frequency [Hz]\")\n",
    "\n",
    "        ax.set_xlabel(\"amplitude\")\n",
    "        ax.set_ylim([10, sr/2])\n",
    "        ax.grid()\n",
    "\n",
    "    fig.subplots_adjust(wspace=0.0)"
   ]
  },
  {
   "cell_type": "code",
   "execution_count": 13,
   "metadata": {
    "slideshow": {
     "slide_type": "slide"
    }
   },
   "outputs": [
    {
     "name": "stderr",
     "output_type": "stream",
     "text": [
      "/Users/wrist/.pyenv/versions/miniconda3-4.3.30/envs/py36/lib/python3.6/site-packages/matplotlib/cbook/deprecation.py:107: MatplotlibDeprecationWarning: Passing one of 'on', 'true', 'off', 'false' as a boolean is deprecated; use an actual boolean (True/False) instead.\n",
      "  warnings.warn(message, mplDeprecation, stacklevel=1)\n"
     ]
    },
    {
     "data": {
      "text/html": [
       "<img src=\"/images/5/3.png\" />"
      ],
      "text/plain": [
       "<Figure size 864x576 with 21 Axes>"
      ]
     },
     "metadata": {},
     "output_type": "display_data"
    }
   ],
   "source": [
    "# 各短時間波形を周波数分析したグラフを描画\n",
    "# 縦軸が周波数、横軸が振幅スペクトル\n",
    "plot_overlap_freqs()"
   ]
  },
  {
   "cell_type": "code",
   "execution_count": 14,
   "metadata": {
    "slideshow": {
     "slide_type": "skip"
    }
   },
   "outputs": [],
   "source": [
    "def plot_spectrogram():\n",
    "    frame_width = 2048\n",
    "    half_width = int(frame_width // 2)\n",
    "    nframes = 20\n",
    "\n",
    "    fig = plt.figure(1, figsize=(12,8))\n",
    "    \n",
    "    ax_wav = fig.add_subplot(211)\n",
    "    ax_wav.plot(np.arange(half_width*(nframes+1))/sr,\n",
    "                y[:half_width*(nframes+1)])\n",
    "    ymax = np.max(y[:half_width*(nframes+1)])\n",
    "    ax_wav.set_xlim([0, half_width*(nframes+1)/sr])\n",
    "    ax_wav.set_ylim([-ymax, ymax]); ax_wav.grid()\n",
    "\n",
    "    win = sg.get_window(\"hanning\", int(frame_width))\n",
    "    xs = np.arange(frame_width)\n",
    "    w = np.linspace(0.0, 2.0 * np.pi, frame_width, endpoint=False)\n",
    "    freqs = w[:frame_width//2+1] * (sr / 2) / np.pi\n",
    "\n",
    "    Zs = []\n",
    "    for i, y_cut in enumerate(split_frames(y, int(frame_width), 2)[:20]):\n",
    "        y_win = win * y_cut\n",
    "        Y_abs = np.abs(fft.fft(y_win, frame_width)[:frame_width//2+1])\n",
    "        ax_wav.plot(np.arange(half_width*i, half_width*i + frame_width), 0.2 * win)\n",
    "        Zs.append(20.0*np.log10(Y_abs))\n",
    "    \n",
    "    ax = fig.add_subplot(212)\n",
    "    Xs = np.arange((nframes+1)) / sr / 2\n",
    "    pcol = ax.pcolormesh(Xs, freqs, np.array(Zs).T, cmap='magma')\n",
    "    cax = fig.colorbar(pcol)\n",
    "    cax.set_clim(-80, 20)\n",
    "\n",
    "    fig.subplots_adjust(wspace=0.0)"
   ]
  },
  {
   "cell_type": "code",
   "execution_count": 15,
   "metadata": {
    "slideshow": {
     "slide_type": "slide"
    }
   },
   "outputs": [
    {
     "data": {
      "text/html": [
       "<img src=\"/images/5/4.png\" />"
      ],
      "text/plain": [
       "<Figure size 864x576 with 3 Axes>"
      ]
     },
     "metadata": {},
     "output_type": "display_data"
    }
   ],
   "source": [
    "# 短時間波形を周波数分析したものをスペクトログラムとして表示\n",
    "plot_spectrogram()"
   ]
  },
  {
   "cell_type": "markdown",
   "metadata": {
    "slideshow": {
     "slide_type": "slide"
    }
   },
   "source": [
    "## librosaにおける短時間周波数分析 ##\n",
    "\n",
    "* 短時間離散フーリエ変換(Short time fourie transform)\n",
    "    * `librosa.stft`\n",
    "* Constant-Q Transform(CQT)\n",
    "    * `librosa.cqt`\n",
    "* 分析結果の可視化\n",
    "    * `librosa.specshow`"
   ]
  },
  {
   "cell_type": "code",
   "execution_count": 16,
   "metadata": {
    "slideshow": {
     "slide_type": "slide"
    }
   },
   "outputs": [],
   "source": [
    "# librosaでは短時間波形分析をメソッド一発で実行可能\n",
    "D = librosa.stft(y)"
   ]
  },
  {
   "cell_type": "code",
   "execution_count": 17,
   "metadata": {
    "slideshow": {
     "slide_type": "fragment"
    }
   },
   "outputs": [
    {
     "data": {
      "text/plain": [
       "(1025, 2647)"
      ]
     },
     "execution_count": 17,
     "metadata": {},
     "output_type": "execute_result"
    }
   ],
   "source": [
    "# D[k, l]\n",
    "# k: 周波数ビン  l: フレームインデックス\n",
    "# kは実信号に対する2048ptフーリエ変換の結果なので1025ptのみ保持\n",
    "D.shape"
   ]
  },
  {
   "cell_type": "markdown",
   "metadata": {
    "slideshow": {
     "slide_type": "subslide"
    }
   },
   "source": [
    "## 離散フーリエ変換$D[k,l]$の算出法 ##\n",
    "\n",
    "$$D[k, l]=\\sum_{n=0}^{{\\textrm N_{\\rm fft}-1}} w[n]\\cdot x\\left[\\left(l\\cdot {\\rm M}-\\frac{N_{\\rm fft}}{2}\\right)+n\\right]\\exp\\left\\{-j\\frac{2\\pi k n}{N_{\\rm fft}}\\right\\}$$\n",
    "    * $x[n]$は入力信号、$w[n]$は窓関数\n",
    "    * 周波数ビン$k$、フレームインデックス$l$、$M$はhop length\n",
    "    * $lM$を中心に前後$N/2$点に渡り離散フーリエ変換を実行"
   ]
  },
  {
   "cell_type": "code",
   "execution_count": 18,
   "metadata": {
    "slideshow": {
     "slide_type": "slide"
    }
   },
   "outputs": [
    {
     "data": {
      "text/plain": [
       "<matplotlib.colorbar.Colorbar at 0x115a2aba8>"
      ]
     },
     "execution_count": 18,
     "metadata": {},
     "output_type": "execute_result"
    },
    {
     "data": {
      "text/html": [
       "<img src=\"/images/5/5.png\" />"
      ],
      "text/plain": [
       "<Figure size 864x288 with 2 Axes>"
      ]
     },
     "metadata": {},
     "output_type": "display_data"
    }
   ],
   "source": [
    "fig = plt.figure(1, figsize=(12,4)); ax = fig.add_subplot(1,1,1)\n",
    "\n",
    "log_power = librosa.amplitude_to_db(np.abs(D), ref=np.max)\n",
    "librosa.display.specshow(log_power, x_axis=\"time\", y_axis=\"linear\")\n",
    "plt.colorbar()"
   ]
  },
  {
   "cell_type": "code",
   "execution_count": 19,
   "metadata": {
    "slideshow": {
     "slide_type": "subslide"
    }
   },
   "outputs": [
    {
     "data": {
      "text/plain": [
       "<matplotlib.colorbar.Colorbar at 0x1c3344cef0>"
      ]
     },
     "execution_count": 19,
     "metadata": {},
     "output_type": "execute_result"
    },
    {
     "data": {
      "text/html": [
       "<img src=\"/images/5/6.png\" />"
      ],
      "text/plain": [
       "<Figure size 864x288 with 2 Axes>"
      ]
     },
     "metadata": {},
     "output_type": "display_data"
    }
   ],
   "source": [
    "# 縦軸を対数表示\n",
    "fig = plt.figure(1, figsize=(12,4)); ax = fig.add_subplot(1,1,1)\n",
    "\n",
    "log_power = librosa.amplitude_to_db(np.abs(D), ref=np.max)\n",
    "librosa.display.specshow(log_power, x_axis=\"time\", y_axis=\"log\")\n",
    "plt.colorbar()"
   ]
  },
  {
   "cell_type": "markdown",
   "metadata": {
    "slideshow": {
     "slide_type": "subslide"
    }
   },
   "source": [
    "## Constant-Q変換 ##\n",
    "\n",
    "$$C[k]= \\frac{1}{N[k]} \\sum_{n=0}^{{\\textrm N[k]-1}} w[n, k]\\cdot x\\left[n\\right]\\exp\\left\\{-j\\frac{2\\pi Q[k] n}{N[k]}\\right\\}$$\n",
    "\n",
    "* 特徴\n",
    "    * 分析する周波数間隔を対数的に配置\n",
    "    * 低域は細かく分析し、高域は荒く分析\n",
    "    * 音楽信号の分析に適する"
   ]
  },
  {
   "cell_type": "code",
   "execution_count": 20,
   "metadata": {
    "slideshow": {
     "slide_type": "subslide"
    }
   },
   "outputs": [],
   "source": [
    "C = librosa.cqt(y, sr)"
   ]
  },
  {
   "cell_type": "code",
   "execution_count": 21,
   "metadata": {
    "slideshow": {
     "slide_type": "fragment"
    }
   },
   "outputs": [
    {
     "name": "stdout",
     "output_type": "stream",
     "text": [
      "(1025, 2647)\n",
      "(84, 2647)\n"
     ]
    }
   ],
   "source": [
    "# STFTと比較して縦軸の周波数データ数は圧倒的に少ない\n",
    "# STFTは周波数間隔が等幅なのに対してCQTだと対数間隔となるため\n",
    "print(D.shape)\n",
    "print(C.shape)"
   ]
  },
  {
   "cell_type": "code",
   "execution_count": 22,
   "metadata": {
    "scrolled": true,
    "slideshow": {
     "slide_type": "fragment"
    }
   },
   "outputs": [
    {
     "name": "stdout",
     "output_type": "stream",
     "text": [
      "4185.600000000015\n",
      "C1\n",
      "C8\n"
     ]
    }
   ],
   "source": [
    "fmin = 32.70  # C1に相当するHz\n",
    "fmax = fmin * ((2**(1/12)) ** 84)\n",
    "print(fmax)\n",
    "print(librosa.hz_to_note(fmin))\n",
    "print(librosa.hz_to_note(fmax))"
   ]
  },
  {
   "cell_type": "code",
   "execution_count": 23,
   "metadata": {
    "slideshow": {
     "slide_type": "subslide"
    }
   },
   "outputs": [
    {
     "data": {
      "text/plain": [
       "<matplotlib.colorbar.Colorbar at 0x115933cf8>"
      ]
     },
     "execution_count": 23,
     "metadata": {},
     "output_type": "execute_result"
    },
    {
     "data": {
      "text/html": [
       "<img src=\"/images/5/7.png\" />"
      ],
      "text/plain": [
       "<Figure size 864x288 with 2 Axes>"
      ]
     },
     "metadata": {},
     "output_type": "display_data"
    }
   ],
   "source": [
    "fig = plt.figure(1, figsize=(12,4)); ax = fig.add_subplot(1,1,1)\n",
    "\n",
    "log_cqt_power = librosa.amplitude_to_db(np.abs(C), ref=np.max)\n",
    "librosa.display.specshow(log_cqt_power, x_axis=\"time\", y_axis=\"cqt_hz\")\n",
    "plt.colorbar()"
   ]
  },
  {
   "cell_type": "code",
   "execution_count": 24,
   "metadata": {
    "slideshow": {
     "slide_type": "subslide"
    }
   },
   "outputs": [
    {
     "data": {
      "text/plain": [
       "<matplotlib.colorbar.Colorbar at 0x11589d518>"
      ]
     },
     "execution_count": 24,
     "metadata": {},
     "output_type": "execute_result"
    },
    {
     "data": {
      "text/html": [
       "<img src=\"/images/5/8.png\" />"
      ],
      "text/plain": [
       "<Figure size 864x288 with 2 Axes>"
      ]
     },
     "metadata": {},
     "output_type": "display_data"
    }
   ],
   "source": [
    "fig = plt.figure(1, figsize=(12,4)); ax = fig.add_subplot(1,1,1)\n",
    "\n",
    "log_cqt_power = librosa.amplitude_to_db(np.abs(C), ref=np.max)\n",
    "librosa.display.specshow(log_cqt_power, x_axis=\"time\", y_axis=\"cqt_note\")\n",
    "plt.colorbar()"
   ]
  },
  {
   "cell_type": "code",
   "execution_count": 25,
   "metadata": {
    "slideshow": {
     "slide_type": "subslide"
    }
   },
   "outputs": [
    {
     "data": {
      "text/plain": [
       "<matplotlib.colorbar.Colorbar at 0x1c1f823518>"
      ]
     },
     "execution_count": 25,
     "metadata": {},
     "output_type": "execute_result"
    },
    {
     "data": {
      "text/html": [
       "<img src=\"/images/5/9.png\" />"
      ],
      "text/plain": [
       "<Figure size 864x288 with 2 Axes>"
      ]
     },
     "metadata": {},
     "output_type": "display_data"
    }
   ],
   "source": [
    "fig = plt.figure(1, figsize=(12,4)); ax = fig.add_subplot(1,1,1)\n",
    "\n",
    "# デフォルトだと80dBまでだがtop_dbを付けるとレンジが縮まる\n",
    "log_cqt_power = librosa.amplitude_to_db(np.abs(C), ref=np.max, top_db=40)\n",
    "librosa.display.specshow(log_cqt_power, x_axis=\"time\", y_axis=\"cqt_note\")\n",
    "plt.colorbar()"
   ]
  },
  {
   "cell_type": "markdown",
   "metadata": {
    "slideshow": {
     "slide_type": "slide"
    }
   },
   "source": [
    "## クロマベクトル ##\n",
    "\n",
    "* 12音階それぞれの強さを要素に持つベクトル\n",
    "* CQTで算出した対数周波数帯域ごとの強度を元に計算\n",
    "* `librosa.feature.chroma_cqt`"
   ]
  },
  {
   "cell_type": "code",
   "execution_count": 26,
   "metadata": {
    "slideshow": {
     "slide_type": "subslide"
    }
   },
   "outputs": [
    {
     "name": "stderr",
     "output_type": "stream",
     "text": [
      "/Users/wrist/.pyenv/versions/miniconda3-4.3.30/envs/py36/lib/python3.6/site-packages/librosa/display.py:657: UserWarning: Trying to display complex-valued input. Showing magnitude instead.\n",
      "  warnings.warn('Trying to display complex-valued input. '\n"
     ]
    },
    {
     "data": {
      "text/plain": [
       "<matplotlib.colorbar.Colorbar at 0x1159a3128>"
      ]
     },
     "execution_count": 26,
     "metadata": {},
     "output_type": "execute_result"
    },
    {
     "data": {
      "text/html": [
       "<img src=\"/images/5/10.png\" />"
      ],
      "text/plain": [
       "<Figure size 864x288 with 2 Axes>"
      ]
     },
     "metadata": {},
     "output_type": "display_data"
    }
   ],
   "source": [
    "chroma = librosa.feature.chroma_cqt(C=C, sr=sr)\n",
    "\n",
    "fig = plt.figure(1, figsize=(12,4)); ax = fig.add_subplot(1,1,1)\n",
    "\n",
    "librosa.display.specshow(chroma, x_axis=\"time\", y_axis=\"chroma\")\n",
    "plt.colorbar()"
   ]
  },
  {
   "cell_type": "code",
   "execution_count": 27,
   "metadata": {
    "slideshow": {
     "slide_type": "skip"
    }
   },
   "outputs": [
    {
     "name": "stderr",
     "output_type": "stream",
     "text": [
      "/Users/wrist/.pyenv/versions/miniconda3-4.3.30/envs/py36/lib/python3.6/site-packages/librosa/display.py:657: UserWarning: Trying to display complex-valued input. Showing magnitude instead.\n",
      "  warnings.warn('Trying to display complex-valued input. '\n"
     ]
    },
    {
     "data": {
      "text/html": [
       "<img src=\"/images/5/11.png\" />"
      ],
      "text/plain": [
       "<Figure size 864x288 with 4 Axes>"
      ]
     },
     "metadata": {},
     "output_type": "display_data"
    }
   ],
   "source": [
    "# STFTの結果Dからクロマベクトルを算出\n",
    "chroma_stft = librosa.feature.chroma_stft(S=D, sr=sr)\n",
    "\n",
    "fig = plt.figure(1, figsize=(12,4))\n",
    "ax = fig.add_subplot(2,1,1)\n",
    "librosa.display.specshow(chroma_stft, y_axis='chroma')\n",
    "plt.title('chroma_stft'); plt.colorbar()\n",
    "ax= fig.add_subplot(2,1,2)\n",
    "librosa.display.specshow(chroma, y_axis='chroma', x_axis='time')\n",
    "plt.title('chroma_cqt'); plt.colorbar()\n",
    "plt.tight_layout()"
   ]
  },
  {
   "cell_type": "markdown",
   "metadata": {
    "slideshow": {
     "slide_type": "slide"
    }
   },
   "source": [
    "## その他特徴量抽出 ##\n",
    "\n",
    "* メルスペクトル、MFCC、tonnetzなども算出可能\n",
    "* $\\Delta$特徴量の計算も可能"
   ]
  },
  {
   "cell_type": "code",
   "execution_count": 28,
   "metadata": {
    "slideshow": {
     "slide_type": "subslide"
    }
   },
   "outputs": [],
   "source": [
    "M = librosa.feature.melspectrogram(y=y, sr=sr)\n",
    "mfcc = librosa.feature.mfcc(y=y, sr=sr)\n",
    "tonnetz = librosa.feature.tonnetz(y=y, sr=sr)"
   ]
  },
  {
   "cell_type": "markdown",
   "metadata": {
    "slideshow": {
     "slide_type": "slide"
    }
   },
   "source": [
    "## `librosa.effects`モジュール ##\n",
    "\n",
    "* 音源分離\n",
    "    * `librosa.hpss`\n",
    "        * 調波成分と打音成分に分解\n",
    "* 時間伸縮、ピッチシフト\n",
    "    * `librosa.time_stretch`\n",
    "    * `librosa.pitch_shift`"
   ]
  },
  {
   "cell_type": "code",
   "execution_count": 29,
   "metadata": {
    "slideshow": {
     "slide_type": "slide"
    }
   },
   "outputs": [],
   "source": [
    "y_harmonic, y_percussive = librosa.effects.hpss(y)"
   ]
  },
  {
   "cell_type": "code",
   "execution_count": 30,
   "metadata": {
    "slideshow": {
     "slide_type": "subslide"
    }
   },
   "outputs": [
    {
     "data": {
      "text/html": [
       "<audio controls preload=\"none\"><source src=\"/wav/5/1.wav\" type=\"audio/wav\" /></audio>"
      ],
      "text/plain": [
       "<IPython.lib.display.Audio object>"
      ]
     },
     "execution_count": 30,
     "metadata": {},
     "output_type": "execute_result"
    }
   ],
   "source": [
    "IPython.display.Audio(y, rate=sr)"
   ]
  },
  {
   "cell_type": "code",
   "execution_count": 31,
   "metadata": {
    "slideshow": {
     "slide_type": "subslide"
    }
   },
   "outputs": [
    {
     "data": {
      "text/html": [
       "<audio controls preload=\"none\"><source src=\"/wav/5/2.wav\" type=\"audio/wav\" /></audio>"
      ],
      "text/plain": [
       "<IPython.lib.display.Audio object>"
      ]
     },
     "execution_count": 31,
     "metadata": {},
     "output_type": "execute_result"
    }
   ],
   "source": [
    "IPython.display.Audio(y_harmonic, rate=sr)"
   ]
  },
  {
   "cell_type": "code",
   "execution_count": 32,
   "metadata": {
    "scrolled": true,
    "slideshow": {
     "slide_type": "fragment"
    }
   },
   "outputs": [
    {
     "data": {
      "text/html": [
       "<audio controls preload=\"none\"><source src=\"/wav/5/3.wav\" type=\"audio/wav\" /></audio>"
      ],
      "text/plain": [
       "<IPython.lib.display.Audio object>"
      ]
     },
     "execution_count": 32,
     "metadata": {},
     "output_type": "execute_result"
    }
   ],
   "source": [
    "IPython.display.Audio(y_percussive, rate=sr)"
   ]
  },
  {
   "cell_type": "code",
   "execution_count": 33,
   "metadata": {
    "slideshow": {
     "slide_type": "slide"
    }
   },
   "outputs": [],
   "source": [
    "# それぞれに対するCQTを求める\n",
    "C      = librosa.cqt(y=y, sr=sr)\n",
    "C_harm = librosa.cqt(y=y_harmonic, sr=sr)\n",
    "C_perc = librosa.cqt(y=y_percussive, sr=sr)"
   ]
  },
  {
   "cell_type": "code",
   "execution_count": 34,
   "metadata": {
    "scrolled": true,
    "slideshow": {
     "slide_type": "subslide"
    }
   },
   "outputs": [
    {
     "data": {
      "text/plain": [
       "<matplotlib.axes._subplots.AxesSubplot at 0x1139ae2e8>"
      ]
     },
     "execution_count": 34,
     "metadata": {},
     "output_type": "execute_result"
    },
    {
     "data": {
      "text/html": [
       "<img src=\"/images/5/12.png\" />"
      ],
      "text/plain": [
       "<Figure size 864x288 with 4 Axes>"
      ]
     },
     "metadata": {},
     "output_type": "display_data"
    }
   ],
   "source": [
    "fig = plt.figure(1, figsize=(12,4)); ax = fig.add_subplot(1,1,1)\n",
    "\n",
    "log_cqt_power= librosa.amplitude_to_db(np.abs(C), ref=np.max)\n",
    "log_cqt_harm = librosa.amplitude_to_db(np.abs(C_harm), ref=np.max(np.abs(C)))\n",
    "log_cqt_perc = librosa.amplitude_to_db(np.abs(C_perc), ref=np.max(np.abs(C)))\n",
    "\n",
    "ax = fig.add_subplot(3,1,1); librosa.display.specshow(log_cqt_power, x_axis=\"time\", y_axis=\"cqt_hz\")\n",
    "ax = fig.add_subplot(3,1,2); librosa.display.specshow(log_cqt_harm , x_axis=\"time\", y_axis=\"cqt_hz\")\n",
    "ax = fig.add_subplot(3,1,3); librosa.display.specshow(log_cqt_perc , x_axis=\"time\", y_axis=\"cqt_hz\")"
   ]
  },
  {
   "cell_type": "code",
   "execution_count": 35,
   "metadata": {
    "slideshow": {
     "slide_type": "slide"
    }
   },
   "outputs": [
    {
     "data": {
      "text/html": [
       "<audio controls preload=\"none\"><source src=\"/wav/5/4.wav\" type=\"audio/wav\" /></audio>"
      ],
      "text/plain": [
       "<IPython.lib.display.Audio object>"
      ]
     },
     "execution_count": 35,
     "metadata": {},
     "output_type": "execute_result"
    }
   ],
   "source": [
    "# 2倍の速度に時間伸縮\n",
    "y_fast = librosa.effects.time_stretch(y, 2.0)\n",
    "IPython.display.Audio(y_fast, rate=sr)"
   ]
  },
  {
   "cell_type": "code",
   "execution_count": 36,
   "metadata": {
    "slideshow": {
     "slide_type": "slide"
    }
   },
   "outputs": [
    {
     "data": {
      "text/html": [
       "<audio controls preload=\"none\"><source src=\"/wav/5/5.wav\" type=\"audio/wav\" /></audio>"
      ],
      "text/plain": [
       "<IPython.lib.display.Audio object>"
      ]
     },
     "execution_count": 36,
     "metadata": {},
     "output_type": "execute_result"
    }
   ],
   "source": [
    "# 3度上にピッチシフト\n",
    "y_third = librosa.effects.pitch_shift(y, sr, n_steps=4)\n",
    "IPython.display.Audio(y_third, rate=sr)"
   ]
  },
  {
   "cell_type": "code",
   "execution_count": 37,
   "metadata": {
    "slideshow": {
     "slide_type": "slide"
    }
   },
   "outputs": [
    {
     "data": {
      "text/html": [
       "<audio controls preload=\"none\"><source src=\"/wav/5/6.wav\" type=\"audio/wav\" /></audio>"
      ],
      "text/plain": [
       "<IPython.lib.display.Audio object>"
      ]
     },
     "execution_count": 37,
     "metadata": {},
     "output_type": "execute_result"
    }
   ],
   "source": [
    "# 減五度にピッチシフト\n",
    "y_tritone = librosa.effects.pitch_shift(y, sr, n_steps=-6)\n",
    "IPython.display.Audio(y_tritone, rate=sr)"
   ]
  },
  {
   "cell_type": "markdown",
   "metadata": {
    "slideshow": {
     "slide_type": "slide"
    }
   },
   "source": [
    "## onset検出とビートトラッキング ##\n",
    "\n",
    "* `librosa.onset`モジュール、`librosa.beat`モジュールを使用\n",
    "    * 出音の強度を`onset.onset_strength`で算出\n",
    "    * 強度を元にonset箇所を`onset.onset_detect`で検出\n",
    "    * 強度を元に`beat.beat_track`でテンポとビートを推定"
   ]
  },
  {
   "cell_type": "code",
   "execution_count": 38,
   "metadata": {
    "slideshow": {
     "slide_type": "slide"
    }
   },
   "outputs": [],
   "source": [
    "onset_envelope = librosa.onset.onset_strength(y, sr)\n",
    "onsets = librosa.onset.onset_detect(onset_envelope=onset_envelope)"
   ]
  },
  {
   "cell_type": "code",
   "execution_count": 39,
   "metadata": {
    "slideshow": {
     "slide_type": "subslide"
    }
   },
   "outputs": [
    {
     "data": {
      "text/plain": [
       "<matplotlib.collections.PolyCollection at 0x113aa6c88>"
      ]
     },
     "execution_count": 39,
     "metadata": {},
     "output_type": "execute_result"
    },
    {
     "data": {
      "text/html": [
       "<img src=\"/images/5/13.png\" />"
      ],
      "text/plain": [
       "<Figure size 864x576 with 2 Axes>"
      ]
     },
     "metadata": {},
     "output_type": "display_data"
    }
   ],
   "source": [
    "fig = plt.figure(1, figsize=(12,8))\n",
    "ax = fig.add_subplot(2, 1, 1)\n",
    "ax.plot(onset_envelope, label=\"onset strength\")\n",
    "ax.vlines(onsets, 0, np.max(onset_envelope), color=\"red\", alpha=0.25, label=\"onsets\")\n",
    "ax.set_xlim([0, len(onset_envelope)]); ax.legend(loc=1)\n",
    "ax = fig.add_subplot(2, 1, 2)\n",
    "librosa.display.waveplot(y, sr)"
   ]
  },
  {
   "cell_type": "code",
   "execution_count": 40,
   "metadata": {
    "slideshow": {
     "slide_type": "slide"
    }
   },
   "outputs": [],
   "source": [
    "tempo, beats = librosa.beat.beat_track(onset_envelope=onset_envelope)"
   ]
  },
  {
   "cell_type": "code",
   "execution_count": 41,
   "metadata": {
    "slideshow": {
     "slide_type": "fragment"
    }
   },
   "outputs": [
    {
     "name": "stdout",
     "output_type": "stream",
     "text": [
      "129.19921875\n"
     ]
    }
   ],
   "source": [
    "print(tempo)"
   ]
  },
  {
   "cell_type": "code",
   "execution_count": 42,
   "metadata": {
    "slideshow": {
     "slide_type": "subslide"
    }
   },
   "outputs": [
    {
     "data": {
      "text/plain": [
       "<matplotlib.legend.Legend at 0x114fc1128>"
      ]
     },
     "execution_count": 42,
     "metadata": {},
     "output_type": "execute_result"
    },
    {
     "data": {
      "text/html": [
       "<img src=\"/images/5/14.png\" />"
      ],
      "text/plain": [
       "<Figure size 864x576 with 1 Axes>"
      ]
     },
     "metadata": {},
     "output_type": "display_data"
    }
   ],
   "source": [
    "fig = plt.figure(1, figsize=(12,8))\n",
    "ax = fig.add_subplot(1, 1, 1)\n",
    "ax.plot(onset_envelope, label=\"onset strength\")\n",
    "ax.vlines(onsets, 0, 0.8 * np.max(onset_envelope), color=\"red\", alpha=0.5, linestyle=\"dotted\", label=\"onsets\")\n",
    "ax.vlines(beats, 0, np.max(onset_envelope), color=\"black\", alpha=0.25, label=\"beats\")\n",
    "ax.set_xlim([0, len(onset_envelope)]); ax.legend(loc=1)"
   ]
  },
  {
   "cell_type": "markdown",
   "metadata": {
    "slideshow": {
     "slide_type": "slide"
    }
   },
   "source": [
    "## クリック音を生成し同時に再生 ##\n",
    "\n",
    "* MIRの評価に用いられる`mir_eval`ライブラリを使用"
   ]
  },
  {
   "cell_type": "code",
   "execution_count": 43,
   "metadata": {
    "slideshow": {
     "slide_type": "subslide"
    }
   },
   "outputs": [
    {
     "name": "stdout",
     "output_type": "stream",
     "text": [
      "Requirement already satisfied: mir_eval in /Users/wrist/.pyenv/versions/miniconda3-4.3.30/envs/py36/lib/python3.6/site-packages (0.4)\n",
      "Requirement already satisfied: six in /Users/wrist/.pyenv/versions/miniconda3-4.3.30/envs/py36/lib/python3.6/site-packages (from mir_eval) (1.11.0)\n",
      "Requirement already satisfied: numpy>=1.7.0 in /Users/wrist/.pyenv/versions/miniconda3-4.3.30/envs/py36/lib/python3.6/site-packages (from mir_eval) (1.14.2)\n",
      "Requirement already satisfied: scipy>=0.9.0 in /Users/wrist/.pyenv/versions/miniconda3-4.3.30/envs/py36/lib/python3.6/site-packages (from mir_eval) (1.1.0)\n",
      "Requirement already satisfied: future in /Users/wrist/.pyenv/versions/miniconda3-4.3.30/envs/py36/lib/python3.6/site-packages (from mir_eval) (0.16.0)\n"
     ]
    }
   ],
   "source": [
    "!pip install mir_eval"
   ]
  },
  {
   "cell_type": "code",
   "execution_count": 44,
   "metadata": {
    "slideshow": {
     "slide_type": "subslide"
    }
   },
   "outputs": [],
   "source": [
    "# http://colinraffel.com/publications/ismir2014mir_eval.pdf\n",
    "import mir_eval"
   ]
  },
  {
   "cell_type": "code",
   "execution_count": 45,
   "metadata": {
    "slideshow": {
     "slide_type": "subslide"
    }
   },
   "outputs": [],
   "source": [
    "beat_times = librosa.frames_to_time(beats)\n",
    "y_click = mir_eval.sonify.clicks(beat_times, sr, length=len(y))"
   ]
  },
  {
   "cell_type": "code",
   "execution_count": 46,
   "metadata": {
    "slideshow": {
     "slide_type": "subslide"
    }
   },
   "outputs": [
    {
     "data": {
      "text/html": [
       "<audio controls preload=\"none\"><source src=\"/wav/5/7.wav\" type=\"audio/wav\" /></audio>"
      ],
      "text/plain": [
       "<IPython.lib.display.Audio object>"
      ]
     },
     "execution_count": 46,
     "metadata": {},
     "output_type": "execute_result"
    }
   ],
   "source": [
    "IPython.display.Audio(y_click, rate=sr)"
   ]
  },
  {
   "cell_type": "code",
   "execution_count": 47,
   "metadata": {
    "slideshow": {
     "slide_type": "fragment"
    }
   },
   "outputs": [
    {
     "data": {
      "text/html": [
       "<audio controls preload=\"none\"><source src=\"/wav/5/8.wav\" type=\"audio/wav\" /></audio>"
      ],
      "text/plain": [
       "<IPython.lib.display.Audio object>"
      ]
     },
     "execution_count": 47,
     "metadata": {},
     "output_type": "execute_result"
    }
   ],
   "source": [
    "IPython.display.Audio(y + y_click, rate=sr)"
   ]
  },
  {
   "cell_type": "markdown",
   "metadata": {
    "slideshow": {
     "slide_type": "slide"
    }
   },
   "source": [
    "## 特徴量のビート同期 ##\n",
    "\n",
    "* `librosa.util.sync`を用いるとビートとその他特徴量を同期させることができる\n",
    "    * 各ビートの間の成分を平均化したり中央値を取ったりできる"
   ]
  },
  {
   "cell_type": "code",
   "execution_count": 48,
   "metadata": {
    "slideshow": {
     "slide_type": "subslide"
    }
   },
   "outputs": [],
   "source": [
    "tempo, beat_frames = librosa.beat.beat_track(y=y_percussive, sr=sr)\n",
    "# 13次元のMFCCおよびΔを抽出\n",
    "mfcc = librosa.feature.mfcc(y=y, sr=sr, n_mfcc=13)\n",
    "mfcc_delta = librosa.feature.delta(mfcc)"
   ]
  },
  {
   "cell_type": "code",
   "execution_count": 49,
   "metadata": {
    "slideshow": {
     "slide_type": "subslide"
    }
   },
   "outputs": [
    {
     "name": "stdout",
     "output_type": "stream",
     "text": [
      "(98,)\n",
      "(13, 2647)\n",
      "(13, 2647)\n"
     ]
    }
   ],
   "source": [
    "print(beat_frames.shape)\n",
    "print(mfcc.shape)\n",
    "print(mfcc_delta.shape)"
   ]
  },
  {
   "cell_type": "code",
   "execution_count": 50,
   "metadata": {
    "slideshow": {
     "slide_type": "subslide"
    }
   },
   "outputs": [],
   "source": [
    "# ビート間の平均値を用いてMFCCとΔMFCCをビートに同期\n",
    "beat_mfcc_delta = librosa.util.sync(np.vstack([mfcc, mfcc_delta]),\n",
    "                                    beat_frames)"
   ]
  },
  {
   "cell_type": "code",
   "execution_count": 51,
   "metadata": {
    "slideshow": {
     "slide_type": "fragment"
    }
   },
   "outputs": [
    {
     "data": {
      "text/plain": [
       "(26, 99)"
      ]
     },
     "execution_count": 51,
     "metadata": {},
     "output_type": "execute_result"
    }
   ],
   "source": [
    "beat_mfcc_delta.shape"
   ]
  },
  {
   "cell_type": "code",
   "execution_count": 52,
   "metadata": {
    "slideshow": {
     "slide_type": "subslide"
    }
   },
   "outputs": [],
   "source": [
    "# 調波成分からクロマベクトルを推定\n",
    "chromagram = librosa.feature.chroma_cqt(y=y_harmonic, sr=sr)\n",
    "\n",
    "# ビート間の中央値を用いてクロマベクトルをビートに同期\n",
    "beat_chroma = librosa.util.sync(chromagram, beat_frames, aggregate=np.median)\n",
    "\n",
    "# ビート同期特徴量(クロマベクトル、MFCC、ΔMFCC)を結合\n",
    "beat_features = np.vstack([beat_chroma, beat_mfcc_delta])"
   ]
  },
  {
   "cell_type": "code",
   "execution_count": 53,
   "metadata": {
    "slideshow": {
     "slide_type": "subslide"
    }
   },
   "outputs": [
    {
     "data": {
      "text/plain": [
       "(38, 99)"
      ]
     },
     "execution_count": 53,
     "metadata": {},
     "output_type": "execute_result"
    }
   ],
   "source": [
    "# MFCC 13dim, ΔMFCC 13dim, クロマベクトル(12音階; 12dim)\n",
    "beat_features.shape"
   ]
  },
  {
   "cell_type": "code",
   "execution_count": 54,
   "metadata": {
    "slideshow": {
     "slide_type": "subslide"
    }
   },
   "outputs": [
    {
     "data": {
      "text/plain": [
       "<matplotlib.collections.QuadMesh at 0x113a0ac50>"
      ]
     },
     "execution_count": 54,
     "metadata": {},
     "output_type": "execute_result"
    },
    {
     "data": {
      "text/html": [
       "<img src=\"/images/5/15.png\" />"
      ],
      "text/plain": [
       "<Figure size 576x432 with 2 Axes>"
      ]
     },
     "metadata": {},
     "output_type": "display_data"
    }
   ],
   "source": [
    "fig = plt.figure(figsize=(8,6))\n",
    "ax = fig.add_subplot(211)\n",
    "librosa.display.specshow(log_cqt_power, x_axis=\"time\", y_axis=\"cqt_hz\")\n",
    "log_beat_features = librosa.amplitude_to_db(np.abs(beat_features), ref=np.max)\n",
    "ax = fig.add_subplot(212)\n",
    "ax.pcolormesh(log_beat_features)"
   ]
  },
  {
   "cell_type": "markdown",
   "metadata": {
    "slideshow": {
     "slide_type": "slide"
    }
   },
   "source": [
    "## まとめ ##\n",
    "\n",
    "* librosaを用いた音楽情報検索(MIR)について説明\n",
    "    * 特徴量抽出、可視化、音源分離、ビート推定\n",
    "* 音楽データに対する探索的分析の手段の一つ"
   ]
  },
  {
   "cell_type": "markdown",
   "metadata": {
    "slideshow": {
     "slide_type": "slide"
    }
   },
   "source": []
  },
  {
   "cell_type": "markdown",
   "metadata": {
    "slideshow": {
     "slide_type": "slide"
    }
   },
   "source": [
    "## 以下補足およびおまけ ##"
   ]
  },
  {
   "cell_type": "markdown",
   "metadata": {
    "slideshow": {
     "slide_type": "slide"
    }
   },
   "source": [
    "## `librosa.decompose`による音源分離 ##\n",
    "\n",
    "* NMFによるモノラル音源分離を行う\n",
    "    * スペクトログラムを行列と見て`scikit-learn`のNMFに投げる\n",
    "    * アクティベーション行列と基底行列に分解\n",
    "    * 教師なし音源分離が可能"
   ]
  },
  {
   "cell_type": "markdown",
   "metadata": {
    "slideshow": {
     "slide_type": "subslide"
    }
   },
   "source": [
    "### NMF ###\n",
    "\n",
    "* 非負値行列$\\textbf{X}$を$\\textbf{X} \\simeq \\textbf{WH} $と分解する手法\n",
    "    * Hを基底行列、Wをアクティベーションと呼ぶ\n",
    "* scikit-learnのNMFでは下記目的関数を最小化\n",
    "\n",
    "$$0.5 * ||\\textbf{X} - \\textbf{WH}||_{Fro}^2\n",
    "+ \\alpha l1_{ratio} ||vec(W)||_1\n",
    "+ \\alpha l1_{ratio} ||vec(H)||_1\n",
    "+ 0.5 \\alpha (1 - l1_{ratio}) ||W||_{Fro}^2\n",
    "+ 0.5 \\alpha (1 - l1_{ratio}) ||H||_{Fro}^2\n",
    "$$\n",
    "\n",
    "* 通常最適化には補助関数法が使われる"
   ]
  },
  {
   "cell_type": "code",
   "execution_count": 55,
   "metadata": {
    "slideshow": {
     "slide_type": "subslide"
    }
   },
   "outputs": [],
   "source": [
    "D = librosa.stft(y)\n",
    "S, phase = librosa.magphase(D)\n",
    "comps, acts = librosa.decompose.decompose(S, n_components=8, sort=True)\n",
    "S_approx = comps @ acts"
   ]
  },
  {
   "cell_type": "code",
   "execution_count": 56,
   "metadata": {
    "slideshow": {
     "slide_type": "subslide"
    }
   },
   "outputs": [
    {
     "name": "stdout",
     "output_type": "stream",
     "text": [
      "(1025, 8)\n",
      "(8, 2647)\n",
      "(1025, 2647) (1025, 2647)\n"
     ]
    }
   ],
   "source": [
    "print(comps.shape)\n",
    "print(acts.shape)\n",
    "print(S.shape, S_approx.shape)"
   ]
  },
  {
   "cell_type": "code",
   "execution_count": 57,
   "metadata": {
    "slideshow": {
     "slide_type": "skip"
    }
   },
   "outputs": [],
   "source": [
    "def plot_decomposed(S, comps, acts, S_approx):\n",
    "    fig = plt.figure(figsize=(10,8))\n",
    "    ax = fig.add_subplot(311)\n",
    "    librosa.display.specshow(librosa.amplitude_to_db(S, ref=np.max), y_axis='log', x_axis='time')\n",
    "    ax.set_title('Input spectrogram'); plt.colorbar(format='%+2.0f dB')\n",
    "\n",
    "    ax = fig.add_subplot(323)\n",
    "    librosa.display.specshow(librosa.amplitude_to_db(comps, ref=np.max), y_axis='log')\n",
    "    plt.colorbar(format='%+2.0f dB'); ax.set_title('Components')\n",
    "\n",
    "    ax = fig.add_subplot(324)\n",
    "    librosa.display.specshow(acts, x_axis='time')\n",
    "    ax.set_ylabel('Components'); ax.set_title('Activations')\n",
    "    plt.colorbar()\n",
    "\n",
    "    ax = fig.add_subplot(313)\n",
    "    librosa.display.specshow(librosa.amplitude_to_db(S_approx, ref=np.max), y_axis='log', x_axis='time')\n",
    "    plt.colorbar(format='%+2.0f dB')\n",
    "    ax.set_title('Reconstructed spectrogram')\n",
    "\n",
    "    fig.tight_layout()"
   ]
  },
  {
   "cell_type": "code",
   "execution_count": 58,
   "metadata": {
    "slideshow": {
     "slide_type": "subslide"
    }
   },
   "outputs": [
    {
     "data": {
      "text/html": [
       "<img src=\"/images/5/16.png\" />"
      ],
      "text/plain": [
       "<Figure size 720x576 with 8 Axes>"
      ]
     },
     "metadata": {},
     "output_type": "display_data"
    }
   ],
   "source": [
    "plot_decomposed(S, comps, acts, S_approx)"
   ]
  },
  {
   "cell_type": "code",
   "execution_count": 59,
   "metadata": {
    "slideshow": {
     "slide_type": "subslide"
    }
   },
   "outputs": [],
   "source": [
    "S_partly = comps[:, :3] @ acts[:3, :]"
   ]
  },
  {
   "cell_type": "code",
   "execution_count": 60,
   "metadata": {
    "slideshow": {
     "slide_type": "subslide"
    }
   },
   "outputs": [
    {
     "data": {
      "text/html": [
       "<img src=\"/images/5/17.png\" />"
      ],
      "text/plain": [
       "<Figure size 720x576 with 8 Axes>"
      ]
     },
     "metadata": {},
     "output_type": "display_data"
    }
   ],
   "source": [
    "plot_decomposed(S, comps[:, :3], acts[:3, :], S_partly)"
   ]
  },
  {
   "cell_type": "code",
   "execution_count": 61,
   "metadata": {
    "slideshow": {
     "slide_type": "subslide"
    }
   },
   "outputs": [
    {
     "data": {
      "text/html": [
       "<audio controls preload=\"none\"><source src=\"/wav/5/9.wav\" type=\"audio/wav\" /></audio>"
      ],
      "text/plain": [
       "<IPython.lib.display.Audio object>"
      ]
     },
     "execution_count": 61,
     "metadata": {},
     "output_type": "execute_result"
    }
   ],
   "source": [
    "y_partly = librosa.istft(S_partly * phase)\n",
    "IPython.display.Audio(y_partly, rate=sr)"
   ]
  },
  {
   "cell_type": "markdown",
   "metadata": {
    "slideshow": {
     "slide_type": "subslide"
    }
   },
   "source": [
    "## decomposeの用途 ##\n",
    "\n",
    "* 視聴用途の音源分離には(このままでは)向かない\n",
    "    * 振幅スペクトルのみを分解するが、位相情報は元信号の元を使うため歪が大きい\n",
    "    * 基底数を増加した上で適切なクラスタリングを施して使用したり、事前学習した楽器別の基底などを用いて分離を行うなどの工夫が必要\n",
    "* 音響イベント検出のための特徴量に用いることも可能"
   ]
  }
 ],
 "metadata": {
  "celltoolbar": "Slideshow",
  "kernelspec": {
   "display_name": "Python 3",
   "language": "python",
   "name": "python3"
  },
  "language_info": {
   "codemirror_mode": {
    "name": "ipython",
    "version": 3
   },
   "file_extension": ".py",
   "mimetype": "text/x-python",
   "name": "python",
   "nbconvert_exporter": "python",
   "pygments_lexer": "ipython3",
   "version": "3.7.3"
  },
  "nikola": {
   "category": "",
   "date": "2018-06-16 14:30:00 UTC+09:00",
   "description": "",
   "link": "",
   "slug": "5",
   "tags": "python,pycon,numpy,scipy,librosa",
   "title": "2018/5/19にPycon Osakaで'librosaで始める音楽情報処理'というタイトルで発表しました",
   "type": "text"
  }
 },
 "nbformat": 4,
 "nbformat_minor": 4
}
