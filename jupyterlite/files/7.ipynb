{
 "cells": [
  {
   "cell_type": "markdown",
   "metadata": {},
   "source": [
    "## ndarrayのfortran flagと実際のメモリ配列について ##\n",
    "\n",
    "\n",
    "### 要約 ###\n",
    "\n",
    "* ndarrayで`.T`で転置を行った場合、実際のメモリ上の配列は変更されず、`.flags`で確認できるC形式配列(row-major)であるかFortran形式配列(column-major)であるかのフラグが入れ替わるのみ\n",
    "* `np.save`で保存する場合も上記フラグは保たれたまま保存されるため、実際のレイアウトを転置させたい場合はndarrayに対し`.copy()`を読んだ上で保存する必要がある"
   ]
  },
  {
   "cell_type": "markdown",
   "metadata": {},
   "source": [
    "### 実験 ###"
   ]
  },
  {
   "cell_type": "code",
   "execution_count": 1,
   "metadata": {},
   "outputs": [],
   "source": [
    "import numpy as np"
   ]
  },
  {
   "cell_type": "markdown",
   "metadata": {},
   "source": [
    "2x2のndarrayを生成する。"
   ]
  },
  {
   "cell_type": "code",
   "execution_count": 2,
   "metadata": {},
   "outputs": [
    {
     "data": {
      "text/plain": [
       "array([[1, 2],\n",
       "       [3, 4]])"
      ]
     },
     "execution_count": 2,
     "metadata": {},
     "output_type": "execute_result"
    }
   ],
   "source": [
    "a = np.array([[1,2], [3,4]])\n",
    "a"
   ]
  },
  {
   "cell_type": "markdown",
   "metadata": {},
   "source": [
    "`.T`で転置を取ると行と列が入れ替わる。"
   ]
  },
  {
   "cell_type": "code",
   "execution_count": 3,
   "metadata": {},
   "outputs": [
    {
     "data": {
      "text/plain": [
       "array([[1, 3],\n",
       "       [2, 4]])"
      ]
     },
     "execution_count": 3,
     "metadata": {},
     "output_type": "execute_result"
    }
   ],
   "source": [
    "a.T"
   ]
  },
  {
   "cell_type": "markdown",
   "metadata": {},
   "source": [
    "元のndarrayの`.flags`を表示すると、`C_CONTIGUOUS`が`True`となっている一方、`F_CONTIGUOUS`がFalseとなっていることが分かる。`C_CONTIGUOUS`はC形式配列であるかを表すフラグであり、`F_CONTIGUOUS`はFortran形式配列であるかを表すフラグである。"
   ]
  },
  {
   "cell_type": "code",
   "execution_count": 4,
   "metadata": {},
   "outputs": [
    {
     "data": {
      "text/plain": [
       "  C_CONTIGUOUS : True\n",
       "  F_CONTIGUOUS : False\n",
       "  OWNDATA : True\n",
       "  WRITEABLE : True\n",
       "  ALIGNED : True\n",
       "  WRITEBACKIFCOPY : False\n",
       "  UPDATEIFCOPY : False"
      ]
     },
     "execution_count": 4,
     "metadata": {},
     "output_type": "execute_result"
    }
   ],
   "source": [
    "a.flags"
   ]
  },
  {
   "cell_type": "markdown",
   "metadata": {},
   "source": [
    "一方`.T`を呼んだ後のndarrayの`.flags`を表示すると、`C_CONTIGUOUS`が`False`に変化し、一方`F_CONTIGUOUS`がTrueとなっている。"
   ]
  },
  {
   "cell_type": "code",
   "execution_count": 5,
   "metadata": {},
   "outputs": [
    {
     "data": {
      "text/plain": [
       "  C_CONTIGUOUS : False\n",
       "  F_CONTIGUOUS : True\n",
       "  OWNDATA : False\n",
       "  WRITEABLE : True\n",
       "  ALIGNED : True\n",
       "  WRITEBACKIFCOPY : False\n",
       "  UPDATEIFCOPY : False"
      ]
     },
     "execution_count": 5,
     "metadata": {},
     "output_type": "execute_result"
    }
   ],
   "source": [
    "a.T.flags"
   ]
  },
  {
   "cell_type": "markdown",
   "metadata": {},
   "source": [
    "### `np.save`での保存時の形式 ###\n",
    "\n",
    "`.T`で転置を取ると`.flags`のC形式配列であるかFortran形式配列であるかのフラグが入れ替わることが分かったが、実際の格納形式がどうなっているかを知るために、`np.save`を用いて保存した`.npy`ファイルに対して`!hexdump -Cv`を実行することでバイナリの中身を調べる。ここで`hexdump`コマンドの`-C`はASCII表示を行うためのオプションであり、`-v`は全データを表示するためのオプションである(おそらくBSD系のhexdumpのみ)。"
   ]
  },
  {
   "cell_type": "markdown",
   "metadata": {},
   "source": [
    "まず、`np.save`で転置前後の`ndarray`を保存する。"
   ]
  },
  {
   "cell_type": "code",
   "execution_count": 6,
   "metadata": {},
   "outputs": [],
   "source": [
    "np.save(\"a.npy\", a)\n",
    "np.save(\"a.T.npy\", a.T)"
   ]
  },
  {
   "cell_type": "markdown",
   "metadata": {},
   "source": [
    "これらを`np.load`で再度読み込み直すと、`.flags`は読み込んだ後も保持されていることが分かる。"
   ]
  },
  {
   "cell_type": "code",
   "execution_count": 7,
   "metadata": {},
   "outputs": [
    {
     "data": {
      "text/plain": [
       "  C_CONTIGUOUS : True\n",
       "  F_CONTIGUOUS : False\n",
       "  OWNDATA : True\n",
       "  WRITEABLE : True\n",
       "  ALIGNED : True\n",
       "  WRITEBACKIFCOPY : False\n",
       "  UPDATEIFCOPY : False"
      ]
     },
     "execution_count": 7,
     "metadata": {},
     "output_type": "execute_result"
    }
   ],
   "source": [
    "np.load(\"a.npy\").flags"
   ]
  },
  {
   "cell_type": "code",
   "execution_count": 8,
   "metadata": {},
   "outputs": [
    {
     "data": {
      "text/plain": [
       "  C_CONTIGUOUS : False\n",
       "  F_CONTIGUOUS : True\n",
       "  OWNDATA : False\n",
       "  WRITEABLE : True\n",
       "  ALIGNED : True\n",
       "  WRITEBACKIFCOPY : False\n",
       "  UPDATEIFCOPY : False"
      ]
     },
     "execution_count": 8,
     "metadata": {},
     "output_type": "execute_result"
    }
   ],
   "source": [
    "np.load(\"a.T.npy\").flags"
   ]
  },
  {
   "cell_type": "markdown",
   "metadata": {},
   "source": [
    "ディスクへダンプした際の実際の格納形式がどうなっているかをhexdumpコマンドを用いて調べる。"
   ]
  },
  {
   "cell_type": "code",
   "execution_count": 9,
   "metadata": {},
   "outputs": [
    {
     "name": "stdout",
     "output_type": "stream",
     "text": [
      "00000000  93 4e 55 4d 50 59 01 00  76 00 7b 27 64 65 73 63  |.NUMPY..v.{'desc|\r\n",
      "00000010  72 27 3a 20 27 3c 69 38  27 2c 20 27 66 6f 72 74  |r': '<i8', 'fort|\r\n",
      "00000020  72 61 6e 5f 6f 72 64 65  72 27 3a 20 46 61 6c 73  |ran_order': Fals|\r\n",
      "00000030  65 2c 20 27 73 68 61 70  65 27 3a 20 28 32 2c 20  |e, 'shape': (2, |\r\n",
      "00000040  32 29 2c 20 7d 20 20 20  20 20 20 20 20 20 20 20  |2), }           |\r\n",
      "00000050  20 20 20 20 20 20 20 20  20 20 20 20 20 20 20 20  |                |\r\n",
      "00000060  20 20 20 20 20 20 20 20  20 20 20 20 20 20 20 20  |                |\r\n",
      "00000070  20 20 20 20 20 20 20 20  20 20 20 20 20 20 20 0a  |               .|\r\n",
      "00000080  01 00 00 00 00 00 00 00  02 00 00 00 00 00 00 00  |................|\r\n",
      "00000090  03 00 00 00 00 00 00 00  04 00 00 00 00 00 00 00  |................|\r\n",
      "000000a0\r\n"
     ]
    }
   ],
   "source": [
    "!hexdump -Cv a.npy"
   ]
  },
  {
   "cell_type": "code",
   "execution_count": 10,
   "metadata": {},
   "outputs": [
    {
     "name": "stdout",
     "output_type": "stream",
     "text": [
      "00000000  93 4e 55 4d 50 59 01 00  76 00 7b 27 64 65 73 63  |.NUMPY..v.{'desc|\r\n",
      "00000010  72 27 3a 20 27 3c 69 38  27 2c 20 27 66 6f 72 74  |r': '<i8', 'fort|\r\n",
      "00000020  72 61 6e 5f 6f 72 64 65  72 27 3a 20 54 72 75 65  |ran_order': True|\r\n",
      "00000030  2c 20 27 73 68 61 70 65  27 3a 20 28 32 2c 20 32  |, 'shape': (2, 2|\r\n",
      "00000040  29 2c 20 7d 20 20 20 20  20 20 20 20 20 20 20 20  |), }            |\r\n",
      "00000050  20 20 20 20 20 20 20 20  20 20 20 20 20 20 20 20  |                |\r\n",
      "00000060  20 20 20 20 20 20 20 20  20 20 20 20 20 20 20 20  |                |\r\n",
      "00000070  20 20 20 20 20 20 20 20  20 20 20 20 20 20 20 0a  |               .|\r\n",
      "00000080  01 00 00 00 00 00 00 00  02 00 00 00 00 00 00 00  |................|\r\n",
      "00000090  03 00 00 00 00 00 00 00  04 00 00 00 00 00 00 00  |................|\r\n",
      "000000a0\r\n"
     ]
    }
   ],
   "source": [
    "!hexdump -Cv a.T.npy"
   ]
  },
  {
   "cell_type": "markdown",
   "metadata": {},
   "source": [
    "ヘッダーの`fortran_order`が変化していることが分かる。更にbashのプロセス置換で両者のdiffを見てみる。"
   ]
  },
  {
   "cell_type": "code",
   "execution_count": 11,
   "metadata": {},
   "outputs": [
    {
     "name": "stdout",
     "output_type": "stream",
     "text": [
      "3,5c3,5\n",
      "< 00000020  72 61 6e 5f 6f 72 64 65  72 27 3a 20 46 61 6c 73  |ran_order': Fals|\n",
      "< 00000030  65 2c 20 27 73 68 61 70  65 27 3a 20 28 32 2c 20  |e, 'shape': (2, |\n",
      "< 00000040  32 29 2c 20 7d 20 20 20  20 20 20 20 20 20 20 20  |2), }           |\n",
      "---\n",
      "> 00000020  72 61 6e 5f 6f 72 64 65  72 27 3a 20 54 72 75 65  |ran_order': True|\n",
      "> 00000030  2c 20 27 73 68 61 70 65  27 3a 20 28 32 2c 20 32  |, 'shape': (2, 2|\n",
      "> 00000040  29 2c 20 7d 20 20 20 20  20 20 20 20 20 20 20 20  |), }            |\n"
     ]
    }
   ],
   "source": [
    "%%bash\n",
    "diff <(hexdump -Cv a.npy) <(hexdump -Cv a.T.npy)"
   ]
  },
  {
   "cell_type": "markdown",
   "metadata": {},
   "source": [
    "ヘッダーのみ差分が存在し、実際のデータが格納されている後半部は変化していないことが分かる。"
   ]
  },
  {
   "cell_type": "markdown",
   "metadata": {},
   "source": [
    "### 転置した状態のまま保存する方法 ###"
   ]
  },
  {
   "cell_type": "markdown",
   "metadata": {},
   "source": [
    "ndarrayに対して`.copy()`を呼んだ上で保存すれば良い。下記に実例を示す。\n",
    "まず、`.copy()`を呼んだ後の`.flags`を表示する。"
   ]
  },
  {
   "cell_type": "code",
   "execution_count": 12,
   "metadata": {},
   "outputs": [
    {
     "data": {
      "text/plain": [
       "  C_CONTIGUOUS : True\n",
       "  F_CONTIGUOUS : False\n",
       "  OWNDATA : True\n",
       "  WRITEABLE : True\n",
       "  ALIGNED : True\n",
       "  WRITEBACKIFCOPY : False\n",
       "  UPDATEIFCOPY : False"
      ]
     },
     "execution_count": 12,
     "metadata": {},
     "output_type": "execute_result"
    }
   ],
   "source": [
    "a.T.copy().flags"
   ]
  },
  {
   "cell_type": "markdown",
   "metadata": {},
   "source": [
    "転置したにもかかわらず`C_CONTIGUOUS`がTrueになっていることが分かる。\n",
    "更にこのndarrayを`np.save`で保存し、`hexdump`で中身を見てみる。"
   ]
  },
  {
   "cell_type": "code",
   "execution_count": 13,
   "metadata": {},
   "outputs": [],
   "source": [
    "np.save(\"a.T.copy.npy\", a.T.copy())"
   ]
  },
  {
   "cell_type": "code",
   "execution_count": 14,
   "metadata": {},
   "outputs": [
    {
     "name": "stdout",
     "output_type": "stream",
     "text": [
      "00000000  93 4e 55 4d 50 59 01 00  76 00 7b 27 64 65 73 63  |.NUMPY..v.{'desc|\r\n",
      "00000010  72 27 3a 20 27 3c 69 38  27 2c 20 27 66 6f 72 74  |r': '<i8', 'fort|\r\n",
      "00000020  72 61 6e 5f 6f 72 64 65  72 27 3a 20 46 61 6c 73  |ran_order': Fals|\r\n",
      "00000030  65 2c 20 27 73 68 61 70  65 27 3a 20 28 32 2c 20  |e, 'shape': (2, |\r\n",
      "00000040  32 29 2c 20 7d 20 20 20  20 20 20 20 20 20 20 20  |2), }           |\r\n",
      "00000050  20 20 20 20 20 20 20 20  20 20 20 20 20 20 20 20  |                |\r\n",
      "*\r\n",
      "00000070  20 20 20 20 20 20 20 20  20 20 20 20 20 20 20 0a  |               .|\r\n",
      "00000080  01 00 00 00 00 00 00 00  03 00 00 00 00 00 00 00  |................|\r\n",
      "00000090  02 00 00 00 00 00 00 00  04 00 00 00 00 00 00 00  |................|\r\n",
      "000000a0\r\n"
     ]
    }
   ],
   "source": [
    "!hexdump -C a.T.copy.npy"
   ]
  },
  {
   "cell_type": "markdown",
   "metadata": {},
   "source": [
    "`C_CONTIGUOUS`がTrue、`F_CONTIGUOUS`がFalseになっていたことからも分かるように、ヘッダーの`fortran_order`がFalseになっている。"
   ]
  },
  {
   "cell_type": "markdown",
   "metadata": {},
   "source": [
    "当然、再度`np.load`で読み込んだ場合でもこの`.flags`は保たれている。"
   ]
  },
  {
   "cell_type": "code",
   "execution_count": 15,
   "metadata": {},
   "outputs": [
    {
     "data": {
      "text/plain": [
       "  C_CONTIGUOUS : True\n",
       "  F_CONTIGUOUS : False\n",
       "  OWNDATA : True\n",
       "  WRITEABLE : True\n",
       "  ALIGNED : True\n",
       "  WRITEBACKIFCOPY : False\n",
       "  UPDATEIFCOPY : False"
      ]
     },
     "execution_count": 15,
     "metadata": {},
     "output_type": "execute_result"
    }
   ],
   "source": [
    "np.load(\"a.T.copy.npy\").flags"
   ]
  },
  {
   "cell_type": "markdown",
   "metadata": {},
   "source": [
    "元のndarrayと、転置した上で`.copy()`を呼んだ後のndarrayを`np.save`したバイナリを比較してみる。"
   ]
  },
  {
   "cell_type": "code",
   "execution_count": 16,
   "metadata": {},
   "outputs": [
    {
     "name": "stdout",
     "output_type": "stream",
     "text": [
      "9,10c9,10\n",
      "< 00000080  01 00 00 00 00 00 00 00  02 00 00 00 00 00 00 00  |................|\n",
      "< 00000090  03 00 00 00 00 00 00 00  04 00 00 00 00 00 00 00  |................|\n",
      "---\n",
      "> 00000080  01 00 00 00 00 00 00 00  03 00 00 00 00 00 00 00  |................|\n",
      "> 00000090  02 00 00 00 00 00 00 00  04 00 00 00 00 00 00 00  |................|\n"
     ]
    }
   ],
   "source": [
    "%%bash\n",
    "diff <(hexdump -Cv a.npy) <(hexdump -Cv a.T.copy.npy)"
   ]
  },
  {
   "cell_type": "markdown",
   "metadata": {},
   "source": [
    "両者ともにC形式配列となっているため、純粋にデータ部の並びのみが異なる。"
   ]
  },
  {
   "cell_type": "markdown",
   "metadata": {},
   "source": [
    "同様に転置を取った場合と、その上で`.copy()`を呼んだ場合のバイナリを比較してみる。"
   ]
  },
  {
   "cell_type": "code",
   "execution_count": 17,
   "metadata": {},
   "outputs": [
    {
     "name": "stdout",
     "output_type": "stream",
     "text": [
      "3,5c3,5\n",
      "< 00000020  72 61 6e 5f 6f 72 64 65  72 27 3a 20 54 72 75 65  |ran_order': True|\n",
      "< 00000030  2c 20 27 73 68 61 70 65  27 3a 20 28 32 2c 20 32  |, 'shape': (2, 2|\n",
      "< 00000040  29 2c 20 7d 20 20 20 20  20 20 20 20 20 20 20 20  |), }            |\n",
      "---\n",
      "> 00000020  72 61 6e 5f 6f 72 64 65  72 27 3a 20 46 61 6c 73  |ran_order': Fals|\n",
      "> 00000030  65 2c 20 27 73 68 61 70  65 27 3a 20 28 32 2c 20  |e, 'shape': (2, |\n",
      "> 00000040  32 29 2c 20 7d 20 20 20  20 20 20 20 20 20 20 20  |2), }           |\n",
      "9,10c9,10\n",
      "< 00000080  01 00 00 00 00 00 00 00  02 00 00 00 00 00 00 00  |................|\n",
      "< 00000090  03 00 00 00 00 00 00 00  04 00 00 00 00 00 00 00  |................|\n",
      "---\n",
      "> 00000080  01 00 00 00 00 00 00 00  03 00 00 00 00 00 00 00  |................|\n",
      "> 00000090  02 00 00 00 00 00 00 00  04 00 00 00 00 00 00 00  |................|\n"
     ]
    }
   ],
   "source": [
    "%%bash\n",
    "diff <(hexdump -Cv a.T.npy) <(hexdump -Cv a.T.copy.npy)"
   ]
  },
  {
   "cell_type": "markdown",
   "metadata": {},
   "source": [
    "この場合、ヘッダーもデータ部も異なっていることが分かる。"
   ]
  },
  {
   "cell_type": "markdown",
   "metadata": {},
   "source": [
    "### なぜこの記事を書いたか ###\n",
    "\n",
    "とある`.npy`ファイルのデータ部分を直接読み込むCプログラムを触っていた際に、`.T`で転置した`.npy`を読み込んでも読み込んだデータ部分が全く変化していないということが発生したためである。\n",
    "当該プログラムではヘッダーの`fortran_order`を完全に無視していたため、`.T`しただけのndarrayを保存した`.npy`ではデータ部分が転置されておらず、意図しない動作となってしまっていた。これを解決するためには前述のように`.copy()`を呼んだ上で保存した`.npy`ファイルを読み込む必要があった。"
   ]
  }
 ],
 "metadata": {
  "kernelspec": {
   "display_name": "Python 3",
   "language": "python",
   "name": "python3"
  },
  "language_info": {
   "codemirror_mode": {
    "name": "ipython",
    "version": 3
   },
   "file_extension": ".py",
   "mimetype": "text/x-python",
   "name": "python",
   "nbconvert_exporter": "python",
   "pygments_lexer": "ipython3",
   "version": "3.6.5"
  },
  "nikola": {
   "category": "",
   "date": "2018-07-30 23:30:00 UTC+09:00",
   "description": "",
   "link": "",
   "slug": "7",
   "tags": "python,numpy,ndarray,hexdump",
   "title": "ndarrayのfortran flagと実際のメモリ配列について",
   "type": "text"
  }
 },
 "nbformat": 4,
 "nbformat_minor": 2
}
